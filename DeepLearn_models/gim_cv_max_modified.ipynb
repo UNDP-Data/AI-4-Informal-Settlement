{
 "cells": [
  {
   "cell_type": "code",
   "execution_count": 1,
   "metadata": {},
   "outputs": [
    {
     "name": "stdout",
     "output_type": "stream",
     "text": [
      "- timbermafia has configured handlers:\n",
      "  - <StreamHandler stdout (NOTSET)>\n",
      "- name gim-cv given, generated named logger.\n"
     ]
    }
   ],
   "source": [
    "\"\"\"\n",
    "Trains a Segmentalist model on a dataset and saves the resulting model checkpoints.\n",
    "\n",
    "\n",
    "\"\"\"\n",
    "import re\n",
    "import operator\n",
    "import logging\n",
    "import pickle\n",
    "import time\n",
    "import argparse\n",
    "\n",
    "import rasterio\n",
    "import numpy as np\n",
    "import matplotlib.pyplot as plt\n",
    "import dask\n",
    "import dask.array as da\n",
    "import tensorflow as tf\n",
    "import tensorflow_addons as tfa\n",
    "import kerastuner as kt\n",
    "import sys\n",
    "import pprint\n",
    "import yaml\n",
    "import uuid\n",
    "import albumentations as A\n",
    "import joblib \n",
    "\n",
    "import gim_cv.config as cfg\n",
    "import gim_cv.utils as utils\n",
    "import gim_cv.losses as losses\n",
    "import gim_cv.datasets as datasets\n",
    "import gim_cv.tools.keras_one_cycle_clr as clr\n",
    "\n",
    "from functools import partial, reduce\n",
    "from pathlib import Path\n",
    "from time import perf_counter as pc\n",
    "\n",
    "#from sklearn.externals import joblib\n",
    "from tensorflow.keras.models import load_model\n",
    "from distributed import Client, LocalCluster\n",
    "from tensorflow.keras.preprocessing import image\n",
    "from tensorflow.keras import backend as K\n",
    "from tensorflow_addons.optimizers import SWA\n",
    "#from zarr.errors import ArrayNotFoundError\n",
    "\n",
    "from gim_cv.models.segmentalist import Segmentalist\n",
    "from gim_cv.training import TrainingDataset, pair_batch_generator, CompositeTrainingDataset, fancy_batch_generator\n",
    "from gim_cv.datasets import (get_dataset,\n",
    "                             get_image_training_pipeline_by_tag,\n",
    "                             get_binary_mask_training_pipeline_by_tag,\n",
    "                             list_datasets)\n",
    "from gim_cv.preprocessing import get_aug_datagen, FancyPCA, strong_aug, balanced_oversample\n",
    "from gim_cv.utils import plot_pair, parse_kwarg_str\n",
    "from gim_cv.tuners import HyperbandOCP\n",
    "###\n",
    "import os\n",
    "import time\n",
    "\n",
    "# the model saving/loading utility functions live in the utils.py module in bin with the scripts\n",
    "sys.path.append('../../bin')\n",
    "from bin import utils\n",
    "from PIL import Image\n",
    "\n",
    "from contextlib import contextmanager\n",
    "\n",
    "from numpy.lib.stride_tricks import as_strided\n",
    "\n",
    "import math\n",
    "import imageio\n",
    "import numbers\n",
    "import rioxarray as rx"
   ]
  },
  {
   "cell_type": "code",
   "execution_count": 4,
   "metadata": {
    "tags": [
     "test"
    ]
   },
   "outputs": [],
   "source": [
    "# TrainingDataset??"
   ]
  },
  {
   "cell_type": "code",
   "execution_count": 5,
   "metadata": {},
   "outputs": [
    {
     "name": "stdout",
     "output_type": "stream",
     "text": [
      "[PosixPath('/home/root/TRAIN/raster/top_60cm_qb_area1.tif')]\n",
      "[PosixPath('/home/root/TRAIN/fullset/ground_truth/top_60cm_qb_area1.tif')]\n"
     ]
    }
   ],
   "source": [
    "datasets.Dataset(tag='train_tif_2',\n",
    "                            image_paths = [ '/home/root/TRAIN/raster/top_60cm_qb_area1.tif'],\n",
    "                            mask_paths = ['/home/root/TRAIN/fullset/ground_truth/top_60cm_qb_area1.tif'], # say this one doesn't have any ground truth\n",
    "                            spatial_resolution=0.6)\n",
    "\n",
    "print (datasets.get_dataset('train_tif_2').image_paths)\n",
    "print (datasets.get_dataset('train_tif_2').mask_paths)"
   ]
  },
  {
   "cell_type": "code",
   "execution_count": 6,
   "metadata": {},
   "outputs": [],
   "source": [
    "# Preparing training data\n",
    "\n",
    "np.random.seed(cfg.seed)\n",
    "\n",
    "# set window/patch size\n",
    "patch_dims = (256, 256)\n",
    "\n",
    "# process necessary parser arguments\n",
    "layer_blocks_ = [int(n) for n in '2,2,2,2'.split(',')]\n",
    "residual_filters_ = [int(n) for n in '128,256,512,1024'.split(',')]\n",
    "initial_kernel_size_ = (7, 7)\n",
    "head_kernel_size_ = (1, 1)\n",
    "\n",
    "# decide partitioning into train/validation\n",
    "train_val_test_split = (0.7, 0.3)\n",
    "\n",
    "# --- assemble training datasets\n",
    "# get dataset tags - sort to fix order to identify different permutations for array caching\n",
    "dataset_tags = sorted(['train_tif_2'])\n",
    "# get each of the training datasets requested\n",
    "tdsets = []\n",
    "for ds_tag in ['train_tif_2']:\n",
    "    ds = datasets.get_dataset(ds_tag)\n",
    "    ds.spatial_resolution = 0.6 # Mohammed added this line\n",
    "    rf = ds.spatial_resolution/0.6 # Mohammed modified from 0.4 to 0.5\n",
    "    tdsets.append(ds.load_training_data(batch_size=4, train_val_test_split=train_val_test_split, seed=cfg.seed, window_size=256, overlap_tiles=True, resample_factor=rf))\n",
    "# combine them into one big (composite) training dataset\n",
    "if len(tdsets) == 1:\n",
    "    tds = tdsets[0]\n",
    "else:\n",
    "    tds = reduce(operator.add, tdsets)\n",
    "# create a string to identify the combination of datasets and the spatial resolution\n",
    "# used in saving model checkpoints to quickly identify training data used\n",
    "data_res_str = f\"data_{tds.tags_str}_target_res_{0.6}\"\n",
    "data_res_str += '_overlapping_tiles'\n",
    "# set the cache directory to save preprocessed arrays in an appropriately named directory\n",
    "tds.cache_directory = cfg.proc_data_path / Path(data_res_str)"
   ]
  },
  {
   "cell_type": "code",
   "execution_count": 7,
   "metadata": {},
   "outputs": [
    {
     "name": "stdout",
     "output_type": "stream",
     "text": [
      "\u001b[38;5;255m19:27:58  I  …iteTrainingDataset.prune  \u001b[0m\u001b[38;5;255m\u001b[38;5;231mSelecting training datasets to eliminate with\u001b[0m\u001b[38;5;255m               \u001b[0m\n",
      "\u001b[38;5;255m                                        \u001b[0m\u001b[38;5;255m\u001b[38;5;231mhas_empty_raster...\u001b[0m\u001b[38;5;255m                                         \u001b[0m\n",
      "\u001b[38;5;33m19:27:58  D  …iningDataset.load_arrays  \u001b[0m\u001b[38;5;33m\u001b[38;5;231mloading arrays\u001b[0m\u001b[38;5;33m                                              \u001b[0m\n",
      "\u001b[38;5;33m19:27:58  D  …iningDataset.load_arrays  \u001b[0m\u001b[38;5;33m\u001b[38;5;231mdone loading arrays\u001b[0m\u001b[38;5;33m                                         \u001b[0m\n",
      "\u001b[38;5;255m19:27:58  I  …iteTrainingDataset.prune  \u001b[0m\u001b[38;5;255m\u001b[38;5;231mRemoved 0 TrainingDatasets, leaving 1.\u001b[0m\u001b[38;5;255m                      \u001b[0m\n",
      "\u001b[38;5;33m19:27:58  D    TrainingDataset.prepare  \u001b[0m\u001b[38;5;33m\u001b[38;5;231mObtaining arrays for\u001b[0m\u001b[38;5;33m                                        \u001b[0m\n",
      "\u001b[38;5;33m                                        \u001b[0m\u001b[38;5;33m\u001b[38;5;231m/home/root/TRAIN/raster/top_60cm_qb_area1.tif, /home/root/TR\u001b[0m\u001b[38;5;33m\u001b[0m\n",
      "\u001b[38;5;33m                                        \u001b[0m\u001b[38;5;33m\u001b[38;5;231mAIN/fullset/ground_truth/top_60cm_qb_area1.tif...\u001b[0m\u001b[38;5;33m           \u001b[0m\n",
      "\u001b[38;5;33m19:27:58  D  …iningDataset.load_arrays  \u001b[0m\u001b[38;5;33m\u001b[38;5;231mloading arrays\u001b[0m\u001b[38;5;33m                                              \u001b[0m\n",
      "\u001b[38;5;33m19:27:58  D  …iningDataset.load_arrays  \u001b[0m\u001b[38;5;33m\u001b[38;5;231mdone loading arrays\u001b[0m\u001b[38;5;33m                                         \u001b[0m\n",
      "\u001b[38;5;33m19:27:58  D    TrainingDataset.prepare  \u001b[0m\u001b[38;5;33m\u001b[38;5;231mAligning spatial chunks...\u001b[0m\u001b[38;5;33m                                  \u001b[0m\n",
      "\u001b[38;5;33m19:27:58  D  …ngDataset.make_pipelines  \u001b[0m\u001b[38;5;33m\u001b[38;5;231mAssigning image pipeline...\u001b[0m\u001b[38;5;33m                                 \u001b[0m\n",
      "\u001b[38;5;33m19:27:58  D  …ngDataset.make_pipelines  \u001b[0m\u001b[38;5;33m\u001b[38;5;231mAssigning mask pipeline...\u001b[0m\u001b[38;5;33m                                  \u001b[0m\n",
      "\u001b[38;5;33m19:27:58  D       OverlappingTiler.fit  \u001b[0m\u001b[38;5;33m\u001b[38;5;231mDividing array with shape (2001, 2001, 3) into half-step\u001b[0m\u001b[38;5;33m    \u001b[0m\n",
      "\u001b[38;5;33m                                        \u001b[0m\u001b[38;5;33m\u001b[38;5;231moverlapping tiles...\u001b[0m\u001b[38;5;33m                                        \u001b[0m\n",
      "\u001b[38;5;33m19:27:58  D                  Tiler.fit  \u001b[0m\u001b[38;5;33m\u001b[38;5;231mShape going into stacker: (2001, 2001, 3)\u001b[0m\u001b[38;5;33m                   \u001b[0m\n",
      "\u001b[38;5;33m19:27:58  D     WindowFitter.transform  \u001b[0m\u001b[38;5;33m\u001b[38;5;231mTransforming input data to match integer number of\u001b[0m\u001b[38;5;33m          \u001b[0m\n",
      "\u001b[38;5;33m                                        \u001b[0m\u001b[38;5;33m\u001b[38;5;231mwindows...\u001b[0m\u001b[38;5;33m                                                  \u001b[0m\n",
      "\u001b[38;5;33m19:27:58  D     WindowFitter.transform  \u001b[0m\u001b[38;5;33m\u001b[38;5;231mTransforming input data to match integer number of\u001b[0m\u001b[38;5;33m          \u001b[0m\n",
      "\u001b[38;5;33m                                        \u001b[0m\u001b[38;5;33m\u001b[38;5;231mwindows...\u001b[0m\u001b[38;5;33m                                                  \u001b[0m\n",
      "\u001b[38;5;33m19:27:58  D                  Tiler.fit  \u001b[0m\u001b[38;5;33m\u001b[38;5;231mShape going into stacker: (1873, 2001, 3)\u001b[0m\u001b[38;5;33m                   \u001b[0m\n",
      "\u001b[38;5;33m19:27:58  D     WindowFitter.transform  \u001b[0m\u001b[38;5;33m\u001b[38;5;231mTransforming input data to match integer number of\u001b[0m\u001b[38;5;33m          \u001b[0m\n",
      "\u001b[38;5;33m                                        \u001b[0m\u001b[38;5;33m\u001b[38;5;231mwindows...\u001b[0m\u001b[38;5;33m                                                  \u001b[0m\n",
      "\u001b[38;5;33m19:27:58  D     WindowFitter.transform  \u001b[0m\u001b[38;5;33m\u001b[38;5;231mTransforming input data to match integer number of\u001b[0m\u001b[38;5;33m          \u001b[0m\n",
      "\u001b[38;5;33m                                        \u001b[0m\u001b[38;5;33m\u001b[38;5;231mwindows...\u001b[0m\u001b[38;5;33m                                                  \u001b[0m\n",
      "\u001b[38;5;33m19:27:58  D                  Tiler.fit  \u001b[0m\u001b[38;5;33m\u001b[38;5;231mShape going into stacker: (2001, 1873, 3)\u001b[0m\u001b[38;5;33m                   \u001b[0m\n",
      "\u001b[38;5;33m19:27:58  D     WindowFitter.transform  \u001b[0m\u001b[38;5;33m\u001b[38;5;231mTransforming input data to match integer number of\u001b[0m\u001b[38;5;33m          \u001b[0m\n",
      "\u001b[38;5;33m                                        \u001b[0m\u001b[38;5;33m\u001b[38;5;231mwindows...\u001b[0m\u001b[38;5;33m                                                  \u001b[0m\n",
      "\u001b[38;5;33m19:27:58  D     WindowFitter.transform  \u001b[0m\u001b[38;5;33m\u001b[38;5;231mTransforming input data to match integer number of\u001b[0m\u001b[38;5;33m          \u001b[0m\n",
      "\u001b[38;5;33m                                        \u001b[0m\u001b[38;5;33m\u001b[38;5;231mwindows...\u001b[0m\u001b[38;5;33m                                                  \u001b[0m\n",
      "\u001b[38;5;33m19:27:58  D                  Tiler.fit  \u001b[0m\u001b[38;5;33m\u001b[38;5;231mShape going into stacker: (1873, 1873, 3)\u001b[0m\u001b[38;5;33m                   \u001b[0m\n",
      "\u001b[38;5;33m19:27:58  D     WindowFitter.transform  \u001b[0m\u001b[38;5;33m\u001b[38;5;231mTransforming input data to match integer number of\u001b[0m\u001b[38;5;33m          \u001b[0m\n",
      "\u001b[38;5;33m                                        \u001b[0m\u001b[38;5;33m\u001b[38;5;231mwindows...\u001b[0m\u001b[38;5;33m                                                  \u001b[0m\n",
      "\u001b[38;5;33m19:27:58  D     WindowFitter.transform  \u001b[0m\u001b[38;5;33m\u001b[38;5;231mTransforming input data to match integer number of\u001b[0m\u001b[38;5;33m          \u001b[0m\n",
      "\u001b[38;5;33m                                        \u001b[0m\u001b[38;5;33m\u001b[38;5;231mwindows...\u001b[0m\u001b[38;5;33m                                                  \u001b[0m\n",
      "\u001b[38;5;33m19:27:58  D     WindowFitter.transform  \u001b[0m\u001b[38;5;33m\u001b[38;5;231mTransforming input data to match integer number of\u001b[0m\u001b[38;5;33m          \u001b[0m\n",
      "\u001b[38;5;33m                                        \u001b[0m\u001b[38;5;33m\u001b[38;5;231mwindows...\u001b[0m\u001b[38;5;33m                                                  \u001b[0m\n",
      "\u001b[38;5;33m19:27:58  D      TileStacker.transform  \u001b[0m\u001b[38;5;33m\u001b[38;5;231mReshaping array into tiles...\u001b[0m\u001b[38;5;33m                               \u001b[0m\n",
      "\u001b[38;5;33m19:27:58  D      TileStacker.transform  \u001b[0m\u001b[38;5;33m\u001b[38;5;231mReshaping array into tiles...\u001b[0m\u001b[38;5;33m                               \u001b[0m\n",
      "\u001b[38;5;33m19:27:58  D      TileStacker.transform  \u001b[0m\u001b[38;5;33m\u001b[38;5;231mReshaping array into tiles...\u001b[0m\u001b[38;5;33m                               \u001b[0m\n",
      "\u001b[38;5;33m19:27:58  D     WindowFitter.transform  \u001b[0m\u001b[38;5;33m\u001b[38;5;231mTransforming input data to match integer number of\u001b[0m\u001b[38;5;33m          \u001b[0m\n",
      "\u001b[38;5;33m                                        \u001b[0m\u001b[38;5;33m\u001b[38;5;231mwindows...\u001b[0m\u001b[38;5;33m                                                  \u001b[0m\n",
      "\u001b[38;5;33m19:27:58  D      TileStacker.transform  \u001b[0m\u001b[38;5;33m\u001b[38;5;231mReshaping array into tiles...\u001b[0m\u001b[38;5;33m                               \u001b[0m\n",
      "\u001b[38;5;33m19:27:58  D      TileStacker.transform  \u001b[0m\u001b[38;5;33m\u001b[38;5;231mReshaping array into tiles...\u001b[0m\u001b[38;5;33m                               \u001b[0m\n",
      "\u001b[38;5;33m19:27:58  D      TileStacker.transform  \u001b[0m\u001b[38;5;33m\u001b[38;5;231mReshaping array into tiles...\u001b[0m\u001b[38;5;33m                               \u001b[0m\n",
      "\u001b[38;5;33m19:27:58  D     WindowFitter.transform  \u001b[0m\u001b[38;5;33m\u001b[38;5;231mTransforming input data to match integer number of\u001b[0m\u001b[38;5;33m          \u001b[0m\n",
      "\u001b[38;5;33m                                        \u001b[0m\u001b[38;5;33m\u001b[38;5;231mwindows...\u001b[0m\u001b[38;5;33m                                                  \u001b[0m\n",
      "\u001b[38;5;33m19:27:58  D      TileStacker.transform  \u001b[0m\u001b[38;5;33m\u001b[38;5;231mReshaping array into tiles...\u001b[0m\u001b[38;5;33m                               \u001b[0m\n",
      "\u001b[38;5;33m19:27:58  D      TileStacker.transform  \u001b[0m\u001b[38;5;33m\u001b[38;5;231mReshaping array into tiles...\u001b[0m\u001b[38;5;33m                               \u001b[0m\n",
      "\u001b[38;5;33m19:27:58  D      TileStacker.transform  \u001b[0m\u001b[38;5;33m\u001b[38;5;231mReshaping array into tiles...\u001b[0m\u001b[38;5;33m                               \u001b[0m\n",
      "\u001b[38;5;33m19:27:58  D     WindowFitter.transform  \u001b[0m\u001b[38;5;33m\u001b[38;5;231mTransforming input data to match integer number of\u001b[0m\u001b[38;5;33m          \u001b[0m\n",
      "\u001b[38;5;33m                                        \u001b[0m\u001b[38;5;33m\u001b[38;5;231mwindows...\u001b[0m\u001b[38;5;33m                                                  \u001b[0m\n",
      "\u001b[38;5;33m19:27:58  D      TileStacker.transform  \u001b[0m\u001b[38;5;33m\u001b[38;5;231mReshaping array into tiles...\u001b[0m\u001b[38;5;33m                               \u001b[0m\n",
      "\u001b[38;5;33m19:27:58  D      TileStacker.transform  \u001b[0m\u001b[38;5;33m\u001b[38;5;231mReshaping array into tiles...\u001b[0m\u001b[38;5;33m                               \u001b[0m\n"
     ]
    },
    {
     "name": "stdout",
     "output_type": "stream",
     "text": [
      "\u001b[38;5;33m19:27:58  D      TileStacker.transform  \u001b[0m\u001b[38;5;33m\u001b[38;5;231mReshaping array into tiles...\u001b[0m\u001b[38;5;33m                               \u001b[0m\n",
      "\u001b[38;5;33m19:27:58  D  …erlappingTiler.transform  \u001b[0m\u001b[38;5;33m\u001b[38;5;231mAssembling overlapping tiles...\u001b[0m\u001b[38;5;33m                             \u001b[0m\n",
      "\u001b[38;5;255m19:27:58  I    TrainingDataset.prepare  \u001b[0m\u001b[38;5;255m\u001b[38;5;231mImage pipeline done!\u001b[0m\u001b[38;5;255m                                        \u001b[0m\n",
      "\u001b[38;5;33m19:27:58  D   DimensionAdder.transform  \u001b[0m\u001b[38;5;33m\u001b[38;5;231mLeaving array shape alone...\u001b[0m\u001b[38;5;33m                                \u001b[0m\n",
      "\u001b[38;5;33m19:27:58  D       OverlappingTiler.fit  \u001b[0m\u001b[38;5;33m\u001b[38;5;231mDividing array with shape (2001, 2001, 1) into half-step\u001b[0m\u001b[38;5;33m    \u001b[0m\n",
      "\u001b[38;5;33m                                        \u001b[0m\u001b[38;5;33m\u001b[38;5;231moverlapping tiles...\u001b[0m\u001b[38;5;33m                                        \u001b[0m\n",
      "\u001b[38;5;33m19:27:58  D                  Tiler.fit  \u001b[0m\u001b[38;5;33m\u001b[38;5;231mShape going into stacker: (2001, 2001, 1)\u001b[0m\u001b[38;5;33m                   \u001b[0m\n",
      "\u001b[38;5;33m19:27:58  D     WindowFitter.transform  \u001b[0m\u001b[38;5;33m\u001b[38;5;231mTransforming input data to match integer number of\u001b[0m\u001b[38;5;33m          \u001b[0m\n",
      "\u001b[38;5;33m                                        \u001b[0m\u001b[38;5;33m\u001b[38;5;231mwindows...\u001b[0m\u001b[38;5;33m                                                  \u001b[0m\n",
      "\u001b[38;5;33m19:27:58  D     WindowFitter.transform  \u001b[0m\u001b[38;5;33m\u001b[38;5;231mTransforming input data to match integer number of\u001b[0m\u001b[38;5;33m          \u001b[0m\n",
      "\u001b[38;5;33m                                        \u001b[0m\u001b[38;5;33m\u001b[38;5;231mwindows...\u001b[0m\u001b[38;5;33m                                                  \u001b[0m\n",
      "\u001b[38;5;33m19:27:58  D                  Tiler.fit  \u001b[0m\u001b[38;5;33m\u001b[38;5;231mShape going into stacker: (1873, 2001, 1)\u001b[0m\u001b[38;5;33m                   \u001b[0m\n",
      "\u001b[38;5;33m19:27:58  D     WindowFitter.transform  \u001b[0m\u001b[38;5;33m\u001b[38;5;231mTransforming input data to match integer number of\u001b[0m\u001b[38;5;33m          \u001b[0m\n",
      "\u001b[38;5;33m                                        \u001b[0m\u001b[38;5;33m\u001b[38;5;231mwindows...\u001b[0m\u001b[38;5;33m                                                  \u001b[0m\n",
      "\u001b[38;5;33m19:27:58  D     WindowFitter.transform  \u001b[0m\u001b[38;5;33m\u001b[38;5;231mTransforming input data to match integer number of\u001b[0m\u001b[38;5;33m          \u001b[0m\n",
      "\u001b[38;5;33m                                        \u001b[0m\u001b[38;5;33m\u001b[38;5;231mwindows...\u001b[0m\u001b[38;5;33m                                                  \u001b[0m\n",
      "\u001b[38;5;33m19:27:58  D                  Tiler.fit  \u001b[0m\u001b[38;5;33m\u001b[38;5;231mShape going into stacker: (2001, 1873, 1)\u001b[0m\u001b[38;5;33m                   \u001b[0m\n",
      "\u001b[38;5;33m19:27:58  D     WindowFitter.transform  \u001b[0m\u001b[38;5;33m\u001b[38;5;231mTransforming input data to match integer number of\u001b[0m\u001b[38;5;33m          \u001b[0m\n",
      "\u001b[38;5;33m                                        \u001b[0m\u001b[38;5;33m\u001b[38;5;231mwindows...\u001b[0m\u001b[38;5;33m                                                  \u001b[0m\n",
      "\u001b[38;5;33m19:27:58  D     WindowFitter.transform  \u001b[0m\u001b[38;5;33m\u001b[38;5;231mTransforming input data to match integer number of\u001b[0m\u001b[38;5;33m          \u001b[0m\n",
      "\u001b[38;5;33m                                        \u001b[0m\u001b[38;5;33m\u001b[38;5;231mwindows...\u001b[0m\u001b[38;5;33m                                                  \u001b[0m\n",
      "\u001b[38;5;33m19:27:58  D                  Tiler.fit  \u001b[0m\u001b[38;5;33m\u001b[38;5;231mShape going into stacker: (1873, 1873, 1)\u001b[0m\u001b[38;5;33m                   \u001b[0m\n",
      "\u001b[38;5;33m19:27:58  D     WindowFitter.transform  \u001b[0m\u001b[38;5;33m\u001b[38;5;231mTransforming input data to match integer number of\u001b[0m\u001b[38;5;33m          \u001b[0m\n",
      "\u001b[38;5;33m                                        \u001b[0m\u001b[38;5;33m\u001b[38;5;231mwindows...\u001b[0m\u001b[38;5;33m                                                  \u001b[0m\n",
      "\u001b[38;5;33m19:27:58  D     WindowFitter.transform  \u001b[0m\u001b[38;5;33m\u001b[38;5;231mTransforming input data to match integer number of\u001b[0m\u001b[38;5;33m          \u001b[0m\n",
      "\u001b[38;5;33m                                        \u001b[0m\u001b[38;5;33m\u001b[38;5;231mwindows...\u001b[0m\u001b[38;5;33m                                                  \u001b[0m\n",
      "\u001b[38;5;33m19:27:58  D     WindowFitter.transform  \u001b[0m\u001b[38;5;33m\u001b[38;5;231mTransforming input data to match integer number of\u001b[0m\u001b[38;5;33m          \u001b[0m\n",
      "\u001b[38;5;33m                                        \u001b[0m\u001b[38;5;33m\u001b[38;5;231mwindows...\u001b[0m\u001b[38;5;33m                                                  \u001b[0m\n",
      "\u001b[38;5;33m19:27:58  D      TileStacker.transform  \u001b[0m\u001b[38;5;33m\u001b[38;5;231mReshaping array into tiles...\u001b[0m\u001b[38;5;33m                               \u001b[0m\n",
      "\u001b[38;5;33m19:27:58  D      TileStacker.transform  \u001b[0m\u001b[38;5;33m\u001b[38;5;231mReshaping array into tiles...\u001b[0m\u001b[38;5;33m                               \u001b[0m\n",
      "\u001b[38;5;33m19:27:58  D      TileStacker.transform  \u001b[0m\u001b[38;5;33m\u001b[38;5;231mReshaping array into tiles...\u001b[0m\u001b[38;5;33m                               \u001b[0m\n",
      "\u001b[38;5;33m19:27:58  D     WindowFitter.transform  \u001b[0m\u001b[38;5;33m\u001b[38;5;231mTransforming input data to match integer number of\u001b[0m\u001b[38;5;33m          \u001b[0m\n",
      "\u001b[38;5;33m                                        \u001b[0m\u001b[38;5;33m\u001b[38;5;231mwindows...\u001b[0m\u001b[38;5;33m                                                  \u001b[0m\n",
      "\u001b[38;5;33m19:27:58  D      TileStacker.transform  \u001b[0m\u001b[38;5;33m\u001b[38;5;231mReshaping array into tiles...\u001b[0m\u001b[38;5;33m                               \u001b[0m\n",
      "\u001b[38;5;33m19:27:58  D      TileStacker.transform  \u001b[0m\u001b[38;5;33m\u001b[38;5;231mReshaping array into tiles...\u001b[0m\u001b[38;5;33m                               \u001b[0m\n",
      "\u001b[38;5;33m19:27:58  D      TileStacker.transform  \u001b[0m\u001b[38;5;33m\u001b[38;5;231mReshaping array into tiles...\u001b[0m\u001b[38;5;33m                               \u001b[0m\n",
      "\u001b[38;5;33m19:27:58  D     WindowFitter.transform  \u001b[0m\u001b[38;5;33m\u001b[38;5;231mTransforming input data to match integer number of\u001b[0m\u001b[38;5;33m          \u001b[0m\n",
      "\u001b[38;5;33m                                        \u001b[0m\u001b[38;5;33m\u001b[38;5;231mwindows...\u001b[0m\u001b[38;5;33m                                                  \u001b[0m\n",
      "\u001b[38;5;33m19:27:58  D      TileStacker.transform  \u001b[0m\u001b[38;5;33m\u001b[38;5;231mReshaping array into tiles...\u001b[0m\u001b[38;5;33m                               \u001b[0m\n",
      "\u001b[38;5;33m19:27:58  D      TileStacker.transform  \u001b[0m\u001b[38;5;33m\u001b[38;5;231mReshaping array into tiles...\u001b[0m\u001b[38;5;33m                               \u001b[0m\n",
      "\u001b[38;5;33m19:27:58  D      TileStacker.transform  \u001b[0m\u001b[38;5;33m\u001b[38;5;231mReshaping array into tiles...\u001b[0m\u001b[38;5;33m                               \u001b[0m\n",
      "\u001b[38;5;33m19:27:58  D     WindowFitter.transform  \u001b[0m\u001b[38;5;33m\u001b[38;5;231mTransforming input data to match integer number of\u001b[0m\u001b[38;5;33m          \u001b[0m\n",
      "\u001b[38;5;33m                                        \u001b[0m\u001b[38;5;33m\u001b[38;5;231mwindows...\u001b[0m\u001b[38;5;33m                                                  \u001b[0m\n",
      "\u001b[38;5;33m19:27:58  D      TileStacker.transform  \u001b[0m\u001b[38;5;33m\u001b[38;5;231mReshaping array into tiles...\u001b[0m\u001b[38;5;33m                               \u001b[0m\n",
      "\u001b[38;5;33m19:27:58  D      TileStacker.transform  \u001b[0m\u001b[38;5;33m\u001b[38;5;231mReshaping array into tiles...\u001b[0m\u001b[38;5;33m                               \u001b[0m\n",
      "\u001b[38;5;33m19:27:58  D      TileStacker.transform  \u001b[0m\u001b[38;5;33m\u001b[38;5;231mReshaping array into tiles...\u001b[0m\u001b[38;5;33m                               \u001b[0m\n",
      "\u001b[38;5;33m19:27:58  D  …erlappingTiler.transform  \u001b[0m\u001b[38;5;33m\u001b[38;5;231mAssembling overlapping tiles...\u001b[0m\u001b[38;5;33m                             \u001b[0m\n",
      "\u001b[38;5;255m19:27:58  I    TrainingDataset.prepare  \u001b[0m\u001b[38;5;255m\u001b[38;5;231mMask pipeline done!\u001b[0m\u001b[38;5;255m                                         \u001b[0m\n",
      "\u001b[38;5;33m19:28:00  D    TrainingDataset.prepare  \u001b[0m\u001b[38;5;33m\u001b[38;5;231mAligning image/mask array chunks...\u001b[0m\u001b[38;5;33m                         \u001b[0m\n",
      "\u001b[38;5;255m19:28:00  I    TrainingDataset.prepare  \u001b[0m\u001b[38;5;255m\u001b[38;5;231mImage/mask arrays from\u001b[0m\u001b[38;5;255m                                      \u001b[0m\n",
      "\u001b[38;5;255m                                        \u001b[0m\u001b[38;5;255m\u001b[38;5;231m/home/root/TRAIN/raster/top_60cm_qb_area1.tif <->\u001b[0m\u001b[38;5;255m           \u001b[0m\n",
      "\u001b[38;5;255m                                        \u001b[0m\u001b[38;5;255m\u001b[38;5;231m/home/root/TRAIN/fullset/ground_truth/top_60cm_qb_area1.tif\u001b[0m\u001b[38;5;255m \u001b[0m\n",
      "\u001b[38;5;255m                                        \u001b[0m\u001b[38;5;255m\u001b[38;5;231mprepared for training!\u001b[0m\u001b[38;5;255m                                      \u001b[0m\n",
      "\u001b[38;5;255m19:28:00  I  …eTrainingDataset.prepare  \u001b[0m\u001b[38;5;255m\u001b[38;5;231mAligning image/mask array chunks...\u001b[0m\u001b[38;5;255m                         \u001b[0m\n"
     ]
    },
    {
     "name": "stdout",
     "output_type": "stream",
     "text": [
      "\u001b[38;5;255m19:28:00  I  …eTrainingDataset.prepare  \u001b[0m\u001b[38;5;255m\u001b[38;5;231mShuffling datasets together...\u001b[0m\u001b[38;5;255m                              \u001b[0m\n",
      "\u001b[38;5;255m19:28:00  I  …eTrainingDataset.prepare  \u001b[0m\u001b[38;5;255m\u001b[38;5;231mComposite dataset prepare done!\u001b[0m\u001b[38;5;255m                             \u001b[0m\n"
     ]
    }
   ],
   "source": [
    "# --- preprocess training data\n",
    "# generate arrays from rasters on-the-fly at training time\n",
    "tds.prepare()\n",
    "# print(type(tds))"
   ]
  },
  {
   "cell_type": "code",
   "execution_count": 8,
   "metadata": {},
   "outputs": [
    {
     "name": "stderr",
     "output_type": "stream",
     "text": [
      "~~ Fancy augs on ~~\n",
      "Eigenvalues are [0.06179941 0.0035789  0.00054771]\n",
      "Eigenvectors are [[-0.54852031 -0.58008069 -0.60218923]\n",
      " [-0.58416047 -0.24942219  0.77236333]\n",
      " [-0.59823241  0.77543212 -0.20204707]]\n"
     ]
    }
   ],
   "source": [
    "log = logging.getLogger()\n",
    "# --- assign data generator for scaling, augmentations etc\n",
    "# albumentations + fancyPCA => \"fancy\" augs. recommended.\n",
    "if True:\n",
    "    log.warning(\"~~ Fancy augs on ~~\")\n",
    "    # start distributed cluster for mapping augmentations\n",
    "    client = Client(processes=False)\n",
    "    log.info(\"Calculating PCA decomposition of training RGBs...\")\n",
    "    fpca = FancyPCA(tds.X_train, alpha_std=.3, p=1.0)\n",
    "    log.warning(f\"Eigenvalues are {fpca.sampler.eig_vals}\")\n",
    "    log.warning(f\"Eigenvectors are {fpca.sampler.eig_vecs}\")\n",
    "    augger = strong_aug(p=.8, fancy_pca=fpca)\n",
    "    tds.batch_generator_fn = partial(fancy_batch_generator, batch_size=4, augger=augger, client=client, seed=cfg.seed, shuffle_blocks_every_epoch=True, shuffle_within_blocks=True, deep_supervision=True, float32=True)\n",
    "    aug_sfx = 'fancy'"
   ]
  },
  {
   "cell_type": "code",
   "execution_count": 9,
   "metadata": {},
   "outputs": [
    {
     "name": "stdout",
     "output_type": "stream",
     "text": [
      "(256, 256, 256, 3)\n",
      "(256, 256, 256, 1)\n",
      "X train: (179, 256, 256, 3)\n",
      "X Val: (77, 256, 256, 3)\n"
     ]
    }
   ],
   "source": [
    "x = tds.get_X()\n",
    "print(x.shape)\n",
    "y = tds.get_y()\n",
    "print(y.shape)\n",
    "# print(dir(tds))\n",
    "print(\"X train:\", tds.X_train.shape)\n",
    "print(\"X Val:\", tds.X_val.shape)"
   ]
  },
  {
   "cell_type": "code",
   "execution_count": null,
   "metadata": {},
   "outputs": [],
   "source": []
  },
  {
   "cell_type": "code",
   "execution_count": null,
   "metadata": {},
   "outputs": [],
   "source": []
  },
  {
   "cell_type": "code",
   "execution_count": null,
   "metadata": {},
   "outputs": [],
   "source": []
  },
  {
   "cell_type": "code",
   "execution_count": null,
   "metadata": {},
   "outputs": [],
   "source": []
  },
  {
   "cell_type": "code",
   "execution_count": null,
   "metadata": {},
   "outputs": [],
   "source": []
  },
  {
   "cell_type": "code",
   "execution_count": 12,
   "metadata": {},
   "outputs": [
    {
     "name": "stdout",
     "output_type": "stream",
     "text": [
      "train_steps=44\n",
      "val_steps=19\n",
      "fit model\n"
     ]
    },
    {
     "name": "stderr",
     "output_type": "stream",
     "text": [
      "distributed.utils_perf - WARNING - full garbage collections took 26% CPU time recently (threshold: 10%)\n"
     ]
    },
    {
     "name": "stdout",
     "output_type": "stream",
     "text": [
      "Epoch 1/2\n"
     ]
    },
    {
     "name": "stderr",
     "output_type": "stream",
     "text": [
      "distributed.utils_perf - WARNING - full garbage collections took 26% CPU time recently (threshold: 10%)\n"
     ]
    },
    {
     "name": "stdout",
     "output_type": "stream",
     "text": [
      "WARNING:tensorflow:5 out of the last 11 calls to <function SWA.average_op at 0x7f3210105940> triggered tf.function retracing. Tracing is expensive and the excessive number of tracings is likely due to passing python objects instead of tensors. Also, tf.function has experimental_relax_shapes=True option that relaxes argument shapes that can avoid unnecessary retracing. Please refer to https://www.tensorflow.org/tutorials/customization/performance#python_or_tensor_args and https://www.tensorflow.org/api_docs/python/tf/function for more details.\n",
      "WARNING:tensorflow:6 out of the last 12 calls to <function SWA.average_op at 0x7f3210105940> triggered tf.function retracing. Tracing is expensive and the excessive number of tracings is likely due to passing python objects instead of tensors. Also, tf.function has experimental_relax_shapes=True option that relaxes argument shapes that can avoid unnecessary retracing. Please refer to https://www.tensorflow.org/tutorials/customization/performance#python_or_tensor_args and https://www.tensorflow.org/api_docs/python/tf/function for more details.\n",
      "WARNING:tensorflow:6 out of the last 11 calls to <function SWA.average_op at 0x7f3210105940> triggered tf.function retracing. Tracing is expensive and the excessive number of tracings is likely due to passing python objects instead of tensors. Also, tf.function has experimental_relax_shapes=True option that relaxes argument shapes that can avoid unnecessary retracing. Please refer to https://www.tensorflow.org/tutorials/customization/performance#python_or_tensor_args and https://www.tensorflow.org/api_docs/python/tf/function for more details.\n",
      "WARNING:tensorflow:7 out of the last 14 calls to <function SWA.average_op at 0x7f3210105940> triggered tf.function retracing. Tracing is expensive and the excessive number of tracings is likely due to passing python objects instead of tensors. Also, tf.function has experimental_relax_shapes=True option that relaxes argument shapes that can avoid unnecessary retracing. Please refer to https://www.tensorflow.org/tutorials/customization/performance#python_or_tensor_args and https://www.tensorflow.org/api_docs/python/tf/function for more details.\n",
      "WARNING:tensorflow:7 out of the last 12 calls to <function SWA.average_op at 0x7f3210105940> triggered tf.function retracing. Tracing is expensive and the excessive number of tracings is likely due to passing python objects instead of tensors. Also, tf.function has experimental_relax_shapes=True option that relaxes argument shapes that can avoid unnecessary retracing. Please refer to https://www.tensorflow.org/tutorials/customization/performance#python_or_tensor_args and https://www.tensorflow.org/api_docs/python/tf/function for more details.\n",
      "WARNING:tensorflow:7 out of the last 11 calls to <function SWA.average_op at 0x7f3210105940> triggered tf.function retracing. Tracing is expensive and the excessive number of tracings is likely due to passing python objects instead of tensors. Also, tf.function has experimental_relax_shapes=True option that relaxes argument shapes that can avoid unnecessary retracing. Please refer to https://www.tensorflow.org/tutorials/customization/performance#python_or_tensor_args and https://www.tensorflow.org/api_docs/python/tf/function for more details.\n",
      "WARNING:tensorflow:8 out of the last 12 calls to <function SWA.average_op at 0x7f3210105940> triggered tf.function retracing. Tracing is expensive and the excessive number of tracings is likely due to passing python objects instead of tensors. Also, tf.function has experimental_relax_shapes=True option that relaxes argument shapes that can avoid unnecessary retracing. Please refer to https://www.tensorflow.org/tutorials/customization/performance#python_or_tensor_args and https://www.tensorflow.org/api_docs/python/tf/function for more details.\n",
      "WARNING:tensorflow:7 out of the last 11 calls to <function SWA.average_op at 0x7f3210105940> triggered tf.function retracing. Tracing is expensive and the excessive number of tracings is likely due to passing python objects instead of tensors. Also, tf.function has experimental_relax_shapes=True option that relaxes argument shapes that can avoid unnecessary retracing. Please refer to https://www.tensorflow.org/tutorials/customization/performance#python_or_tensor_args and https://www.tensorflow.org/api_docs/python/tf/function for more details.\n",
      "WARNING:tensorflow:6 out of the last 11 calls to <function SWA.average_op at 0x7f3210105940> triggered tf.function retracing. Tracing is expensive and the excessive number of tracings is likely due to passing python objects instead of tensors. Also, tf.function has experimental_relax_shapes=True option that relaxes argument shapes that can avoid unnecessary retracing. Please refer to https://www.tensorflow.org/tutorials/customization/performance#python_or_tensor_args and https://www.tensorflow.org/api_docs/python/tf/function for more details.\n",
      "WARNING:tensorflow:6 out of the last 11 calls to <function SWA.average_op at 0x7f3210105940> triggered tf.function retracing. Tracing is expensive and the excessive number of tracings is likely due to passing python objects instead of tensors. Also, tf.function has experimental_relax_shapes=True option that relaxes argument shapes that can avoid unnecessary retracing. Please refer to https://www.tensorflow.org/tutorials/customization/performance#python_or_tensor_args and https://www.tensorflow.org/api_docs/python/tf/function for more details.\n",
      "WARNING:tensorflow:5 out of the last 11 calls to <function SWA.average_op at 0x7f3210105940> triggered tf.function retracing. Tracing is expensive and the excessive number of tracings is likely due to passing python objects instead of tensors. Also, tf.function has experimental_relax_shapes=True option that relaxes argument shapes that can avoid unnecessary retracing. Please refer to https://www.tensorflow.org/tutorials/customization/performance#python_or_tensor_args and https://www.tensorflow.org/api_docs/python/tf/function for more details.\n",
      "WARNING:tensorflow:6 out of the last 12 calls to <function SWA.average_op at 0x7f3210105940> triggered tf.function retracing. Tracing is expensive and the excessive number of tracings is likely due to passing python objects instead of tensors. Also, tf.function has experimental_relax_shapes=True option that relaxes argument shapes that can avoid unnecessary retracing. Please refer to https://www.tensorflow.org/tutorials/customization/performance#python_or_tensor_args and https://www.tensorflow.org/api_docs/python/tf/function for more details.\n",
      "WARNING:tensorflow:6 out of the last 13 calls to <function SWA.average_op at 0x7f3210105940> triggered tf.function retracing. Tracing is expensive and the excessive number of tracings is likely due to passing python objects instead of tensors. Also, tf.function has experimental_relax_shapes=True option that relaxes argument shapes that can avoid unnecessary retracing. Please refer to https://www.tensorflow.org/tutorials/customization/performance#python_or_tensor_args and https://www.tensorflow.org/api_docs/python/tf/function for more details.\n",
      "WARNING:tensorflow:5 out of the last 29 calls to <function SWA.average_op at 0x7f3210105940> triggered tf.function retracing. Tracing is expensive and the excessive number of tracings is likely due to passing python objects instead of tensors. Also, tf.function has experimental_relax_shapes=True option that relaxes argument shapes that can avoid unnecessary retracing. Please refer to https://www.tensorflow.org/tutorials/customization/performance#python_or_tensor_args and https://www.tensorflow.org/api_docs/python/tf/function for more details.\n",
      "WARNING:tensorflow:5 out of the last 17 calls to <function SWA.average_op at 0x7f3210105940> triggered tf.function retracing. Tracing is expensive and the excessive number of tracings is likely due to passing python objects instead of tensors. Also, tf.function has experimental_relax_shapes=True option that relaxes argument shapes that can avoid unnecessary retracing. Please refer to https://www.tensorflow.org/tutorials/customization/performance#python_or_tensor_args and https://www.tensorflow.org/api_docs/python/tf/function for more details.\n"
     ]
    },
    {
     "name": "stdout",
     "output_type": "stream",
     "text": [
      "WARNING:tensorflow:5 out of the last 29 calls to <function SWA.average_op at 0x7f3210105940> triggered tf.function retracing. Tracing is expensive and the excessive number of tracings is likely due to passing python objects instead of tensors. Also, tf.function has experimental_relax_shapes=True option that relaxes argument shapes that can avoid unnecessary retracing. Please refer to https://www.tensorflow.org/tutorials/customization/performance#python_or_tensor_args and https://www.tensorflow.org/api_docs/python/tf/function for more details.\n",
      "WARNING:tensorflow:6 out of the last 30 calls to <function SWA.average_op at 0x7f3210105940> triggered tf.function retracing. Tracing is expensive and the excessive number of tracings is likely due to passing python objects instead of tensors. Also, tf.function has experimental_relax_shapes=True option that relaxes argument shapes that can avoid unnecessary retracing. Please refer to https://www.tensorflow.org/tutorials/customization/performance#python_or_tensor_args and https://www.tensorflow.org/api_docs/python/tf/function for more details.\n",
      "WARNING:tensorflow:5 out of the last 12 calls to <function SWA.average_op at 0x7f3210105940> triggered tf.function retracing. Tracing is expensive and the excessive number of tracings is likely due to passing python objects instead of tensors. Also, tf.function has experimental_relax_shapes=True option that relaxes argument shapes that can avoid unnecessary retracing. Please refer to https://www.tensorflow.org/tutorials/customization/performance#python_or_tensor_args and https://www.tensorflow.org/api_docs/python/tf/function for more details.\n",
      "WARNING:tensorflow:5 out of the last 16 calls to <function SWA.average_op at 0x7f3210105940> triggered tf.function retracing. Tracing is expensive and the excessive number of tracings is likely due to passing python objects instead of tensors. Also, tf.function has experimental_relax_shapes=True option that relaxes argument shapes that can avoid unnecessary retracing. Please refer to https://www.tensorflow.org/tutorials/customization/performance#python_or_tensor_args and https://www.tensorflow.org/api_docs/python/tf/function for more details.\n",
      "WARNING:tensorflow:5 out of the last 29 calls to <function SWA.average_op at 0x7f3210105940> triggered tf.function retracing. Tracing is expensive and the excessive number of tracings is likely due to passing python objects instead of tensors. Also, tf.function has experimental_relax_shapes=True option that relaxes argument shapes that can avoid unnecessary retracing. Please refer to https://www.tensorflow.org/tutorials/customization/performance#python_or_tensor_args and https://www.tensorflow.org/api_docs/python/tf/function for more details.\n",
      "WARNING:tensorflow:6 out of the last 30 calls to <function SWA.average_op at 0x7f3210105940> triggered tf.function retracing. Tracing is expensive and the excessive number of tracings is likely due to passing python objects instead of tensors. Also, tf.function has experimental_relax_shapes=True option that relaxes argument shapes that can avoid unnecessary retracing. Please refer to https://www.tensorflow.org/tutorials/customization/performance#python_or_tensor_args and https://www.tensorflow.org/api_docs/python/tf/function for more details.\n",
      "WARNING:tensorflow:5 out of the last 12 calls to <function SWA.average_op at 0x7f3210105940> triggered tf.function retracing. Tracing is expensive and the excessive number of tracings is likely due to passing python objects instead of tensors. Also, tf.function has experimental_relax_shapes=True option that relaxes argument shapes that can avoid unnecessary retracing. Please refer to https://www.tensorflow.org/tutorials/customization/performance#python_or_tensor_args and https://www.tensorflow.org/api_docs/python/tf/function for more details.\n",
      "WARNING:tensorflow:5 out of the last 16 calls to <function SWA.average_op at 0x7f3210105940> triggered tf.function retracing. Tracing is expensive and the excessive number of tracings is likely due to passing python objects instead of tensors. Also, tf.function has experimental_relax_shapes=True option that relaxes argument shapes that can avoid unnecessary retracing. Please refer to https://www.tensorflow.org/tutorials/customization/performance#python_or_tensor_args and https://www.tensorflow.org/api_docs/python/tf/function for more details.\n"
     ]
    },
    {
     "name": "stderr",
     "output_type": "stream",
     "text": [
      "distributed.utils_perf - WARNING - full garbage collections took 26% CPU time recently (threshold: 10%)\n"
     ]
    },
    {
     "name": "stdout",
     "output_type": "stream",
     "text": [
      "WARNING:tensorflow:5 out of the last 17 calls to <function SWA.average_op at 0x7f3210105940> triggered tf.function retracing. Tracing is expensive and the excessive number of tracings is likely due to passing python objects instead of tensors. Also, tf.function has experimental_relax_shapes=True option that relaxes argument shapes that can avoid unnecessary retracing. Please refer to https://www.tensorflow.org/tutorials/customization/performance#python_or_tensor_args and https://www.tensorflow.org/api_docs/python/tf/function for more details.\n",
      "WARNING:tensorflow:5 out of the last 13 calls to <function SWA.average_op at 0x7f3210105940> triggered tf.function retracing. Tracing is expensive and the excessive number of tracings is likely due to passing python objects instead of tensors. Also, tf.function has experimental_relax_shapes=True option that relaxes argument shapes that can avoid unnecessary retracing. Please refer to https://www.tensorflow.org/tutorials/customization/performance#python_or_tensor_args and https://www.tensorflow.org/api_docs/python/tf/function for more details.\n"
     ]
    },
    {
     "name": "stderr",
     "output_type": "stream",
     "text": [
      "distributed.utils_perf - WARNING - full garbage collections took 26% CPU time recently (threshold: 10%)\n"
     ]
    },
    {
     "name": "stdout",
     "output_type": "stream",
     "text": [
      "\r\n",
      " 1/44 [..............................] - ETA: 0s - loss: 0.1058 - tversky_index: 0.8006 - jaccard_index: 0.8086 - recall: 0.6846 - precision: 1.0000 - specificity: 1.0000 - npv: 1.2096e-05 - dice_coefficient: 0.8942"
     ]
    },
    {
     "name": "stderr",
     "output_type": "stream",
     "text": [
      "distributed.utils_perf - WARNING - full garbage collections took 26% CPU time recently (threshold: 10%)\n"
     ]
    },
    {
     "name": "stdout",
     "output_type": "stream",
     "text": [
      " 2/44 [>.............................] - ETA: 2:48 - loss: 0.0449 - tversky_index: 0.8511 - jaccard_index: 0.9205 - recall: 0.7310 - precision: 1.0000 - specificity: 1.0000 - npv: 1.4613e-05 - dice_coefficient: 0.9551WARNING:tensorflow:Method (on_train_batch_end) is slow compared to the batch update (2.877506). Check your callbacks.\n",
      " 6/44 [===>..........................] - ETA: 1:47 - loss: -0.0385 - tversky_index: 0.9336 - jaccard_index: 1.0912 - recall: 0.8121 - precision: 1.0000 - specificity: 1.0000 - npv: 2.4005e-05 - dice_coefficient: 1.0385"
     ]
    },
    {
     "name": "stderr",
     "output_type": "stream",
     "text": [
      "distributed.utils_perf - WARNING - full garbage collections took 26% CPU time recently (threshold: 10%)\n"
     ]
    },
    {
     "name": "stdout",
     "output_type": "stream",
     "text": [
      "11/44 [======>.......................] - ETA: 1:23 - loss: -0.1202 - tversky_index: 1.0067 - jaccard_index: 1.3134 - recall: 0.8752 - precision: 1.0000 - specificity: 0.9301 - npv: 1.2078e-04 - dice_coefficient: 1.1202"
     ]
    },
    {
     "name": "stderr",
     "output_type": "stream",
     "text": [
      "distributed.utils_perf - WARNING - full garbage collections took 26% CPU time recently (threshold: 10%)\n"
     ]
    },
    {
     "name": "stdout",
     "output_type": "stream",
     "text": [
      "16/44 [=========>....................] - ETA: 1:08 - loss: -0.1438 - tversky_index: 1.0365 - jaccard_index: 1.3690 - recall: 0.9098 - precision: 1.0000 - specificity: 0.9520 - npv: 1.7156e-04 - dice_coefficient: 1.1438"
     ]
    },
    {
     "name": "stderr",
     "output_type": "stream",
     "text": [
      "distributed.utils_perf - WARNING - full garbage collections took 26% CPU time recently (threshold: 10%)\n"
     ]
    },
    {
     "name": "stdout",
     "output_type": "stream",
     "text": [
      "20/44 [============>.................] - ETA: 57s - loss: -0.1515 - tversky_index: 1.0490 - jaccard_index: 1.3877 - recall: 0.9268 - precision: 1.0000 - specificity: 0.9616 - npv: 2.8273e-04 - dice_coefficient: 1.1515 "
     ]
    },
    {
     "name": "stderr",
     "output_type": "stream",
     "text": [
      "distributed.utils_perf - WARNING - full garbage collections took 26% CPU time recently (threshold: 10%)\n"
     ]
    },
    {
     "name": "stdout",
     "output_type": "stream",
     "text": [
      "25/44 [================>.............] - ETA: 44s - loss: -0.1550 - tversky_index: 1.0574 - jaccard_index: 1.3975 - recall: 0.9406 - precision: 1.0000 - specificity: 0.9693 - npv: 4.2272e-04 - dice_coefficient: 1.1550"
     ]
    },
    {
     "name": "stderr",
     "output_type": "stream",
     "text": [
      "distributed.utils_perf - WARNING - full garbage collections took 26% CPU time recently (threshold: 10%)\n"
     ]
    },
    {
     "name": "stdout",
     "output_type": "stream",
     "text": [
      "30/44 [===================>..........] - ETA: 32s - loss: -0.1649 - tversky_index: 1.0673 - jaccard_index: 1.4246 - recall: 0.9502 - precision: 1.0000 - specificity: 0.9744 - npv: 6.7402e-04 - dice_coefficient: 1.1649"
     ]
    },
    {
     "name": "stderr",
     "output_type": "stream",
     "text": [
      "distributed.utils_perf - WARNING - full garbage collections took 26% CPU time recently (threshold: 10%)\n"
     ]
    },
    {
     "name": "stdout",
     "output_type": "stream",
     "text": [
      "35/44 [======================>.......] - ETA: 20s - loss: -0.1705 - tversky_index: 1.0737 - jaccard_index: 1.4392 - recall: 0.9571 - precision: 1.0000 - specificity: 0.9498 - npv: 0.0010 - dice_coefficient: 1.1705    "
     ]
    },
    {
     "name": "stderr",
     "output_type": "stream",
     "text": [
      "distributed.utils_perf - WARNING - full garbage collections took 26% CPU time recently (threshold: 10%)\n"
     ]
    },
    {
     "name": "stdout",
     "output_type": "stream",
     "text": [
      "40/44 [==========================>...] - ETA: 9s - loss: -0.1665 - tversky_index: 1.0740 - jaccard_index: 1.4290 - recall: 0.9623 - precision: 1.0000 - specificity: 0.9561 - npv: 0.0014 - dice_coefficient: 1.1665 "
     ]
    },
    {
     "name": "stderr",
     "output_type": "stream",
     "text": [
      "distributed.utils_perf - WARNING - full garbage collections took 26% CPU time recently (threshold: 10%)\n"
     ]
    },
    {
     "name": "stdout",
     "output_type": "stream",
     "text": [
      "43/44 [============================>.] - ETA: 2s - loss: -0.1705 - tversky_index: 1.0774 - jaccard_index: 1.4397 - recall: 0.9649 - precision: 1.0000 - specificity: 0.9591 - npv: 0.0016 - dice_coefficient: 1.1705"
     ]
    },
    {
     "name": "stderr",
     "output_type": "stream",
     "text": [
      "distributed.utils_perf - WARNING - full garbage collections took 26% CPU time recently (threshold: 10%)\n"
     ]
    },
    {
     "name": "stdout",
     "output_type": "stream",
     "text": [
      "\b\b\b\b\b\b\b\b\b\b\b\b\b\b\b\b\b\b\b\b\b\b\b\b\b\b\b\b\b\b\b\b\b\b\b\b\b\b\b\b\b\b\b\b\b\b\b\b\b\b\b\b\b\b\b\b\b\b\b\b\b\b\b\b\b\b\b\b\b\b\b\b\b\b\b\b\b\b\b\b\b\b\b\b\b\b\b\b\b\b\b\b\b\b\b\b\b\b\b\b\b\b\b\b\b\b\b\b\b\b\b\b\b\b\b\b\b\b\b\b\b\b\b\b\b\b\b\b\b\b\b\b\b\b\b\b\b\b\b\b\b\b\b\b\b\b\b\b\b\b\b\b\b\b\b\b\b\b\b\b\b\b\b\b\b\b\b\b\b\b\b\b\b\b\b\b\b\b\b\b\b\b\b\b\b\b\b\b\b\b\b\b\b\b\b\b\b\b\b\b\b\b\b\b\b\b\b\b\b\b\b\b\r\n",
      "44/44 [==============================] - ETA: 0s - loss: -0.1700 - tversky_index: 1.0775 - jaccard_index: 1.4376 - recall: 0.9657 - precision: 1.0000 - specificity: 0.9601 - npv: 0.0016 - dice_coefficient: 1.1700"
     ]
    },
    {
     "name": "stderr",
     "output_type": "stream",
     "text": [
      "distributed.utils_perf - WARNING - full garbage collections took 25% CPU time recently (threshold: 10%)\n",
      "distributed.utils_perf - WARNING - full garbage collections took 26% CPU time recently (threshold: 10%)\n",
      "distributed.utils_perf - WARNING - full garbage collections took 27% CPU time recently (threshold: 10%)\n",
      "distributed.utils_perf - WARNING - full garbage collections took 27% CPU time recently (threshold: 10%)\n",
      "distributed.utils_perf - WARNING - full garbage collections took 28% CPU time recently (threshold: 10%)\n",
      "distributed.utils_perf - WARNING - full garbage collections took 27% CPU time recently (threshold: 10%)\n"
     ]
    },
    {
     "name": "stdout",
     "output_type": "stream",
     "text": [
      "\n",
      "Epoch 00001: loss improved from inf to -0.17000, saving model to /home/root/saved_models/Segmentalist_fe08070b-16d8-4a4d-86ec-2e159e4e0fb6/cp-e01-ji1.43762-l-0.17000-vl0.00.ckpt\n",
      "44/44 [==============================] - 134s 3s/step - loss: -0.1700 - tversky_index: 1.0775 - jaccard_index: 1.4376 - recall: 0.9657 - precision: 1.0000 - specificity: 0.9601 - npv: 0.0016 - dice_coefficient: 1.1700 - val_loss: -0.0052 - val_tversky_index: 0.8847 - val_jaccard_index: 1.0139 - val_recall: 0.7505 - val_precision: 0.9999 - val_specificity: 0.8828 - val_npv: 8.3266e-05 - val_dice_coefficient: 1.0052 - lr: 1.0000e-04\n",
      "Epoch 2/2\n",
      " 4/44 [=>............................] - ETA: 1:06 - loss: -0.1955 - tversky_index: 1.1078 - jaccard_index: 1.4986 - recall: 0.9993 - precision: 1.0000 - specificity: 1.0000 - npv: 0.0054 - dice_coefficient: 1.1955"
     ]
    },
    {
     "name": "stderr",
     "output_type": "stream",
     "text": [
      "distributed.utils_perf - WARNING - full garbage collections took 27% CPU time recently (threshold: 10%)\n"
     ]
    },
    {
     "name": "stdout",
     "output_type": "stream",
     "text": [
      " 9/44 [=====>........................] - ETA: 1:08 - loss: -0.2027 - tversky_index: 1.1110 - jaccard_index: 1.5316 - recall: 0.9992 - precision: 1.0000 - specificity: 1.0000 - npv: 0.0054 - dice_coefficient: 1.2027"
     ]
    },
    {
     "name": "stderr",
     "output_type": "stream",
     "text": [
      "distributed.utils_perf - WARNING - full garbage collections took 27% CPU time recently (threshold: 10%)\n"
     ]
    },
    {
     "name": "stdout",
     "output_type": "stream",
     "text": [
      "14/44 [========>.....................] - ETA: 1:01 - loss: -0.2144 - tversky_index: 1.1172 - jaccard_index: 1.5664 - recall: 0.9992 - precision: 1.0000 - specificity: 1.0000 - npv: 0.0055 - dice_coefficient: 1.2144"
     ]
    },
    {
     "name": "stderr",
     "output_type": "stream",
     "text": [
      "distributed.utils_perf - WARNING - full garbage collections took 27% CPU time recently (threshold: 10%)\n"
     ]
    },
    {
     "name": "stdout",
     "output_type": "stream",
     "text": [
      "18/44 [===========>..................] - ETA: 54s - loss: -0.2023 - tversky_index: 1.1111 - jaccard_index: 1.5264 - recall: 0.9993 - precision: 1.0000 - specificity: 0.9452 - npv: 0.0058 - dice_coefficient: 1.2023"
     ]
    },
    {
     "name": "stderr",
     "output_type": "stream",
     "text": [
      "distributed.utils_perf - WARNING - full garbage collections took 27% CPU time recently (threshold: 10%)\n"
     ]
    },
    {
     "name": "stdout",
     "output_type": "stream",
     "text": [
      "24/44 [===============>..............] - ETA: 42s - loss: -0.1976 - tversky_index: 1.1085 - jaccard_index: 1.5147 - recall: 0.9993 - precision: 1.0000 - specificity: 0.9589 - npv: 0.0064 - dice_coefficient: 1.1976"
     ]
    },
    {
     "name": "stderr",
     "output_type": "stream",
     "text": [
      "distributed.utils_perf - WARNING - full garbage collections took 27% CPU time recently (threshold: 10%)\n"
     ]
    },
    {
     "name": "stdout",
     "output_type": "stream",
     "text": [
      "28/44 [==================>...........] - ETA: 34s - loss: -0.2001 - tversky_index: 1.1098 - jaccard_index: 1.5215 - recall: 0.9994 - precision: 1.0000 - specificity: 0.9648 - npv: 0.0068 - dice_coefficient: 1.2001"
     ]
    },
    {
     "name": "stderr",
     "output_type": "stream",
     "text": [
      "distributed.utils_perf - WARNING - full garbage collections took 27% CPU time recently (threshold: 10%)\n"
     ]
    },
    {
     "name": "stdout",
     "output_type": "stream",
     "text": [
      "34/44 [======================>.......] - ETA: 21s - loss: -0.2023 - tversky_index: 1.1110 - jaccard_index: 1.5272 - recall: 0.9994 - precision: 1.0000 - specificity: 0.9418 - npv: 0.0071 - dice_coefficient: 1.2023"
     ]
    },
    {
     "name": "stderr",
     "output_type": "stream",
     "text": [
      "distributed.utils_perf - WARNING - full garbage collections took 27% CPU time recently (threshold: 10%)\n"
     ]
    },
    {
     "name": "stdout",
     "output_type": "stream",
     "text": [
      "39/44 [=========================>....] - ETA: 10s - loss: -0.1945 - tversky_index: 1.1067 - jaccard_index: 1.5067 - recall: 0.9994 - precision: 1.0000 - specificity: 0.9492 - npv: 0.0076 - dice_coefficient: 1.1945"
     ]
    },
    {
     "name": "stderr",
     "output_type": "stream",
     "text": [
      "distributed.utils_perf - WARNING - full garbage collections took 27% CPU time recently (threshold: 10%)\n"
     ]
    },
    {
     "name": "stdout",
     "output_type": "stream",
     "text": [
      "43/44 [============================>.] - ETA: 2s - loss: -0.1967 - tversky_index: 1.1080 - jaccard_index: 1.5118 - recall: 0.9995 - precision: 1.0000 - specificity: 0.9540 - npv: 0.0078 - dice_coefficient: 1.1967"
     ]
    },
    {
     "name": "stderr",
     "output_type": "stream",
     "text": [
      "distributed.utils_perf - WARNING - full garbage collections took 27% CPU time recently (threshold: 10%)\n"
     ]
    },
    {
     "name": "stdout",
     "output_type": "stream",
     "text": [
      "\b\b\b\b\b\b\b\b\b\b\b\b\b\b\b\b\b\b\b\b\b\b\b\b\b\b\b\b\b\b\b\b\b\b\b\b\b\b\b\b\b\b\b\b\b\b\b\b\b\b\b\b\b\b\b\b\b\b\b\b\b\b\b\b\b\b\b\b\b\b\b\b\b\b\b\b\b\b\b\b\b\b\b\b\b\b\b\b\b\b\b\b\b\b\b\b\b\b\b\b\b\b\b\b\b\b\b\b\b\b\b\b\b\b\b\b\b\b\b\b\b\b\b\b\b\b\b\b\b\b\b\b\b\b\b\b\b\b\b\b\b\b\b\b\b\b\b\b\b\b\b\b\b\b\b\b\b\b\b\b\b\b\b\b\b\b\b\b\b\b\b\b\b\b\b\b\b\b\b\b\b\b\b\b\b\b\b\b\b\b\b\b\b\b\b\b\b\b\b\b\b\b\b\b\b\b\b\b\b\b\b\b\r\n",
      "44/44 [==============================] - ETA: 0s - loss: -0.1956 - tversky_index: 1.1074 - jaccard_index: 1.5082 - recall: 0.9995 - precision: 1.0000 - specificity: 0.9550 - npv: 0.0079 - dice_coefficient: 1.1956"
     ]
    },
    {
     "name": "stderr",
     "output_type": "stream",
     "text": [
      "distributed.utils_perf - WARNING - full garbage collections took 26% CPU time recently (threshold: 10%)\n",
      "distributed.utils_perf - WARNING - full garbage collections took 27% CPU time recently (threshold: 10%)\n",
      "distributed.utils_perf - WARNING - full garbage collections took 28% CPU time recently (threshold: 10%)\n",
      "distributed.utils_perf - WARNING - full garbage collections took 28% CPU time recently (threshold: 10%)\n",
      "distributed.utils_perf - WARNING - full garbage collections took 28% CPU time recently (threshold: 10%)\n"
     ]
    },
    {
     "name": "stdout",
     "output_type": "stream",
     "text": [
      "\n",
      "Epoch 00002: loss improved from -0.17000 to -0.19559, saving model to /home/root/saved_models/Segmentalist_fe08070b-16d8-4a4d-86ec-2e159e4e0fb6/cp-e02-ji1.50817-l-0.19559-vl0.00.ckpt\n",
      "44/44 [==============================] - 118s 3s/step - loss: -0.1956 - tversky_index: 1.1074 - jaccard_index: 1.5082 - recall: 0.9995 - precision: 1.0000 - specificity: 0.9550 - npv: 0.0079 - dice_coefficient: 1.1956 - val_loss: -0.1364 - val_tversky_index: 1.0328 - val_jaccard_index: 1.3227 - val_recall: 0.9093 - val_precision: 1.0000 - val_specificity: 1.0000 - val_npv: 4.2045e-05 - val_dice_coefficient: 1.1364 - lr: 1.0000e-04\n"
     ]
    }
   ],
   "source": [
    "log = logging.getLogger()\n",
    "if True:\n",
    "    # \n",
    "    assert tf.test.is_gpu_available(), \"CHECK GPU AVAILABILITY! (eg /etc/docker/daemon.json default runtime)\"\n",
    "    #\n",
    "    ## --- configure model training\n",
    "    # get loss function and any kwargs (entered as a string to argparser)\n",
    "    loss_fn_name, *lf_kwarg_str = 'dice_coeff_loss'.split(':')\n",
    "    # grab func itself from losses module by name\n",
    "    loss_fn = getattr(losses, loss_fn_name)\n",
    "    # optionally provide kwargs to higher-order function to return lf\n",
    "    if lf_kwarg_str:\n",
    "        lf_kwargs = parse_kwarg_str(*lf_kwarg_str)\n",
    "        loss_fn = loss_fn(**lf_kwargs)\n",
    "    else:\n",
    "        lf_kwargs = {}\n",
    "    # encode loss function args as a cleaned-up string for identifying models trained with this\n",
    "    lfastr = '_args_' + '_'.join([f'{k}={v:.2f}' for k, v in lf_kwargs.items()]) if lf_kwargs else ''\n",
    "    # calculate number of training and validation steps\n",
    "    train_steps = tds.X_train.shape[0]//4\n",
    "    valid_steps = tds.X_val.shape[0]//4\n",
    "    print(f'train_steps={train_steps}')\n",
    "    print(f'val_steps={valid_steps}')\n",
    "    if True:\n",
    "        assert tds.X_val.shape[0] > 0, (\n",
    "            \"Not enough dask blocks to make up validation data frac!\\n\"\n",
    "            f\"train: {tds.X_train}\"\n",
    "        )\n",
    "    # select metrics\n",
    "    metrics = [losses.tversky_index, losses.jaccard_index, losses.recall, losses.precision, losses.specificity, losses.npv, losses.dice_coefficient]\n",
    "    # interpret optimizer\n",
    "    opt = tf.keras.optimizers.Adam(learning_rate=0.0001, beta_1=0.9, beta_2=0.999, amsgrad=False) # check out RADAM?\n",
    "    # stoachastic weight averaging if enabled\n",
    "    opt = SWA(opt, start_averaging=100 - 50, average_period=5)\n",
    "    # specify training directory to save weights and metrics for this loss_fn and data ID\n",
    "    project_name = Path(f'Segmentalist_{uuid.uuid4()}')\n",
    "    training_dir = Path(str(cfg.models_path)) / project_name\n",
    "    training_dir.mkdir(parents=True, exist_ok=True)\n",
    "    # -- callbacks\n",
    "    # early stopping\n",
    "    monitor = 'loss'\n",
    "    callbacks=[tf.keras.callbacks.EarlyStopping(monitor, patience=7)]\n",
    "    # reduce the learning rate on plateaus\n",
    "    callbacks.append(tf.keras.callbacks.ReduceLROnPlateau(monitor=monitor,factor=0.5,patience=2, min_lr=0.000001))\n",
    "    # set up tensorboard to record metrics in a subdirectory\n",
    "    tb_pth = training_dir / Path(\"metrics/\")\n",
    "    tb_cb = tf.keras.callbacks.TensorBoard(log_dir=str(tb_pth),update_freq=50)\n",
    "    callbacks.append(tb_cb)\n",
    "    # set up checkpoints in the training directory\n",
    "#     cp_fmt = 'cp-e{epoch:02d}-ji{jaccard_index:.5f}-l{loss:.5f}'\n",
    "#     suffix = '-vl{val_loss:.5f}.ckpt'\n",
    "#     cp_fmt = cp_fmt + '-vl0.00.ckpt' # suffix\n",
    "    cp_fmt = 'cp-e{epoch:02d}-ji{jaccard_index:.5f}-l{loss:.5f}'\n",
    "    suffix = '-vl{val_loss:.5f}.ckpt'\n",
    "    cp_fmt = cp_fmt + '-vl0.00.ckpt' # suffix\n",
    "    cp_callback = tf.keras.callbacks.ModelCheckpoint(filepath=str(training_dir / Path(cp_fmt)), monitor=monitor, save_best_only=True, save_weights_only=True, verbose=1)\n",
    "    cp_callback_trn = tf.keras.callbacks.ModelCheckpoint(filepath=str(training_dir / Path(cp_fmt)), monitor='loss', save_best_only=True, save_weights_only=True, verbose=1)\n",
    "    # callbacks.append(cp_callback)\n",
    "    callbacks.append(cp_callback_trn)\n",
    "    # --- build and compile the model\n",
    "    # format attention gate param\n",
    "    ag = 'SAG'\n",
    "    model = Segmentalist(n_classes=tds.y_train.shape[-1], layer_blocks=[2,2,2,2], last_decoder_layer_blocks=2, initial_filters=64, residual_filters=[128,256,512,1024],\n",
    "        initial_kernel_size=(7, 7), head_kernel_size=(1, 1), cardinality=1, act='relu', downsample='pool',\n",
    "        decoder_attention_gates=ag, encoder_cbam=True, decoder_cbam=True, pyramid_pooling=True, deep_supervision=True, lambda_conv=True,)\n",
    "    model.build(input_shape=(4, 256, 256, tds.X_train.shape[-1]))\n",
    "    model.compile(optimizer=opt, loss=loss_fn, metrics=metrics)\n",
    "    \n",
    "        # option to dump test data removed for testing session\n",
    "    # dump setup\n",
    "    # augmentations\n",
    "    A.save(augger, f'{training_dir}/transform.yml', data_format='yaml')\n",
    "    # \n",
    "    log.info(\"Start training...\")\n",
    "    # \n",
    "    args = {'datasets': 'train_tif_2', 'target_spatial_resolution': 0.6, 'pyramid_pooling': True, 'deep_supervision': True, 'lambda_conv': True, 'encoder_cbam': True, 'decoder_cbam': True, 'sag': True, 'csag': True, 'layer_blocks': '2,2,2,2', 'layer_blocks_' : [2,2,2,2], 'last_decoder_layer_blocks': 2, 'initial_filters': 64, 'residual_filters': '128,256,512,1024', 'residual_filters_' : [128,256,512,1024], 'initial_kernel_size': 7, 'initial_kernel_size_' : (7, 7), 'head_kernel_size': 1, 'head_kernel_size_' : (1, 1), 'cardinality': 1, 'activation': 'relu', 'downsample': 'pool', 'patch_size': 256, 'overlapping_tiles': True, 'epochs': 100, 'batch_size': 4, 'loss_fn': 'dice_coeff_loss', 'optimiser': 'adam', 'swa': True, 'duration_swa': 50, 'period_swa': 5, 'use_val': False, 'patience': 7, 'seed': 42, 'val_frac': 0.1, 'test_frac': 0.0, 'fancy_augs': True, 'lr_init': 0.0001, 'lr_min': 1e-06, 'lr_reduce_factor': 0.5, 'lr_reduce_patience': 2, 'ocp': False, 'balanced_oversample': False, 'models_dir': str(cfg.models_path), 'dump_test_data': False, 'dump_first_batches': False, 'use_cache': False, 'save_to_cache': False}\n",
    "    # \n",
    "    with open(f'{training_dir}/run_params.yml', 'w') as outfile:\n",
    "        yaml.dump(args, outfile, default_flow_style=False)\n",
    "    \n",
    "    # --- train the model\n",
    "    print('fit model')\n",
    "    model.fit(tds.batch_gen_train(), steps_per_epoch=train_steps, epochs=2, max_queue_size=50, callbacks=callbacks, \n",
    "              validation_data=tds.batch_gen_val(), validation_steps=valid_steps)"
   ]
  },
  {
   "cell_type": "code",
   "execution_count": 18,
   "metadata": {},
   "outputs": [],
   "source": [
    "# Define datasets on disk\n",
    "ds1 = datasets.Dataset(tag='train_tif',\n",
    "                            image_paths = ['/home/root/tests/resources/train_data_tif/rasters/Medellin_40cm.tif'],\n",
    "                            mask_paths = ['/home/root/tests/resources/train_data_tif/masks/Medellin_ground_truth.tif'], # say this one doesn't have any ground truth\n",
    "                            spatial_resolution=0.4)"
   ]
  },
  {
   "cell_type": "code",
   "execution_count": 44,
   "metadata": {},
   "outputs": [
    {
     "name": "stdout",
     "output_type": "stream",
     "text": [
      "\u001b[38;5;255m23:43:47  I  …iteTrainingDataset.prune  \u001b[0m\u001b[38;5;255m\u001b[38;5;231mSelecting training datasets to eliminate with\u001b[0m\u001b[38;5;255m               \u001b[0m\n",
      "\u001b[38;5;255m                                        \u001b[0m\u001b[38;5;255m\u001b[38;5;231mhas_empty_raster...\u001b[0m\u001b[38;5;255m                                         \u001b[0m\n",
      "\u001b[38;5;33m23:43:47  D  …iningDataset.load_arrays  \u001b[0m\u001b[38;5;33m\u001b[38;5;231mloading arrays\u001b[0m\u001b[38;5;33m                                              \u001b[0m\n",
      "\u001b[38;5;33m23:43:47  D  …iningDataset.load_arrays  \u001b[0m\u001b[38;5;33m\u001b[38;5;231mdone loading arrays\u001b[0m\u001b[38;5;33m                                         \u001b[0m\n",
      "\u001b[38;5;255m23:43:48  I  …iteTrainingDataset.prune  \u001b[0m\u001b[38;5;255m\u001b[38;5;231mRemoved 0 TrainingDatasets, leaving 1.\u001b[0m\u001b[38;5;255m                      \u001b[0m\n",
      "\u001b[38;5;33m23:43:48  D    TrainingDataset.prepare  \u001b[0m\u001b[38;5;33m\u001b[38;5;231mObtaining arrays for /home/root/tests/resources/train_data_t\u001b[0m\u001b[38;5;33m\u001b[0m\n",
      "\u001b[38;5;33m                                        \u001b[0m\u001b[38;5;33m\u001b[38;5;231mif/rasters/Medellin_40cm.tif, /home/root/tests/resources/tra\u001b[0m\u001b[38;5;33m\u001b[0m\n",
      "\u001b[38;5;33m                                        \u001b[0m\u001b[38;5;33m\u001b[38;5;231min_data_tif/masks/Medellin_ground_truth.tif...\u001b[0m\u001b[38;5;33m              \u001b[0m\n",
      "\u001b[38;5;33m23:43:48  D  …iningDataset.load_arrays  \u001b[0m\u001b[38;5;33m\u001b[38;5;231mloading arrays\u001b[0m\u001b[38;5;33m                                              \u001b[0m\n",
      "\u001b[38;5;33m23:43:48  D  …iningDataset.load_arrays  \u001b[0m\u001b[38;5;33m\u001b[38;5;231mdone loading arrays\u001b[0m\u001b[38;5;33m                                         \u001b[0m\n",
      "\u001b[38;5;33m23:43:48  D  …ngDataset.make_pipelines  \u001b[0m\u001b[38;5;33m\u001b[38;5;231mAssigning image pipeline...\u001b[0m\u001b[38;5;33m                                 \u001b[0m\n",
      "\u001b[38;5;33m23:43:48  D  …ngDataset.make_pipelines  \u001b[0m\u001b[38;5;33m\u001b[38;5;231mAssigning mask pipeline...\u001b[0m\u001b[38;5;33m                                  \u001b[0m\n",
      "\u001b[38;5;33m23:43:48  D       OverlappingTiler.fit  \u001b[0m\u001b[38;5;33m\u001b[38;5;231mDividing array with shape (2519, 3579, 3) into half-step\u001b[0m\u001b[38;5;33m    \u001b[0m\n",
      "\u001b[38;5;33m                                        \u001b[0m\u001b[38;5;33m\u001b[38;5;231moverlapping tiles...\u001b[0m\u001b[38;5;33m                                        \u001b[0m\n",
      "\u001b[38;5;33m23:43:48  D                  Tiler.fit  \u001b[0m\u001b[38;5;33m\u001b[38;5;231mShape going into stacker: (2519, 3579, 3)\u001b[0m\u001b[38;5;33m                   \u001b[0m\n",
      "\u001b[38;5;33m23:43:48  D     WindowFitter.transform  \u001b[0m\u001b[38;5;33m\u001b[38;5;231mTransforming input data to match integer number of\u001b[0m\u001b[38;5;33m          \u001b[0m\n",
      "\u001b[38;5;33m                                        \u001b[0m\u001b[38;5;33m\u001b[38;5;231mwindows...\u001b[0m\u001b[38;5;33m                                                  \u001b[0m\n",
      "\u001b[38;5;33m23:43:48  D     WindowFitter.transform  \u001b[0m\u001b[38;5;33m\u001b[38;5;231mTransforming input data to match integer number of\u001b[0m\u001b[38;5;33m          \u001b[0m\n",
      "\u001b[38;5;33m                                        \u001b[0m\u001b[38;5;33m\u001b[38;5;231mwindows...\u001b[0m\u001b[38;5;33m                                                  \u001b[0m\n",
      "\u001b[38;5;33m23:43:48  D                  Tiler.fit  \u001b[0m\u001b[38;5;33m\u001b[38;5;231mShape going into stacker: (2391, 3579, 3)\u001b[0m\u001b[38;5;33m                   \u001b[0m\n",
      "\u001b[38;5;33m23:43:48  D     WindowFitter.transform  \u001b[0m\u001b[38;5;33m\u001b[38;5;231mTransforming input data to match integer number of\u001b[0m\u001b[38;5;33m          \u001b[0m\n",
      "\u001b[38;5;33m                                        \u001b[0m\u001b[38;5;33m\u001b[38;5;231mwindows...\u001b[0m\u001b[38;5;33m                                                  \u001b[0m\n",
      "\u001b[38;5;33m23:43:48  D     WindowFitter.transform  \u001b[0m\u001b[38;5;33m\u001b[38;5;231mTransforming input data to match integer number of\u001b[0m\u001b[38;5;33m          \u001b[0m\n",
      "\u001b[38;5;33m                                        \u001b[0m\u001b[38;5;33m\u001b[38;5;231mwindows...\u001b[0m\u001b[38;5;33m                                                  \u001b[0m\n",
      "\u001b[38;5;33m23:43:48  D                  Tiler.fit  \u001b[0m\u001b[38;5;33m\u001b[38;5;231mShape going into stacker: (2519, 3451, 3)\u001b[0m\u001b[38;5;33m                   \u001b[0m\n",
      "\u001b[38;5;33m23:43:48  D     WindowFitter.transform  \u001b[0m\u001b[38;5;33m\u001b[38;5;231mTransforming input data to match integer number of\u001b[0m\u001b[38;5;33m          \u001b[0m\n",
      "\u001b[38;5;33m                                        \u001b[0m\u001b[38;5;33m\u001b[38;5;231mwindows...\u001b[0m\u001b[38;5;33m                                                  \u001b[0m\n",
      "\u001b[38;5;33m23:43:48  D     WindowFitter.transform  \u001b[0m\u001b[38;5;33m\u001b[38;5;231mTransforming input data to match integer number of\u001b[0m\u001b[38;5;33m          \u001b[0m\n",
      "\u001b[38;5;33m                                        \u001b[0m\u001b[38;5;33m\u001b[38;5;231mwindows...\u001b[0m\u001b[38;5;33m                                                  \u001b[0m\n",
      "\u001b[38;5;33m23:43:48  D                  Tiler.fit  \u001b[0m\u001b[38;5;33m\u001b[38;5;231mShape going into stacker: (2391, 3451, 3)\u001b[0m\u001b[38;5;33m                   \u001b[0m\n",
      "\u001b[38;5;33m23:43:48  D     WindowFitter.transform  \u001b[0m\u001b[38;5;33m\u001b[38;5;231mTransforming input data to match integer number of\u001b[0m\u001b[38;5;33m          \u001b[0m\n",
      "\u001b[38;5;33m                                        \u001b[0m\u001b[38;5;33m\u001b[38;5;231mwindows...\u001b[0m\u001b[38;5;33m                                                  \u001b[0m\n",
      "\u001b[38;5;33m23:43:48  D     WindowFitter.transform  \u001b[0m\u001b[38;5;33m\u001b[38;5;231mTransforming input data to match integer number of\u001b[0m\u001b[38;5;33m          \u001b[0m\n",
      "\u001b[38;5;33m                                        \u001b[0m\u001b[38;5;33m\u001b[38;5;231mwindows...\u001b[0m\u001b[38;5;33m                                                  \u001b[0m\n",
      "\u001b[38;5;33m23:43:48  D     WindowFitter.transform  \u001b[0m\u001b[38;5;33m\u001b[38;5;231mTransforming input data to match integer number of\u001b[0m\u001b[38;5;33m          \u001b[0m\n",
      "\u001b[38;5;33m                                        \u001b[0m\u001b[38;5;33m\u001b[38;5;231mwindows...\u001b[0m\u001b[38;5;33m                                                  \u001b[0m\n",
      "\u001b[38;5;33m23:43:48  D      TileStacker.transform  \u001b[0m\u001b[38;5;33m\u001b[38;5;231mReshaping array into tiles...\u001b[0m\u001b[38;5;33m                               \u001b[0m\n",
      "\u001b[38;5;33m23:43:48  D      TileStacker.transform  \u001b[0m\u001b[38;5;33m\u001b[38;5;231mReshaping array into tiles...\u001b[0m\u001b[38;5;33m                               \u001b[0m\n",
      "\u001b[38;5;33m23:43:48  D      TileStacker.transform  \u001b[0m\u001b[38;5;33m\u001b[38;5;231mReshaping array into tiles...\u001b[0m\u001b[38;5;33m                               \u001b[0m\n",
      "\u001b[38;5;33m23:43:48  D     WindowFitter.transform  \u001b[0m\u001b[38;5;33m\u001b[38;5;231mTransforming input data to match integer number of\u001b[0m\u001b[38;5;33m          \u001b[0m\n",
      "\u001b[38;5;33m                                        \u001b[0m\u001b[38;5;33m\u001b[38;5;231mwindows...\u001b[0m\u001b[38;5;33m                                                  \u001b[0m\n",
      "\u001b[38;5;33m23:43:48  D      TileStacker.transform  \u001b[0m\u001b[38;5;33m\u001b[38;5;231mReshaping array into tiles...\u001b[0m\u001b[38;5;33m                               \u001b[0m\n",
      "\u001b[38;5;33m23:43:48  D      TileStacker.transform  \u001b[0m\u001b[38;5;33m\u001b[38;5;231mReshaping array into tiles...\u001b[0m\u001b[38;5;33m                               \u001b[0m\n",
      "\u001b[38;5;33m23:43:48  D      TileStacker.transform  \u001b[0m\u001b[38;5;33m\u001b[38;5;231mReshaping array into tiles...\u001b[0m\u001b[38;5;33m                               \u001b[0m\n",
      "\u001b[38;5;33m23:43:48  D     WindowFitter.transform  \u001b[0m\u001b[38;5;33m\u001b[38;5;231mTransforming input data to match integer number of\u001b[0m\u001b[38;5;33m          \u001b[0m\n",
      "\u001b[38;5;33m                                        \u001b[0m\u001b[38;5;33m\u001b[38;5;231mwindows...\u001b[0m\u001b[38;5;33m                                                  \u001b[0m\n",
      "\u001b[38;5;33m23:43:48  D      TileStacker.transform  \u001b[0m\u001b[38;5;33m\u001b[38;5;231mReshaping array into tiles...\u001b[0m\u001b[38;5;33m                               \u001b[0m\n",
      "\u001b[38;5;33m23:43:48  D      TileStacker.transform  \u001b[0m\u001b[38;5;33m\u001b[38;5;231mReshaping array into tiles...\u001b[0m\u001b[38;5;33m                               \u001b[0m\n",
      "\u001b[38;5;33m23:43:48  D      TileStacker.transform  \u001b[0m\u001b[38;5;33m\u001b[38;5;231mReshaping array into tiles...\u001b[0m\u001b[38;5;33m                               \u001b[0m\n",
      "\u001b[38;5;33m23:43:48  D     WindowFitter.transform  \u001b[0m\u001b[38;5;33m\u001b[38;5;231mTransforming input data to match integer number of\u001b[0m\u001b[38;5;33m          \u001b[0m\n",
      "\u001b[38;5;33m                                        \u001b[0m\u001b[38;5;33m\u001b[38;5;231mwindows...\u001b[0m\u001b[38;5;33m                                                  \u001b[0m\n",
      "\u001b[38;5;33m23:43:48  D      TileStacker.transform  \u001b[0m\u001b[38;5;33m\u001b[38;5;231mReshaping array into tiles...\u001b[0m\u001b[38;5;33m                               \u001b[0m\n",
      "\u001b[38;5;33m23:43:48  D      TileStacker.transform  \u001b[0m\u001b[38;5;33m\u001b[38;5;231mReshaping array into tiles...\u001b[0m\u001b[38;5;33m                               \u001b[0m\n",
      "\u001b[38;5;33m23:43:48  D      TileStacker.transform  \u001b[0m\u001b[38;5;33m\u001b[38;5;231mReshaping array into tiles...\u001b[0m\u001b[38;5;33m                               \u001b[0m\n"
     ]
    },
    {
     "name": "stdout",
     "output_type": "stream",
     "text": [
      "\u001b[38;5;33m23:43:48  D  …erlappingTiler.transform  \u001b[0m\u001b[38;5;33m\u001b[38;5;231mAssembling overlapping tiles...\u001b[0m\u001b[38;5;33m                             \u001b[0m\n",
      "\u001b[38;5;255m23:43:48  I    TrainingDataset.prepare  \u001b[0m\u001b[38;5;255m\u001b[38;5;231mImage pipeline done!\u001b[0m\u001b[38;5;255m                                        \u001b[0m\n",
      "\u001b[38;5;33m23:43:48  D   DimensionAdder.transform  \u001b[0m\u001b[38;5;33m\u001b[38;5;231mLeaving array shape alone...\u001b[0m\u001b[38;5;33m                                \u001b[0m\n",
      "\u001b[38;5;33m23:43:48  D       OverlappingTiler.fit  \u001b[0m\u001b[38;5;33m\u001b[38;5;231mDividing array with shape (2519, 3579, 1) into half-step\u001b[0m\u001b[38;5;33m    \u001b[0m\n",
      "\u001b[38;5;33m                                        \u001b[0m\u001b[38;5;33m\u001b[38;5;231moverlapping tiles...\u001b[0m\u001b[38;5;33m                                        \u001b[0m\n",
      "\u001b[38;5;33m23:43:48  D                  Tiler.fit  \u001b[0m\u001b[38;5;33m\u001b[38;5;231mShape going into stacker: (2519, 3579, 1)\u001b[0m\u001b[38;5;33m                   \u001b[0m\n",
      "\u001b[38;5;33m23:43:48  D     WindowFitter.transform  \u001b[0m\u001b[38;5;33m\u001b[38;5;231mTransforming input data to match integer number of\u001b[0m\u001b[38;5;33m          \u001b[0m\n",
      "\u001b[38;5;33m                                        \u001b[0m\u001b[38;5;33m\u001b[38;5;231mwindows...\u001b[0m\u001b[38;5;33m                                                  \u001b[0m\n",
      "\u001b[38;5;33m23:43:48  D     WindowFitter.transform  \u001b[0m\u001b[38;5;33m\u001b[38;5;231mTransforming input data to match integer number of\u001b[0m\u001b[38;5;33m          \u001b[0m\n",
      "\u001b[38;5;33m                                        \u001b[0m\u001b[38;5;33m\u001b[38;5;231mwindows...\u001b[0m\u001b[38;5;33m                                                  \u001b[0m\n",
      "\u001b[38;5;33m23:43:48  D                  Tiler.fit  \u001b[0m\u001b[38;5;33m\u001b[38;5;231mShape going into stacker: (2391, 3579, 1)\u001b[0m\u001b[38;5;33m                   \u001b[0m\n",
      "\u001b[38;5;33m23:43:48  D     WindowFitter.transform  \u001b[0m\u001b[38;5;33m\u001b[38;5;231mTransforming input data to match integer number of\u001b[0m\u001b[38;5;33m          \u001b[0m\n",
      "\u001b[38;5;33m                                        \u001b[0m\u001b[38;5;33m\u001b[38;5;231mwindows...\u001b[0m\u001b[38;5;33m                                                  \u001b[0m\n",
      "\u001b[38;5;33m23:43:48  D     WindowFitter.transform  \u001b[0m\u001b[38;5;33m\u001b[38;5;231mTransforming input data to match integer number of\u001b[0m\u001b[38;5;33m          \u001b[0m\n",
      "\u001b[38;5;33m                                        \u001b[0m\u001b[38;5;33m\u001b[38;5;231mwindows...\u001b[0m\u001b[38;5;33m                                                  \u001b[0m\n",
      "\u001b[38;5;33m23:43:48  D                  Tiler.fit  \u001b[0m\u001b[38;5;33m\u001b[38;5;231mShape going into stacker: (2519, 3451, 1)\u001b[0m\u001b[38;5;33m                   \u001b[0m\n",
      "\u001b[38;5;33m23:43:48  D     WindowFitter.transform  \u001b[0m\u001b[38;5;33m\u001b[38;5;231mTransforming input data to match integer number of\u001b[0m\u001b[38;5;33m          \u001b[0m\n",
      "\u001b[38;5;33m                                        \u001b[0m\u001b[38;5;33m\u001b[38;5;231mwindows...\u001b[0m\u001b[38;5;33m                                                  \u001b[0m\n",
      "\u001b[38;5;33m23:43:48  D     WindowFitter.transform  \u001b[0m\u001b[38;5;33m\u001b[38;5;231mTransforming input data to match integer number of\u001b[0m\u001b[38;5;33m          \u001b[0m\n",
      "\u001b[38;5;33m                                        \u001b[0m\u001b[38;5;33m\u001b[38;5;231mwindows...\u001b[0m\u001b[38;5;33m                                                  \u001b[0m\n",
      "\u001b[38;5;33m23:43:48  D                  Tiler.fit  \u001b[0m\u001b[38;5;33m\u001b[38;5;231mShape going into stacker: (2391, 3451, 1)\u001b[0m\u001b[38;5;33m                   \u001b[0m\n",
      "\u001b[38;5;33m23:43:48  D     WindowFitter.transform  \u001b[0m\u001b[38;5;33m\u001b[38;5;231mTransforming input data to match integer number of\u001b[0m\u001b[38;5;33m          \u001b[0m\n",
      "\u001b[38;5;33m                                        \u001b[0m\u001b[38;5;33m\u001b[38;5;231mwindows...\u001b[0m\u001b[38;5;33m                                                  \u001b[0m\n",
      "\u001b[38;5;33m23:43:48  D     WindowFitter.transform  \u001b[0m\u001b[38;5;33m\u001b[38;5;231mTransforming input data to match integer number of\u001b[0m\u001b[38;5;33m          \u001b[0m\n",
      "\u001b[38;5;33m                                        \u001b[0m\u001b[38;5;33m\u001b[38;5;231mwindows...\u001b[0m\u001b[38;5;33m                                                  \u001b[0m\n",
      "\u001b[38;5;33m23:43:48  D     WindowFitter.transform  \u001b[0m\u001b[38;5;33m\u001b[38;5;231mTransforming input data to match integer number of\u001b[0m\u001b[38;5;33m          \u001b[0m\n",
      "\u001b[38;5;33m                                        \u001b[0m\u001b[38;5;33m\u001b[38;5;231mwindows...\u001b[0m\u001b[38;5;33m                                                  \u001b[0m\n",
      "\u001b[38;5;33m23:43:48  D      TileStacker.transform  \u001b[0m\u001b[38;5;33m\u001b[38;5;231mReshaping array into tiles...\u001b[0m\u001b[38;5;33m                               \u001b[0m\n",
      "\u001b[38;5;33m23:43:48  D      TileStacker.transform  \u001b[0m\u001b[38;5;33m\u001b[38;5;231mReshaping array into tiles...\u001b[0m\u001b[38;5;33m                               \u001b[0m\n",
      "\u001b[38;5;33m23:43:48  D      TileStacker.transform  \u001b[0m\u001b[38;5;33m\u001b[38;5;231mReshaping array into tiles...\u001b[0m\u001b[38;5;33m                               \u001b[0m\n",
      "\u001b[38;5;33m23:43:48  D     WindowFitter.transform  \u001b[0m\u001b[38;5;33m\u001b[38;5;231mTransforming input data to match integer number of\u001b[0m\u001b[38;5;33m          \u001b[0m\n",
      "\u001b[38;5;33m                                        \u001b[0m\u001b[38;5;33m\u001b[38;5;231mwindows...\u001b[0m\u001b[38;5;33m                                                  \u001b[0m\n",
      "\u001b[38;5;33m23:43:48  D      TileStacker.transform  \u001b[0m\u001b[38;5;33m\u001b[38;5;231mReshaping array into tiles...\u001b[0m\u001b[38;5;33m                               \u001b[0m\n",
      "\u001b[38;5;33m23:43:48  D      TileStacker.transform  \u001b[0m\u001b[38;5;33m\u001b[38;5;231mReshaping array into tiles...\u001b[0m\u001b[38;5;33m                               \u001b[0m\n",
      "\u001b[38;5;33m23:43:48  D      TileStacker.transform  \u001b[0m\u001b[38;5;33m\u001b[38;5;231mReshaping array into tiles...\u001b[0m\u001b[38;5;33m                               \u001b[0m\n",
      "\u001b[38;5;33m23:43:48  D     WindowFitter.transform  \u001b[0m\u001b[38;5;33m\u001b[38;5;231mTransforming input data to match integer number of\u001b[0m\u001b[38;5;33m          \u001b[0m\n",
      "\u001b[38;5;33m                                        \u001b[0m\u001b[38;5;33m\u001b[38;5;231mwindows...\u001b[0m\u001b[38;5;33m                                                  \u001b[0m\n",
      "\u001b[38;5;33m23:43:48  D      TileStacker.transform  \u001b[0m\u001b[38;5;33m\u001b[38;5;231mReshaping array into tiles...\u001b[0m\u001b[38;5;33m                               \u001b[0m\n",
      "\u001b[38;5;33m23:43:48  D      TileStacker.transform  \u001b[0m\u001b[38;5;33m\u001b[38;5;231mReshaping array into tiles...\u001b[0m\u001b[38;5;33m                               \u001b[0m\n",
      "\u001b[38;5;33m23:43:48  D      TileStacker.transform  \u001b[0m\u001b[38;5;33m\u001b[38;5;231mReshaping array into tiles...\u001b[0m\u001b[38;5;33m                               \u001b[0m\n",
      "\u001b[38;5;33m23:43:48  D     WindowFitter.transform  \u001b[0m\u001b[38;5;33m\u001b[38;5;231mTransforming input data to match integer number of\u001b[0m\u001b[38;5;33m          \u001b[0m\n",
      "\u001b[38;5;33m                                        \u001b[0m\u001b[38;5;33m\u001b[38;5;231mwindows...\u001b[0m\u001b[38;5;33m                                                  \u001b[0m\n",
      "\u001b[38;5;33m23:43:48  D      TileStacker.transform  \u001b[0m\u001b[38;5;33m\u001b[38;5;231mReshaping array into tiles...\u001b[0m\u001b[38;5;33m                               \u001b[0m\n",
      "\u001b[38;5;33m23:43:48  D      TileStacker.transform  \u001b[0m\u001b[38;5;33m\u001b[38;5;231mReshaping array into tiles...\u001b[0m\u001b[38;5;33m                               \u001b[0m\n",
      "\u001b[38;5;33m23:43:48  D      TileStacker.transform  \u001b[0m\u001b[38;5;33m\u001b[38;5;231mReshaping array into tiles...\u001b[0m\u001b[38;5;33m                               \u001b[0m\n",
      "\u001b[38;5;33m23:43:48  D  …erlappingTiler.transform  \u001b[0m\u001b[38;5;33m\u001b[38;5;231mAssembling overlapping tiles...\u001b[0m\u001b[38;5;33m                             \u001b[0m\n",
      "\u001b[38;5;255m23:43:48  I    TrainingDataset.prepare  \u001b[0m\u001b[38;5;255m\u001b[38;5;231mMask pipeline done!\u001b[0m\u001b[38;5;255m                                         \u001b[0m\n",
      "\u001b[38;5;33m23:43:49  D    TrainingDataset.prepare  \u001b[0m\u001b[38;5;33m\u001b[38;5;231mAligning image/mask array chunks...\u001b[0m\u001b[38;5;33m                         \u001b[0m\n",
      "\u001b[38;5;255m23:43:49  I    TrainingDataset.prepare  \u001b[0m\u001b[38;5;255m\u001b[38;5;231mImage/mask arrays from /home/root/tests/resources/train_data\u001b[0m\u001b[38;5;255m\u001b[0m\n",
      "\u001b[38;5;255m                                        \u001b[0m\u001b[38;5;255m\u001b[38;5;231m_tif/rasters/Medellin_40cm.tif <-> /home/root/tests/resource\u001b[0m\u001b[38;5;255m\u001b[0m\n",
      "\u001b[38;5;255m                                        \u001b[0m\u001b[38;5;255m\u001b[38;5;231ms/train_data_tif/masks/Medellin_ground_truth.tif prepared\u001b[0m\u001b[38;5;255m   \u001b[0m\n",
      "\u001b[38;5;255m                                        \u001b[0m\u001b[38;5;255m\u001b[38;5;231mfor training!\u001b[0m\u001b[38;5;255m                                               \u001b[0m\n",
      "\u001b[38;5;255m23:43:49  I  …eTrainingDataset.prepare  \u001b[0m\u001b[38;5;255m\u001b[38;5;231mAligning image/mask array chunks...\u001b[0m\u001b[38;5;255m                         \u001b[0m\n",
      "\u001b[38;5;255m23:43:49  I  …eTrainingDataset.prepare  \u001b[0m\u001b[38;5;255m\u001b[38;5;231mShuffling datasets together...\u001b[0m\u001b[38;5;255m                              \u001b[0m\n"
     ]
    },
    {
     "name": "stdout",
     "output_type": "stream",
     "text": [
      "\u001b[38;5;255m23:43:49  I  …eTrainingDataset.prepare  \u001b[0m\u001b[38;5;255m\u001b[38;5;231mComposite dataset prepare done!\u001b[0m\u001b[38;5;255m                             \u001b[0m\n",
      "train_steps=84\n",
      "val_steps=56\n",
      "fit model\n"
     ]
    },
    {
     "ename": "TypeError",
     "evalue": "'NoneType' object is not callable",
     "output_type": "error",
     "traceback": [
      "\u001b[0;31m--------------------------------------------------------------------\u001b[0m",
      "\u001b[0;31mTypeError\u001b[0m                          Traceback (most recent call last)",
      "\u001b[0;32m<ipython-input-44-f4192152cb9b>\u001b[0m in \u001b[0;36m<module>\u001b[0;34m\u001b[0m\n\u001b[1;32m    123\u001b[0m     \u001b[0;31m# --- train the model\u001b[0m\u001b[0;34m\u001b[0m\u001b[0;34m\u001b[0m\u001b[0;34m\u001b[0m\u001b[0m\n\u001b[1;32m    124\u001b[0m     \u001b[0mprint\u001b[0m\u001b[0;34m(\u001b[0m\u001b[0;34m'fit model'\u001b[0m\u001b[0;34m)\u001b[0m\u001b[0;34m\u001b[0m\u001b[0;34m\u001b[0m\u001b[0m\n\u001b[0;32m--> 125\u001b[0;31m     model.fit(tds.batch_gen_train(), steps_per_epoch=train_steps, epochs=100, max_queue_size=50, callbacks=callbacks, \n\u001b[0m\u001b[1;32m    126\u001b[0m               validation_data=tds.batch_gen_val(), validation_steps=valid_steps)\n\u001b[1;32m    127\u001b[0m     \u001b[0;31m# validation_data=tds.batch_gen_val(), validation_steps=valid_steps,\u001b[0m\u001b[0;34m\u001b[0m\u001b[0;34m\u001b[0m\u001b[0;34m\u001b[0m\u001b[0m\n",
      "\u001b[0;32m/opt/conda/envs/gim_cv_gpu/lib/python3.8/site-packages/tensorflow/python/keras/engine/training.py\u001b[0m in \u001b[0;36m_method_wrapper\u001b[0;34m(self, *args, **kwargs)\u001b[0m\n\u001b[1;32m     64\u001b[0m   \u001b[0;32mdef\u001b[0m \u001b[0m_method_wrapper\u001b[0m\u001b[0;34m(\u001b[0m\u001b[0mself\u001b[0m\u001b[0;34m,\u001b[0m \u001b[0;34m*\u001b[0m\u001b[0margs\u001b[0m\u001b[0;34m,\u001b[0m \u001b[0;34m**\u001b[0m\u001b[0mkwargs\u001b[0m\u001b[0;34m)\u001b[0m\u001b[0;34m:\u001b[0m\u001b[0;34m\u001b[0m\u001b[0;34m\u001b[0m\u001b[0m\n\u001b[1;32m     65\u001b[0m     \u001b[0;32mif\u001b[0m \u001b[0;32mnot\u001b[0m \u001b[0mself\u001b[0m\u001b[0;34m.\u001b[0m\u001b[0m_in_multi_worker_mode\u001b[0m\u001b[0;34m(\u001b[0m\u001b[0;34m)\u001b[0m\u001b[0;34m:\u001b[0m  \u001b[0;31m# pylint: disable=protected-access\u001b[0m\u001b[0;34m\u001b[0m\u001b[0;34m\u001b[0m\u001b[0m\n\u001b[0;32m---> 66\u001b[0;31m       \u001b[0;32mreturn\u001b[0m \u001b[0mmethod\u001b[0m\u001b[0;34m(\u001b[0m\u001b[0mself\u001b[0m\u001b[0;34m,\u001b[0m \u001b[0;34m*\u001b[0m\u001b[0margs\u001b[0m\u001b[0;34m,\u001b[0m \u001b[0;34m**\u001b[0m\u001b[0mkwargs\u001b[0m\u001b[0;34m)\u001b[0m\u001b[0;34m\u001b[0m\u001b[0;34m\u001b[0m\u001b[0m\n\u001b[0m\u001b[1;32m     67\u001b[0m \u001b[0;34m\u001b[0m\u001b[0m\n\u001b[1;32m     68\u001b[0m     \u001b[0;31m# Running inside `run_distribute_coordinator` already.\u001b[0m\u001b[0;34m\u001b[0m\u001b[0;34m\u001b[0m\u001b[0;34m\u001b[0m\u001b[0m\n",
      "\u001b[0;32m/opt/conda/envs/gim_cv_gpu/lib/python3.8/site-packages/tensorflow/python/keras/engine/training.py\u001b[0m in \u001b[0;36mfit\u001b[0;34m(self, x, y, batch_size, epochs, verbose, callbacks, validation_split, validation_data, shuffle, class_weight, sample_weight, initial_epoch, steps_per_epoch, validation_steps, validation_batch_size, validation_freq, max_queue_size, workers, use_multiprocessing)\u001b[0m\n\u001b[1;32m    800\u001b[0m          \u001b[0mtraining_utils\u001b[0m\u001b[0;34m.\u001b[0m\u001b[0mRespectCompiledTrainableState\u001b[0m\u001b[0;34m(\u001b[0m\u001b[0mself\u001b[0m\u001b[0;34m)\u001b[0m\u001b[0;34m:\u001b[0m\u001b[0;34m\u001b[0m\u001b[0;34m\u001b[0m\u001b[0m\n\u001b[1;32m    801\u001b[0m       \u001b[0;31m# Creates a `tf.data.Dataset` and handles batch and epoch iteration.\u001b[0m\u001b[0;34m\u001b[0m\u001b[0;34m\u001b[0m\u001b[0;34m\u001b[0m\u001b[0m\n\u001b[0;32m--> 802\u001b[0;31m       data_handler = data_adapter.DataHandler(\n\u001b[0m\u001b[1;32m    803\u001b[0m           \u001b[0mx\u001b[0m\u001b[0;34m=\u001b[0m\u001b[0mx\u001b[0m\u001b[0;34m,\u001b[0m\u001b[0;34m\u001b[0m\u001b[0;34m\u001b[0m\u001b[0m\n\u001b[1;32m    804\u001b[0m           \u001b[0my\u001b[0m\u001b[0;34m=\u001b[0m\u001b[0my\u001b[0m\u001b[0;34m,\u001b[0m\u001b[0;34m\u001b[0m\u001b[0;34m\u001b[0m\u001b[0m\n",
      "\u001b[0;32m/opt/conda/envs/gim_cv_gpu/lib/python3.8/site-packages/tensorflow/python/keras/engine/data_adapter.py\u001b[0m in \u001b[0;36m__init__\u001b[0;34m(self, x, y, sample_weight, batch_size, steps_per_epoch, initial_epoch, epochs, shuffle, class_weight, max_queue_size, workers, use_multiprocessing, model)\u001b[0m\n\u001b[1;32m   1098\u001b[0m \u001b[0;34m\u001b[0m\u001b[0m\n\u001b[1;32m   1099\u001b[0m     \u001b[0madapter_cls\u001b[0m \u001b[0;34m=\u001b[0m \u001b[0mselect_data_adapter\u001b[0m\u001b[0;34m(\u001b[0m\u001b[0mx\u001b[0m\u001b[0;34m,\u001b[0m \u001b[0my\u001b[0m\u001b[0;34m)\u001b[0m\u001b[0;34m\u001b[0m\u001b[0;34m\u001b[0m\u001b[0m\n\u001b[0;32m-> 1100\u001b[0;31m     self._adapter = adapter_cls(\n\u001b[0m\u001b[1;32m   1101\u001b[0m         \u001b[0mx\u001b[0m\u001b[0;34m,\u001b[0m\u001b[0;34m\u001b[0m\u001b[0;34m\u001b[0m\u001b[0m\n\u001b[1;32m   1102\u001b[0m         \u001b[0my\u001b[0m\u001b[0;34m,\u001b[0m\u001b[0;34m\u001b[0m\u001b[0;34m\u001b[0m\u001b[0m\n",
      "\u001b[0;32m/opt/conda/envs/gim_cv_gpu/lib/python3.8/site-packages/tensorflow/python/keras/engine/data_adapter.py\u001b[0m in \u001b[0;36m__init__\u001b[0;34m(self, x, y, sample_weights, workers, use_multiprocessing, max_queue_size, model, **kwargs)\u001b[0m\n\u001b[1;32m    770\u001b[0m     \u001b[0;31m# Since we have to know the dtype of the python generator when we build the\u001b[0m\u001b[0;34m\u001b[0m\u001b[0;34m\u001b[0m\u001b[0;34m\u001b[0m\u001b[0m\n\u001b[1;32m    771\u001b[0m     \u001b[0;31m# dataset, we have to look at a batch to infer the structure.\u001b[0m\u001b[0;34m\u001b[0m\u001b[0;34m\u001b[0m\u001b[0;34m\u001b[0m\u001b[0m\n\u001b[0;32m--> 772\u001b[0;31m     \u001b[0mpeek\u001b[0m\u001b[0;34m,\u001b[0m \u001b[0mx\u001b[0m \u001b[0;34m=\u001b[0m \u001b[0mself\u001b[0m\u001b[0;34m.\u001b[0m\u001b[0m_peek_and_restore\u001b[0m\u001b[0;34m(\u001b[0m\u001b[0mx\u001b[0m\u001b[0;34m)\u001b[0m\u001b[0;34m\u001b[0m\u001b[0;34m\u001b[0m\u001b[0m\n\u001b[0m\u001b[1;32m    773\u001b[0m     \u001b[0massert_not_namedtuple\u001b[0m\u001b[0;34m(\u001b[0m\u001b[0mpeek\u001b[0m\u001b[0;34m)\u001b[0m\u001b[0;34m\u001b[0m\u001b[0;34m\u001b[0m\u001b[0m\n\u001b[1;32m    774\u001b[0m     \u001b[0mpeek\u001b[0m \u001b[0;34m=\u001b[0m \u001b[0mself\u001b[0m\u001b[0;34m.\u001b[0m\u001b[0m_standardize_batch\u001b[0m\u001b[0;34m(\u001b[0m\u001b[0mpeek\u001b[0m\u001b[0;34m)\u001b[0m\u001b[0;34m\u001b[0m\u001b[0;34m\u001b[0m\u001b[0m\n",
      "\u001b[0;32m/opt/conda/envs/gim_cv_gpu/lib/python3.8/site-packages/tensorflow/python/keras/engine/data_adapter.py\u001b[0m in \u001b[0;36m_peek_and_restore\u001b[0;34m(x)\u001b[0m\n\u001b[1;32m    828\u001b[0m   \u001b[0;34m@\u001b[0m\u001b[0mstaticmethod\u001b[0m\u001b[0;34m\u001b[0m\u001b[0;34m\u001b[0m\u001b[0m\n\u001b[1;32m    829\u001b[0m   \u001b[0;32mdef\u001b[0m \u001b[0m_peek_and_restore\u001b[0m\u001b[0;34m(\u001b[0m\u001b[0mx\u001b[0m\u001b[0;34m)\u001b[0m\u001b[0;34m:\u001b[0m\u001b[0;34m\u001b[0m\u001b[0;34m\u001b[0m\u001b[0m\n\u001b[0;32m--> 830\u001b[0;31m     \u001b[0mpeek\u001b[0m \u001b[0;34m=\u001b[0m \u001b[0mnext\u001b[0m\u001b[0;34m(\u001b[0m\u001b[0mx\u001b[0m\u001b[0;34m)\u001b[0m\u001b[0;34m\u001b[0m\u001b[0;34m\u001b[0m\u001b[0m\n\u001b[0m\u001b[1;32m    831\u001b[0m     \u001b[0;32mreturn\u001b[0m \u001b[0mpeek\u001b[0m\u001b[0;34m,\u001b[0m \u001b[0mitertools\u001b[0m\u001b[0;34m.\u001b[0m\u001b[0mchain\u001b[0m\u001b[0;34m(\u001b[0m\u001b[0;34m[\u001b[0m\u001b[0mpeek\u001b[0m\u001b[0;34m]\u001b[0m\u001b[0;34m,\u001b[0m \u001b[0mx\u001b[0m\u001b[0;34m)\u001b[0m\u001b[0;34m\u001b[0m\u001b[0;34m\u001b[0m\u001b[0m\n\u001b[1;32m    832\u001b[0m \u001b[0;34m\u001b[0m\u001b[0m\n",
      "\u001b[0;32m/home/root/gim_cv/training.py\u001b[0m in \u001b[0;36mbatch_gen_train\u001b[0;34m(self)\u001b[0m\n\u001b[1;32m    527\u001b[0m             \u001b[0mdata\u001b[0m \u001b[0;32mas\u001b[0m \u001b[0mX\u001b[0m\u001b[0;34m,\u001b[0m \u001b[0my\u001b[0m \u001b[0mpairs\u001b[0m\u001b[0;34m.\u001b[0m\u001b[0;34m\u001b[0m\u001b[0;34m\u001b[0m\u001b[0m\n\u001b[1;32m    528\u001b[0m         \"\"\"\n\u001b[0;32m--> 529\u001b[0;31m         \u001b[0;32myield\u001b[0m \u001b[0;32mfrom\u001b[0m \u001b[0mself\u001b[0m\u001b[0;34m.\u001b[0m\u001b[0mbatch_generator_fn\u001b[0m\u001b[0;34m(\u001b[0m\u001b[0mself\u001b[0m\u001b[0;34m.\u001b[0m\u001b[0mX_train\u001b[0m\u001b[0;34m,\u001b[0m \u001b[0mself\u001b[0m\u001b[0;34m.\u001b[0m\u001b[0my_train\u001b[0m\u001b[0;34m)\u001b[0m\u001b[0;34m\u001b[0m\u001b[0;34m\u001b[0m\u001b[0m\n\u001b[0m\u001b[1;32m    530\u001b[0m \u001b[0;34m\u001b[0m\u001b[0m\n\u001b[1;32m    531\u001b[0m     \u001b[0;32mdef\u001b[0m \u001b[0mbatch_gen_val\u001b[0m\u001b[0;34m(\u001b[0m\u001b[0mself\u001b[0m\u001b[0;34m)\u001b[0m\u001b[0;34m:\u001b[0m\u001b[0;34m\u001b[0m\u001b[0;34m\u001b[0m\u001b[0m\n",
      "\u001b[0;31mTypeError\u001b[0m: 'NoneType' object is not callable"
     ]
    }
   ],
   "source": [
    "log = logging.getLogger()\n",
    "if True:\n",
    "    # \n",
    "    assert tf.test.is_gpu_available(), \"CHECK GPU AVAILABILITY! (eg /etc/docker/daemon.json default runtime)\"\n",
    "    #\n",
    "    np.random.seed(cfg.seed)\n",
    "    # set window/patch size\n",
    "    patch_dims = (256, 256)\n",
    "    # process necessary parser arguments\n",
    "    layer_blocks_ = [int(n) for n in '2,2,2,2'.split(',')]\n",
    "    residual_filters_ = [int(n) for n in '128,256,512,1024'.split(',')]\n",
    "    initial_kernel_size_ = (7, 7)\n",
    "    head_kernel_size_ = (1, 1)\n",
    "    # decide partitioning into train/validation\n",
    "    train_val_test_split = (1.-0.4, 0.4)\n",
    "    # --- assemble training datasets\n",
    "    # get dataset tags - sort to fix order to identify different permutations for array caching\n",
    "    dataset_tags = sorted(['train_tif'])\n",
    "    # get each of the training datasets requested\n",
    "    tdsets = []\n",
    "    for ds_tag in ['train_tif']:\n",
    "        ds = datasets.get_dataset(ds_tag)\n",
    "        rf = ds.spatial_resolution/0.4\n",
    "        tdsets.append(ds.load_training_data(batch_size=4, train_val_test_split=train_val_test_split, seed=cfg.seed, window_size=256, overlap_tiles=True, resample_factor=rf))\n",
    "    # combine them into one big (composite) training dataset\n",
    "    if len(tdsets) == 1:\n",
    "        tds = tdsets[0]\n",
    "    else:\n",
    "        tds = reduce(operator.add, tdsets)\n",
    "    # create a string to identify the combination of datasets and the spatial resolution\n",
    "    # used in saving model checkpoints to quickly identify training data used\n",
    "    data_res_str = f\"data_{tds.tags_str}_target_res_{0.4}\"\n",
    "    data_res_str += '_overlapping_tiles'\n",
    "    # set the cache directory to save preprocessed arrays in an appropriately named directory\n",
    "    tds.cache_directory = cfg.proc_data_path / Path(data_res_str)\n",
    "    # --- preprocess training data\n",
    "    # generate arrays from rasters on-the-fly at training time\n",
    "    tds.prepare()\n",
    "    # skipped              \n",
    "    # --- assign data generator for scaling, augmentations etc\n",
    "    # albumentations + fancyPCA => \"fancy\" augs. recommended.\n",
    "#     if True:\n",
    "#         log.warning(\"~~ Fancy augs on ~~\")\n",
    "#         # start distributed cluster for mapping augmentations\n",
    "#         client = Client(processes=False)\n",
    "#         log.info(\"Calculating PCA decomposition of training RGBs...\")\n",
    "#         fpca = FancyPCA(tds.X_train, alpha_std=.3, p=1.0)\n",
    "#         log.warning(f\"Eigenvalues are {fpca.sampler.eig_vals}\")\n",
    "#         log.warning(f\"Eigenvectors are {fpca.sampler.eig_vecs}\")\n",
    "#         augger = strong_aug(p=.8, fancy_pca=fpca)\n",
    "#         tds.batch_generator_fn = partial(fancy_batch_generator, batch_size=4, augger=augger, client=client, seed=cfg.seed, shuffle_blocks_every_epoch=True, shuffle_within_blocks=True, deep_supervision=True, float32=True)\n",
    "#         aug_sfx = 'fancy'\n",
    "    ## --- configure model training\n",
    "    # get loss function and any kwargs (entered as a string to argparser)\n",
    "    loss_fn_name, *lf_kwarg_str = 'dice_coeff_loss'.split(':')\n",
    "    # grab func itself from losses module by name\n",
    "    loss_fn = getattr(losses, loss_fn_name)\n",
    "    # optionally provide kwargs to higher-order function to return lf\n",
    "    if lf_kwarg_str:\n",
    "        lf_kwargs = parse_kwarg_str(*lf_kwarg_str)\n",
    "        loss_fn = loss_fn(**lf_kwargs)\n",
    "    else:\n",
    "        lf_kwargs = {}\n",
    "    # encode loss function args as a cleaned-up string for identifying models trained with this\n",
    "    lfastr = '_args_' + '_'.join([f'{k}={v:.2f}' for k, v in lf_kwargs.items()]) if lf_kwargs else ''\n",
    "    # calculate number of training and validation steps\n",
    "    train_steps = tds.X_train.shape[0]//4\n",
    "    valid_steps = tds.X_val.shape[0]//4\n",
    "    print(f'train_steps={train_steps}')\n",
    "    print(f'val_steps={valid_steps}')\n",
    "    if True:\n",
    "        assert tds.X_val.shape[0] > 0, (\n",
    "            \"Not enough dask blocks to make up validation data frac!\\n\"\n",
    "            f\"train: {tds.X_train}\"\n",
    "        )\n",
    "    # select metrics\n",
    "    metrics = [losses.tversky_index, losses.jaccard_index, losses.recall, losses.precision, losses.specificity, losses.npv, losses.dice_coefficient]\n",
    "    # interpret optimizer\n",
    "    opt = tf.keras.optimizers.Adam(learning_rate=0.00001, beta_1=0.9, beta_2=0.999, amsgrad=False) # check out RADAM?\n",
    "    # stoachastic weight averaging if enabled\n",
    "    opt = SWA(opt, start_averaging=100 - 50, average_period=5)\n",
    "    # specify training directory to save weights and metrics for this loss_fn and data ID\n",
    "    project_name = Path(f'Segmentalist_{uuid.uuid4()}')\n",
    "    training_dir = Path(str(cfg.models_path)) / project_name\n",
    "    training_dir.mkdir(parents=True, exist_ok=True)\n",
    "    # -- callbacks\n",
    "    # early stopping\n",
    "    monitor = 'loss'\n",
    "    callbacks=[tf.keras.callbacks.EarlyStopping(monitor, patience=7)]\n",
    "    # reduce the learning rate on plateaus\n",
    "    callbacks.append(tf.keras.callbacks.ReduceLROnPlateau(monitor=monitor,factor=0.5,patience=2, min_lr=0.000001))\n",
    "    # set up tensorboard to record metrics in a subdirectory\n",
    "    tb_pth = training_dir / Path(\"metrics/\")\n",
    "    tb_cb = tf.keras.callbacks.TensorBoard(log_dir=str(tb_pth),update_freq=50)\n",
    "    callbacks.append(tb_cb)\n",
    "    # set up checkpoints in the training directory\n",
    "    cp_fmt = 'cp-e{epoch:02d}-ji{jaccard_index:.5f}-l{loss:.5f}'\n",
    "    suffix = '-vl{val_loss:.5f}.ckpt'\n",
    "    cp_fmt = cp_fmt + '-vl0.00.ckpt' # suffix\n",
    "    cp_callback = tf.keras.callbacks.ModelCheckpoint(filepath=str(training_dir / Path(cp_fmt)), monitor=monitor, save_best_only=True, save_weights_only=True, verbose=1)\n",
    "    cp_callback_trn = tf.keras.callbacks.ModelCheckpoint(filepath=str(training_dir / Path(cp_fmt)), monitor='loss', save_best_only=True, save_weights_only=True, verbose=1)\n",
    "    # callbacks.append(cp_callback)\n",
    "    callbacks.append(cp_callback_trn)\n",
    "    # --- build and compile the model\n",
    "    # format attention gate param\n",
    "    ag = 'SAG'\n",
    "    model = Segmentalist(n_classes=tds.y_train.shape[-1], layer_blocks=[2,2,2,2], last_decoder_layer_blocks=2, initial_filters=64, residual_filters=[128,256,512,1024],\n",
    "        initial_kernel_size=(7, 7), head_kernel_size=(1, 1), cardinality=1, act='relu', downsample='pool',\n",
    "        decoder_attention_gates=ag, encoder_cbam=True, decoder_cbam=True, pyramid_pooling=True, deep_supervision=True, lambda_conv=True,)\n",
    "    model.build(input_shape=(4, 256, 256, tds.X_train.shape[-1]))\n",
    "    model.compile(optimizer=opt, loss=loss_fn, metrics=metrics)\n",
    "    # option to dump test data removed for testing session\n",
    "    # dump setup\n",
    "    # augmentations\n",
    "    A.save(augger, f'{training_dir}/transform.yml', data_format='yaml')\n",
    "    # \n",
    "    log.info(\"Start training...\")\n",
    "    # \n",
    "    args = {'datasets': 'train_tif', 'target_spatial_resolution': 0.4, 'pyramid_pooling': True, 'deep_supervision': True, 'lambda_conv': True, 'encoder_cbam': True, 'decoder_cbam': True, 'sag': True, 'csag': True, 'layer_blocks': '2,2,2,2', 'layer_blocks_' : [2,2,2,2], 'last_decoder_layer_blocks': 2, 'initial_filters': 64, 'residual_filters': '128,256,512,1024', 'residual_filters_' : [128,256,512,1024], 'initial_kernel_size': 7, 'initial_kernel_size_' : (7, 7), 'head_kernel_size': 1, 'head_kernel_size_' : (1, 1), 'cardinality': 1, 'activation': 'relu', 'downsample': 'pool', 'patch_size': 256, 'overlapping_tiles': True, 'epochs': 100, 'batch_size': 4, 'loss_fn': 'dice_coeff_loss', 'optimiser': 'adam', 'swa': True, 'duration_swa': 50, 'period_swa': 5, 'use_val': False, 'patience': 7, 'seed': 42, 'val_frac': 0.1, 'test_frac': 0.0, 'fancy_augs': True, 'lr_init': 0.0001, 'lr_min': 1e-06, 'lr_reduce_factor': 0.5, 'lr_reduce_patience': 2, 'ocp': False, 'balanced_oversample': False, 'models_dir': str(cfg.models_path), 'dump_test_data': False, 'dump_first_batches': False, 'use_cache': False, 'save_to_cache': False}\n",
    "    # \n",
    "    with open(f'{training_dir}/run_params.yml', 'w') as outfile:\n",
    "        yaml.dump(args, outfile, default_flow_style=False)\n",
    "    # --- train the model\n",
    "    print('fit model')\n",
    "    model.fit(tds.batch_gen_train(), steps_per_epoch=train_steps, epochs=100, max_queue_size=50, callbacks=callbacks, \n",
    "              validation_data=tds.batch_gen_val(), validation_steps=valid_steps)\n",
    "    # validation_data=tds.batch_gen_val(), validation_steps=valid_steps,\n"
   ]
  },
  {
   "cell_type": "code",
   "execution_count": 23,
   "metadata": {},
   "outputs": [
    {
     "name": "stdout",
     "output_type": "stream",
     "text": [
      "/home/root/saved_models/Segmentalist_fe08070b-16d8-4a4d-86ec-2e159e4e0fb6 failed with exception:\n",
      "'NoneType' object has no attribute 'group'\n",
      "/home/root/saved_models/Segmentalist_524faef9-1cdf-4f4d-a307-1314faf0cf43 failed with exception:\n",
      "'NoneType' object has no attribute 'group'\n",
      "WARNING:tensorflow:Layer Segmentalist is casting an input tensor from dtype float64 to the layer's dtype of float32, which is new behavior in TensorFlow 2.  The layer has dtype float32 because it's dtype defaults to floatx.\n",
      "\n",
      "If you intended to run this layer in float32, you can safely ignore this warning. If in doubt, this warning is likely only an issue if you are porting a TensorFlow 1.X model to TensorFlow 2.\n",
      "\n",
      "To change all layers to have dtype float64 by default, call `tf.keras.backend.set_floatx('float64')`. To change just this layer, pass dtype='float64' to the layer constructor. If you are the author of this layer, you can disable autocasting by passing autocast=False to the base Layer constructor.\n",
      "\n"
     ]
    }
   ],
   "source": [
    "df_segm_trained = utils.collate_run_data(Path(str(cfg.models_path)), model_name='Segmentalist')\n",
    "\n",
    "df_segm_trained = df_segm_trained.drop(['seed', 'save_to_cache'] + [c for c in df_segm_trained.columns if any(i in c for i in ('_train',  'ocp', 'fancy_augs', 'dump_test_data', 'dump_first_batches', 'channel_expansion_factor'))], axis=1).sort_values(by='lowest_loss')\n",
    "# we can select a sub\n",
    "view_cols = ['datasets', 'lowest_loss', 'balanced_oversample', 'batch_size', 'patch_size', 'overlapping_tiles', 'deep_supervision', 'target_spatial_resolution', 'pyramid_pooling', 'loss_fn', 'val_frac']\n",
    "# \n",
    "df_segm_trained[view_cols + ['uuid4'] ] # \n",
    "row = df_segm_trained.query('datasets == \"train_tif\"').iloc[0]\n",
    "# row\n",
    "inference_window_size = 1024\n",
    "# load again with new patch shape\n",
    "model = Segmentalist.load_from_metadata(row=row)\n",
    "# shouldn't have to run these lines, LRM will look at the method above and fix so weight loading is included properly...\n",
    "# workaround which fixes weight loading; \"prime\" model on something of the right shape\n",
    "model(np.random.rand(1, inference_window_size, inference_window_size, 3))\n",
    "model.load_weights(row.lowest_loss_ckpt) # takes a wee minute\n",
    "model.stop_training = True\n"
   ]
  },
  {
   "cell_type": "code",
   "execution_count": 36,
   "metadata": {},
   "outputs": [],
   "source": [
    "def extract_patches(arr, patch_shape=(512,512,3), extraction_step=512):\n",
    "    arr_ndim = arr.ndim\n",
    "\n",
    "    if isinstance(patch_shape, numbers.Number):\n",
    "        patch_shape = tuple([patch_shape] * arr_ndim)\n",
    "    if isinstance(extraction_step, numbers.Number):\n",
    "        extraction_step = tuple([extraction_step] * arr_ndim)\n",
    "\n",
    "    patch_strides = arr.strides\n",
    "\n",
    "    slices = tuple(slice(None, None, st) for st in extraction_step)\n",
    "    indexing_strides = arr[slices].strides\n",
    "\n",
    "    patch_indices_shape = ((np.array(arr.shape) - np.array(patch_shape)) //\n",
    "                           np.array(extraction_step)) + 1\n",
    "\n",
    "    shape = tuple(list(patch_indices_shape) + list(patch_shape))\n",
    "    strides = tuple(list(indexing_strides) + list(patch_strides))\n",
    "\n",
    "    patches = as_strided(arr, shape=shape, strides=strides)\n",
    "    return patches"
   ]
  },
  {
   "cell_type": "code",
   "execution_count": 43,
   "metadata": {},
   "outputs": [
    {
     "name": "stdout",
     "output_type": "stream",
     "text": [
      "-----------------------------------------------------------\n",
      "Running prediction on image:   top_60cm_qb_area1.tif\n",
      "(3, 3, 1, 512, 512, 3)\n",
      "((23, 24), (23, 24), (0, 0))\n",
      "Confirm new padded image size : (2048, 2048, 3)\n",
      "(4, 4, 1, 512, 512, 3)\n",
      "(16, 512, 512, 3)\n"
     ]
    },
    {
     "data": {
      "image/png": "[encoded data removed]",
      "text/plain": [
       "<Figure size 432x288 with 1 Axes>"
      ]
     },
     "metadata": {
      "needs_background": "light"
     },
     "output_type": "display_data"
    },
    {
     "ename": "EinopsError",
     "evalue": " Error while processing rearrange-reduction pattern \"b u (hh ww) v -> b v hh ww u\".\n Input tensor shape: (1, 1, 65536, 32). Additional info: {'hh': 512, 'ww': 512}.\n Shape mismatch, 65536 != 262144",
     "output_type": "error",
     "traceback": [
      "\u001b[0;31m--------------------------------------------------------------------\u001b[0m",
      "\u001b[0;31mEinopsError\u001b[0m                        Traceback (most recent call last)",
      "\u001b[0;32m/opt/conda/envs/gim_cv_gpu/lib/python3.8/site-packages/einops/einops.py\u001b[0m in \u001b[0;36mreduce\u001b[0;34m(tensor, pattern, reduction, **axes_lengths)\u001b[0m\n\u001b[1;32m    367\u001b[0m         \u001b[0mrecipe\u001b[0m \u001b[0;34m=\u001b[0m \u001b[0m_prepare_transformation_recipe\u001b[0m\u001b[0;34m(\u001b[0m\u001b[0mpattern\u001b[0m\u001b[0;34m,\u001b[0m \u001b[0mreduction\u001b[0m\u001b[0;34m,\u001b[0m \u001b[0maxes_lengths\u001b[0m\u001b[0;34m=\u001b[0m\u001b[0mhashable_axes_lengths\u001b[0m\u001b[0;34m)\u001b[0m\u001b[0;34m\u001b[0m\u001b[0;34m\u001b[0m\u001b[0m\n\u001b[0;32m--> 368\u001b[0;31m         \u001b[0;32mreturn\u001b[0m \u001b[0mrecipe\u001b[0m\u001b[0;34m.\u001b[0m\u001b[0mapply\u001b[0m\u001b[0;34m(\u001b[0m\u001b[0mtensor\u001b[0m\u001b[0;34m)\u001b[0m\u001b[0;34m\u001b[0m\u001b[0;34m\u001b[0m\u001b[0m\n\u001b[0m\u001b[1;32m    369\u001b[0m     \u001b[0;32mexcept\u001b[0m \u001b[0mEinopsError\u001b[0m \u001b[0;32mas\u001b[0m \u001b[0me\u001b[0m\u001b[0;34m:\u001b[0m\u001b[0;34m\u001b[0m\u001b[0;34m\u001b[0m\u001b[0m\n",
      "\u001b[0;32m/opt/conda/envs/gim_cv_gpu/lib/python3.8/site-packages/einops/einops.py\u001b[0m in \u001b[0;36mapply\u001b[0;34m(self, tensor)\u001b[0m\n\u001b[1;32m    203\u001b[0m         \u001b[0mbackend\u001b[0m \u001b[0;34m=\u001b[0m \u001b[0mget_backend\u001b[0m\u001b[0;34m(\u001b[0m\u001b[0mtensor\u001b[0m\u001b[0;34m)\u001b[0m\u001b[0;34m\u001b[0m\u001b[0;34m\u001b[0m\u001b[0m\n\u001b[0;32m--> 204\u001b[0;31m         init_shapes, reduced_axes, axes_reordering, added_axes, final_shapes = self.reconstruct_from_shape(\n\u001b[0m\u001b[1;32m    205\u001b[0m             backend.shape(tensor))\n",
      "\u001b[0;32m/opt/conda/envs/gim_cv_gpu/lib/python3.8/site-packages/einops/einops.py\u001b[0m in \u001b[0;36mreconstruct_from_shape\u001b[0;34m(self, shape, optimize)\u001b[0m\n\u001b[1;32m    171\u001b[0m                     \u001b[0;32mif\u001b[0m \u001b[0misinstance\u001b[0m\u001b[0;34m(\u001b[0m\u001b[0mlength\u001b[0m\u001b[0;34m,\u001b[0m \u001b[0mint\u001b[0m\u001b[0;34m)\u001b[0m \u001b[0;32mand\u001b[0m \u001b[0misinstance\u001b[0m\u001b[0;34m(\u001b[0m\u001b[0mknown_product\u001b[0m\u001b[0;34m,\u001b[0m \u001b[0mint\u001b[0m\u001b[0;34m)\u001b[0m \u001b[0;32mand\u001b[0m \u001b[0mlength\u001b[0m \u001b[0;34m!=\u001b[0m \u001b[0mknown_product\u001b[0m\u001b[0;34m:\u001b[0m\u001b[0;34m\u001b[0m\u001b[0;34m\u001b[0m\u001b[0m\n\u001b[0;32m--> 172\u001b[0;31m                         \u001b[0;32mraise\u001b[0m \u001b[0mEinopsError\u001b[0m\u001b[0;34m(\u001b[0m\u001b[0;34m'Shape mismatch, {} != {}'\u001b[0m\u001b[0;34m.\u001b[0m\u001b[0mformat\u001b[0m\u001b[0;34m(\u001b[0m\u001b[0mlength\u001b[0m\u001b[0;34m,\u001b[0m \u001b[0mknown_product\u001b[0m\u001b[0;34m)\u001b[0m\u001b[0;34m)\u001b[0m\u001b[0;34m\u001b[0m\u001b[0;34m\u001b[0m\u001b[0m\n\u001b[0m\u001b[1;32m    173\u001b[0m                 \u001b[0;32melse\u001b[0m\u001b[0;34m:\u001b[0m\u001b[0;34m\u001b[0m\u001b[0;34m\u001b[0m\u001b[0m\n",
      "\u001b[0;31mEinopsError\u001b[0m: Shape mismatch, 65536 != 262144",
      "\nDuring handling of the above exception, another exception occurred:\n",
      "\u001b[0;31mEinopsError\u001b[0m                        Traceback (most recent call last)",
      "\u001b[0;32m<ipython-input-43-a447e3aa9ed2>\u001b[0m in \u001b[0;36m<module>\u001b[0;34m\u001b[0m\n\u001b[1;32m     51\u001b[0m \u001b[0mpred_aug_patches\u001b[0m \u001b[0;34m=\u001b[0m \u001b[0;34m[\u001b[0m\u001b[0;34m]\u001b[0m\u001b[0;34m\u001b[0m\u001b[0;34m\u001b[0m\u001b[0m\n\u001b[1;32m     52\u001b[0m \u001b[0;32mfor\u001b[0m \u001b[0mi\u001b[0m \u001b[0;32min\u001b[0m \u001b[0mrange\u001b[0m\u001b[0;34m(\u001b[0m\u001b[0maug_patches\u001b[0m\u001b[0;34m.\u001b[0m\u001b[0mreshape\u001b[0m\u001b[0;34m(\u001b[0m\u001b[0;34m(\u001b[0m\u001b[0;34m-\u001b[0m\u001b[0;36m1\u001b[0m\u001b[0;34m,\u001b[0m \u001b[0;36m1024\u001b[0m\u001b[0;34m,\u001b[0m \u001b[0;36m1024\u001b[0m\u001b[0;34m,\u001b[0m \u001b[0;36m3\u001b[0m\u001b[0;34m)\u001b[0m\u001b[0;34m)\u001b[0m\u001b[0;34m.\u001b[0m\u001b[0mshape\u001b[0m\u001b[0;34m[\u001b[0m\u001b[0;36m0\u001b[0m\u001b[0;34m]\u001b[0m\u001b[0;34m)\u001b[0m\u001b[0;34m:\u001b[0m\u001b[0;34m\u001b[0m\u001b[0;34m\u001b[0m\u001b[0m\n\u001b[0;32m---> 53\u001b[0;31m     \u001b[0mpred_aug_patches\u001b[0m\u001b[0;34m.\u001b[0m\u001b[0mappend\u001b[0m\u001b[0;34m(\u001b[0m\u001b[0mmodel\u001b[0m\u001b[0;34m(\u001b[0m\u001b[0mtopredict\u001b[0m\u001b[0;34m[\u001b[0m\u001b[0mi\u001b[0m\u001b[0;34m,\u001b[0m\u001b[0;34m:\u001b[0m\u001b[0;34m,\u001b[0m\u001b[0;34m:\u001b[0m\u001b[0;34m,\u001b[0m\u001b[0;34m:\u001b[0m\u001b[0;34m]\u001b[0m\u001b[0;34m[\u001b[0m\u001b[0;32mNone\u001b[0m\u001b[0;34m,\u001b[0m \u001b[0;34m...\u001b[0m\u001b[0;34m]\u001b[0m\u001b[0;34m/\u001b[0m\u001b[0;36m255.\u001b[0m\u001b[0;34m)\u001b[0m\u001b[0;34m)\u001b[0m\u001b[0;34m\u001b[0m\u001b[0;34m\u001b[0m\u001b[0m\n\u001b[0m\u001b[1;32m     54\u001b[0m \u001b[0mpred_aug_patchex\u001b[0m \u001b[0;34m=\u001b[0m \u001b[0mnp\u001b[0m\u001b[0;34m.\u001b[0m\u001b[0marray\u001b[0m\u001b[0;34m(\u001b[0m\u001b[0mnp\u001b[0m\u001b[0;34m.\u001b[0m\u001b[0msqueeze\u001b[0m\u001b[0;34m(\u001b[0m\u001b[0mpred_aug_patches\u001b[0m\u001b[0;34m)\u001b[0m\u001b[0;34m)\u001b[0m\u001b[0;34m\u001b[0m\u001b[0;34m\u001b[0m\u001b[0m\n\u001b[1;32m     55\u001b[0m \u001b[0;34m(\u001b[0m\u001b[0mI\u001b[0m\u001b[0;34m,\u001b[0m\u001b[0mJ\u001b[0m\u001b[0;34m,\u001b[0m\u001b[0mK\u001b[0m\u001b[0;34m)\u001b[0m \u001b[0;34m=\u001b[0m  \u001b[0;34m(\u001b[0m\u001b[0mret\u001b[0m\u001b[0;34m.\u001b[0m\u001b[0mshape\u001b[0m\u001b[0;34m[\u001b[0m\u001b[0;36m0\u001b[0m\u001b[0;34m]\u001b[0m\u001b[0;34m//\u001b[0m\u001b[0;36m512\u001b[0m\u001b[0;34m,\u001b[0m \u001b[0mret\u001b[0m\u001b[0;34m.\u001b[0m\u001b[0mshape\u001b[0m\u001b[0;34m[\u001b[0m\u001b[0;36m1\u001b[0m\u001b[0;34m]\u001b[0m\u001b[0;34m//\u001b[0m\u001b[0;36m512\u001b[0m\u001b[0;34m,\u001b[0m \u001b[0;36m3\u001b[0m\u001b[0;34m)\u001b[0m\u001b[0;34m\u001b[0m\u001b[0;34m\u001b[0m\u001b[0m\n",
      "\u001b[0;32m/opt/conda/envs/gim_cv_gpu/lib/python3.8/site-packages/tensorflow/python/keras/engine/base_layer.py\u001b[0m in \u001b[0;36m__call__\u001b[0;34m(self, *args, **kwargs)\u001b[0m\n\u001b[1;32m    966\u001b[0m           with base_layer_utils.autocast_context_manager(\n\u001b[1;32m    967\u001b[0m               self._compute_dtype):\n\u001b[0;32m--> 968\u001b[0;31m             \u001b[0moutputs\u001b[0m \u001b[0;34m=\u001b[0m \u001b[0mself\u001b[0m\u001b[0;34m.\u001b[0m\u001b[0mcall\u001b[0m\u001b[0;34m(\u001b[0m\u001b[0mcast_inputs\u001b[0m\u001b[0;34m,\u001b[0m \u001b[0;34m*\u001b[0m\u001b[0margs\u001b[0m\u001b[0;34m,\u001b[0m \u001b[0;34m**\u001b[0m\u001b[0mkwargs\u001b[0m\u001b[0;34m)\u001b[0m\u001b[0;34m\u001b[0m\u001b[0;34m\u001b[0m\u001b[0m\n\u001b[0m\u001b[1;32m    969\u001b[0m           \u001b[0mself\u001b[0m\u001b[0;34m.\u001b[0m\u001b[0m_handle_activity_regularization\u001b[0m\u001b[0;34m(\u001b[0m\u001b[0minputs\u001b[0m\u001b[0;34m,\u001b[0m \u001b[0moutputs\u001b[0m\u001b[0;34m)\u001b[0m\u001b[0;34m\u001b[0m\u001b[0;34m\u001b[0m\u001b[0m\n\u001b[1;32m    970\u001b[0m           \u001b[0mself\u001b[0m\u001b[0;34m.\u001b[0m\u001b[0m_set_mask_metadata\u001b[0m\u001b[0;34m(\u001b[0m\u001b[0minputs\u001b[0m\u001b[0;34m,\u001b[0m \u001b[0moutputs\u001b[0m\u001b[0;34m,\u001b[0m \u001b[0minput_masks\u001b[0m\u001b[0;34m)\u001b[0m\u001b[0;34m\u001b[0m\u001b[0;34m\u001b[0m\u001b[0m\n",
      "\u001b[0;32m/home/root/gim_cv/models/segmentalist.py\u001b[0m in \u001b[0;36mcall\u001b[0;34m(self, inputs, training)\u001b[0m\n\u001b[1;32m    282\u001b[0m                 \u001b[0mblk_input\u001b[0m \u001b[0;34m=\u001b[0m \u001b[0mencoder_outputs\u001b[0m\u001b[0;34m[\u001b[0m\u001b[0;34m-\u001b[0m\u001b[0;36m1\u001b[0m\u001b[0;34m]\u001b[0m\u001b[0;34m\u001b[0m\u001b[0;34m\u001b[0m\u001b[0m\n\u001b[1;32m    283\u001b[0m             \u001b[0;31m# -- the main encoder block's residual convolutions\u001b[0m\u001b[0;34m\u001b[0m\u001b[0;34m\u001b[0m\u001b[0;34m\u001b[0m\u001b[0m\n\u001b[0;32m--> 284\u001b[0;31m             \u001b[0mblk_output\u001b[0m \u001b[0;34m=\u001b[0m \u001b[0mencoder_block\u001b[0m\u001b[0;34m(\u001b[0m\u001b[0mblk_input\u001b[0m\u001b[0;34m,\u001b[0m \u001b[0mtraining\u001b[0m\u001b[0;34m=\u001b[0m\u001b[0mtraining\u001b[0m\u001b[0;34m)\u001b[0m\u001b[0;34m\u001b[0m\u001b[0;34m\u001b[0m\u001b[0m\n\u001b[0m\u001b[1;32m    285\u001b[0m             \u001b[0mencoder_outputs\u001b[0m\u001b[0;34m.\u001b[0m\u001b[0mappend\u001b[0m\u001b[0;34m(\u001b[0m\u001b[0mblk_output\u001b[0m\u001b[0;34m)\u001b[0m\u001b[0;34m\u001b[0m\u001b[0;34m\u001b[0m\u001b[0m\n\u001b[1;32m    286\u001b[0m         \u001b[0;31m# the \"bridge\" - the last set of encoder feature maps become the first set into the decoder\u001b[0m\u001b[0;34m\u001b[0m\u001b[0;34m\u001b[0m\u001b[0;34m\u001b[0m\u001b[0m\n",
      "\u001b[0;32m/opt/conda/envs/gim_cv_gpu/lib/python3.8/site-packages/tensorflow/python/keras/engine/base_layer.py\u001b[0m in \u001b[0;36m__call__\u001b[0;34m(self, *args, **kwargs)\u001b[0m\n\u001b[1;32m    966\u001b[0m           with base_layer_utils.autocast_context_manager(\n\u001b[1;32m    967\u001b[0m               self._compute_dtype):\n\u001b[0;32m--> 968\u001b[0;31m             \u001b[0moutputs\u001b[0m \u001b[0;34m=\u001b[0m \u001b[0mself\u001b[0m\u001b[0;34m.\u001b[0m\u001b[0mcall\u001b[0m\u001b[0;34m(\u001b[0m\u001b[0mcast_inputs\u001b[0m\u001b[0;34m,\u001b[0m \u001b[0;34m*\u001b[0m\u001b[0margs\u001b[0m\u001b[0;34m,\u001b[0m \u001b[0;34m**\u001b[0m\u001b[0mkwargs\u001b[0m\u001b[0;34m)\u001b[0m\u001b[0;34m\u001b[0m\u001b[0;34m\u001b[0m\u001b[0m\n\u001b[0m\u001b[1;32m    969\u001b[0m           \u001b[0mself\u001b[0m\u001b[0;34m.\u001b[0m\u001b[0m_handle_activity_regularization\u001b[0m\u001b[0;34m(\u001b[0m\u001b[0minputs\u001b[0m\u001b[0;34m,\u001b[0m \u001b[0moutputs\u001b[0m\u001b[0;34m)\u001b[0m\u001b[0;34m\u001b[0m\u001b[0;34m\u001b[0m\u001b[0m\n\u001b[1;32m    970\u001b[0m           \u001b[0mself\u001b[0m\u001b[0;34m.\u001b[0m\u001b[0m_set_mask_metadata\u001b[0m\u001b[0;34m(\u001b[0m\u001b[0minputs\u001b[0m\u001b[0;34m,\u001b[0m \u001b[0moutputs\u001b[0m\u001b[0;34m,\u001b[0m \u001b[0minput_masks\u001b[0m\u001b[0;34m)\u001b[0m\u001b[0;34m\u001b[0m\u001b[0;34m\u001b[0m\u001b[0m\n",
      "\u001b[0;32m/opt/conda/envs/gim_cv_gpu/lib/python3.8/site-packages/tensorflow/python/keras/engine/sequential.py\u001b[0m in \u001b[0;36mcall\u001b[0;34m(self, inputs, training, mask)\u001b[0m\n\u001b[1;32m    289\u001b[0m         \u001b[0mkwargs\u001b[0m\u001b[0;34m[\u001b[0m\u001b[0;34m'training'\u001b[0m\u001b[0;34m]\u001b[0m \u001b[0;34m=\u001b[0m \u001b[0mtraining\u001b[0m\u001b[0;34m\u001b[0m\u001b[0;34m\u001b[0m\u001b[0m\n\u001b[1;32m    290\u001b[0m \u001b[0;34m\u001b[0m\u001b[0m\n\u001b[0;32m--> 291\u001b[0;31m       \u001b[0moutputs\u001b[0m \u001b[0;34m=\u001b[0m \u001b[0mlayer\u001b[0m\u001b[0;34m(\u001b[0m\u001b[0minputs\u001b[0m\u001b[0;34m,\u001b[0m \u001b[0;34m**\u001b[0m\u001b[0mkwargs\u001b[0m\u001b[0;34m)\u001b[0m\u001b[0;34m\u001b[0m\u001b[0;34m\u001b[0m\u001b[0m\n\u001b[0m\u001b[1;32m    292\u001b[0m \u001b[0;34m\u001b[0m\u001b[0m\n\u001b[1;32m    293\u001b[0m       \u001b[0;32mif\u001b[0m \u001b[0mlen\u001b[0m\u001b[0;34m(\u001b[0m\u001b[0mnest\u001b[0m\u001b[0;34m.\u001b[0m\u001b[0mflatten\u001b[0m\u001b[0;34m(\u001b[0m\u001b[0moutputs\u001b[0m\u001b[0;34m)\u001b[0m\u001b[0;34m)\u001b[0m \u001b[0;34m!=\u001b[0m \u001b[0;36m1\u001b[0m\u001b[0;34m:\u001b[0m\u001b[0;34m\u001b[0m\u001b[0;34m\u001b[0m\u001b[0m\n",
      "\u001b[0;32m/opt/conda/envs/gim_cv_gpu/lib/python3.8/site-packages/tensorflow/python/keras/engine/base_layer.py\u001b[0m in \u001b[0;36m__call__\u001b[0;34m(self, *args, **kwargs)\u001b[0m\n\u001b[1;32m    966\u001b[0m           with base_layer_utils.autocast_context_manager(\n\u001b[1;32m    967\u001b[0m               self._compute_dtype):\n\u001b[0;32m--> 968\u001b[0;31m             \u001b[0moutputs\u001b[0m \u001b[0;34m=\u001b[0m \u001b[0mself\u001b[0m\u001b[0;34m.\u001b[0m\u001b[0mcall\u001b[0m\u001b[0;34m(\u001b[0m\u001b[0mcast_inputs\u001b[0m\u001b[0;34m,\u001b[0m \u001b[0;34m*\u001b[0m\u001b[0margs\u001b[0m\u001b[0;34m,\u001b[0m \u001b[0;34m**\u001b[0m\u001b[0mkwargs\u001b[0m\u001b[0;34m)\u001b[0m\u001b[0;34m\u001b[0m\u001b[0;34m\u001b[0m\u001b[0m\n\u001b[0m\u001b[1;32m    969\u001b[0m           \u001b[0mself\u001b[0m\u001b[0;34m.\u001b[0m\u001b[0m_handle_activity_regularization\u001b[0m\u001b[0;34m(\u001b[0m\u001b[0minputs\u001b[0m\u001b[0;34m,\u001b[0m \u001b[0moutputs\u001b[0m\u001b[0;34m)\u001b[0m\u001b[0;34m\u001b[0m\u001b[0;34m\u001b[0m\u001b[0m\n\u001b[1;32m    970\u001b[0m           \u001b[0mself\u001b[0m\u001b[0;34m.\u001b[0m\u001b[0m_set_mask_metadata\u001b[0m\u001b[0;34m(\u001b[0m\u001b[0minputs\u001b[0m\u001b[0;34m,\u001b[0m \u001b[0moutputs\u001b[0m\u001b[0;34m,\u001b[0m \u001b[0minput_masks\u001b[0m\u001b[0;34m)\u001b[0m\u001b[0;34m\u001b[0m\u001b[0;34m\u001b[0m\u001b[0m\n",
      "\u001b[0;32m/home/root/gim_cv/models/blocks.py\u001b[0m in \u001b[0;36mcall\u001b[0;34m(self, inputs, training)\u001b[0m\n\u001b[1;32m    845\u001b[0m         \u001b[0mx\u001b[0m \u001b[0;34m=\u001b[0m \u001b[0minputs\u001b[0m\u001b[0;34m\u001b[0m\u001b[0;34m\u001b[0m\u001b[0m\n\u001b[1;32m    846\u001b[0m         \u001b[0;32mfor\u001b[0m \u001b[0mblk_ix\u001b[0m \u001b[0;32min\u001b[0m \u001b[0mrange\u001b[0m\u001b[0;34m(\u001b[0m\u001b[0mself\u001b[0m\u001b[0;34m.\u001b[0m\u001b[0mn_res_blocks\u001b[0m\u001b[0;34m)\u001b[0m\u001b[0;34m:\u001b[0m\u001b[0;34m\u001b[0m\u001b[0;34m\u001b[0m\u001b[0m\n\u001b[0;32m--> 847\u001b[0;31m             \u001b[0mx\u001b[0m \u001b[0;34m=\u001b[0m \u001b[0mself\u001b[0m\u001b[0;34m.\u001b[0m\u001b[0mres_blocks\u001b[0m\u001b[0;34m[\u001b[0m\u001b[0mblk_ix\u001b[0m\u001b[0;34m]\u001b[0m\u001b[0;34m(\u001b[0m\u001b[0mx\u001b[0m\u001b[0;34m,\u001b[0m \u001b[0mtraining\u001b[0m\u001b[0;34m)\u001b[0m\u001b[0;34m\u001b[0m\u001b[0;34m\u001b[0m\u001b[0m\n\u001b[0m\u001b[1;32m    848\u001b[0m         \u001b[0;32mreturn\u001b[0m \u001b[0mx\u001b[0m\u001b[0;34m\u001b[0m\u001b[0;34m\u001b[0m\u001b[0m\n\u001b[1;32m    849\u001b[0m \u001b[0;34m\u001b[0m\u001b[0m\n",
      "\u001b[0;32m/opt/conda/envs/gim_cv_gpu/lib/python3.8/site-packages/tensorflow/python/keras/engine/base_layer.py\u001b[0m in \u001b[0;36m__call__\u001b[0;34m(self, *args, **kwargs)\u001b[0m\n\u001b[1;32m    966\u001b[0m           with base_layer_utils.autocast_context_manager(\n\u001b[1;32m    967\u001b[0m               self._compute_dtype):\n\u001b[0;32m--> 968\u001b[0;31m             \u001b[0moutputs\u001b[0m \u001b[0;34m=\u001b[0m \u001b[0mself\u001b[0m\u001b[0;34m.\u001b[0m\u001b[0mcall\u001b[0m\u001b[0;34m(\u001b[0m\u001b[0mcast_inputs\u001b[0m\u001b[0;34m,\u001b[0m \u001b[0;34m*\u001b[0m\u001b[0margs\u001b[0m\u001b[0;34m,\u001b[0m \u001b[0;34m**\u001b[0m\u001b[0mkwargs\u001b[0m\u001b[0;34m)\u001b[0m\u001b[0;34m\u001b[0m\u001b[0;34m\u001b[0m\u001b[0m\n\u001b[0m\u001b[1;32m    969\u001b[0m           \u001b[0mself\u001b[0m\u001b[0;34m.\u001b[0m\u001b[0m_handle_activity_regularization\u001b[0m\u001b[0;34m(\u001b[0m\u001b[0minputs\u001b[0m\u001b[0;34m,\u001b[0m \u001b[0moutputs\u001b[0m\u001b[0;34m)\u001b[0m\u001b[0;34m\u001b[0m\u001b[0;34m\u001b[0m\u001b[0m\n\u001b[1;32m    970\u001b[0m           \u001b[0mself\u001b[0m\u001b[0;34m.\u001b[0m\u001b[0m_set_mask_metadata\u001b[0m\u001b[0;34m(\u001b[0m\u001b[0minputs\u001b[0m\u001b[0;34m,\u001b[0m \u001b[0moutputs\u001b[0m\u001b[0;34m,\u001b[0m \u001b[0minput_masks\u001b[0m\u001b[0;34m)\u001b[0m\u001b[0;34m\u001b[0m\u001b[0;34m\u001b[0m\u001b[0m\n",
      "\u001b[0;32m/home/root/gim_cv/models/blocks.py\u001b[0m in \u001b[0;36mcall\u001b[0;34m(self, inputs, training)\u001b[0m\n\u001b[1;32m    690\u001b[0m         \u001b[0;31m# Derive residual value: (NxN conv, BN, act) x 2 -> 1x1 conv\u001b[0m\u001b[0;34m\u001b[0m\u001b[0;34m\u001b[0m\u001b[0;34m\u001b[0m\u001b[0m\n\u001b[1;32m    691\u001b[0m         \u001b[0mres\u001b[0m \u001b[0;34m=\u001b[0m \u001b[0mself\u001b[0m\u001b[0;34m.\u001b[0m\u001b[0mconv_block_1\u001b[0m\u001b[0;34m(\u001b[0m\u001b[0minputs\u001b[0m\u001b[0;34m,\u001b[0m \u001b[0mtraining\u001b[0m\u001b[0;34m)\u001b[0m\u001b[0;34m\u001b[0m\u001b[0;34m\u001b[0m\u001b[0m\n\u001b[0;32m--> 692\u001b[0;31m         \u001b[0mres\u001b[0m \u001b[0;34m=\u001b[0m \u001b[0mself\u001b[0m\u001b[0;34m.\u001b[0m\u001b[0mconv_block_2\u001b[0m\u001b[0;34m(\u001b[0m\u001b[0mres\u001b[0m\u001b[0;34m,\u001b[0m \u001b[0mtraining\u001b[0m\u001b[0;34m)\u001b[0m\u001b[0;34m\u001b[0m\u001b[0;34m\u001b[0m\u001b[0m\n\u001b[0m\u001b[1;32m    693\u001b[0m         \u001b[0mres\u001b[0m \u001b[0;34m=\u001b[0m \u001b[0mself\u001b[0m\u001b[0;34m.\u001b[0m\u001b[0mconv_2d_1x1\u001b[0m\u001b[0;34m(\u001b[0m\u001b[0mres\u001b[0m\u001b[0;34m)\u001b[0m\u001b[0;34m\u001b[0m\u001b[0;34m\u001b[0m\u001b[0m\n\u001b[1;32m    694\u001b[0m         \u001b[0;31m# if the convolutions changed the shape of the output volume so that\u001b[0m\u001b[0;34m\u001b[0m\u001b[0;34m\u001b[0m\u001b[0;34m\u001b[0m\u001b[0m\n",
      "\u001b[0;32m/opt/conda/envs/gim_cv_gpu/lib/python3.8/site-packages/tensorflow/python/keras/engine/base_layer.py\u001b[0m in \u001b[0;36m__call__\u001b[0;34m(self, *args, **kwargs)\u001b[0m\n\u001b[1;32m    966\u001b[0m           with base_layer_utils.autocast_context_manager(\n\u001b[1;32m    967\u001b[0m               self._compute_dtype):\n\u001b[0;32m--> 968\u001b[0;31m             \u001b[0moutputs\u001b[0m \u001b[0;34m=\u001b[0m \u001b[0mself\u001b[0m\u001b[0;34m.\u001b[0m\u001b[0mcall\u001b[0m\u001b[0;34m(\u001b[0m\u001b[0mcast_inputs\u001b[0m\u001b[0;34m,\u001b[0m \u001b[0;34m*\u001b[0m\u001b[0margs\u001b[0m\u001b[0;34m,\u001b[0m \u001b[0;34m**\u001b[0m\u001b[0mkwargs\u001b[0m\u001b[0;34m)\u001b[0m\u001b[0;34m\u001b[0m\u001b[0;34m\u001b[0m\u001b[0m\n\u001b[0m\u001b[1;32m    969\u001b[0m           \u001b[0mself\u001b[0m\u001b[0;34m.\u001b[0m\u001b[0m_handle_activity_regularization\u001b[0m\u001b[0;34m(\u001b[0m\u001b[0minputs\u001b[0m\u001b[0;34m,\u001b[0m \u001b[0moutputs\u001b[0m\u001b[0;34m)\u001b[0m\u001b[0;34m\u001b[0m\u001b[0;34m\u001b[0m\u001b[0m\n\u001b[1;32m    970\u001b[0m           \u001b[0mself\u001b[0m\u001b[0;34m.\u001b[0m\u001b[0m_set_mask_metadata\u001b[0m\u001b[0;34m(\u001b[0m\u001b[0minputs\u001b[0m\u001b[0;34m,\u001b[0m \u001b[0moutputs\u001b[0m\u001b[0;34m,\u001b[0m \u001b[0minput_masks\u001b[0m\u001b[0;34m)\u001b[0m\u001b[0;34m\u001b[0m\u001b[0;34m\u001b[0m\u001b[0m\n",
      "\u001b[0;32m/home/root/gim_cv/models/blocks.py\u001b[0m in \u001b[0;36mcall\u001b[0;34m(self, inputs, training)\u001b[0m\n\u001b[1;32m    402\u001b[0m \u001b[0;34m\u001b[0m\u001b[0m\n\u001b[1;32m    403\u001b[0m     \u001b[0;32mdef\u001b[0m \u001b[0mcall\u001b[0m\u001b[0;34m(\u001b[0m\u001b[0mself\u001b[0m\u001b[0;34m,\u001b[0m \u001b[0minputs\u001b[0m\u001b[0;34m,\u001b[0m \u001b[0mtraining\u001b[0m\u001b[0;34m=\u001b[0m\u001b[0;32mNone\u001b[0m\u001b[0;34m)\u001b[0m\u001b[0;34m:\u001b[0m\u001b[0;34m\u001b[0m\u001b[0;34m\u001b[0m\u001b[0m\n\u001b[0;32m--> 404\u001b[0;31m         \u001b[0mconv\u001b[0m \u001b[0;34m=\u001b[0m \u001b[0mself\u001b[0m\u001b[0;34m.\u001b[0m\u001b[0mlambda_conv\u001b[0m\u001b[0;34m(\u001b[0m\u001b[0minputs\u001b[0m\u001b[0;34m)\u001b[0m\u001b[0;34m\u001b[0m\u001b[0;34m\u001b[0m\u001b[0m\n\u001b[0m\u001b[1;32m    405\u001b[0m         \u001b[0;32mreturn\u001b[0m \u001b[0mself\u001b[0m\u001b[0;34m.\u001b[0m\u001b[0mbatch_norm_act\u001b[0m\u001b[0;34m(\u001b[0m\u001b[0mconv\u001b[0m\u001b[0;34m,\u001b[0m \u001b[0mtraining\u001b[0m\u001b[0;34m=\u001b[0m\u001b[0mtraining\u001b[0m\u001b[0;34m)\u001b[0m\u001b[0;34m\u001b[0m\u001b[0;34m\u001b[0m\u001b[0m\n\u001b[1;32m    406\u001b[0m \u001b[0;34m\u001b[0m\u001b[0m\n",
      "\u001b[0;32m/opt/conda/envs/gim_cv_gpu/lib/python3.8/site-packages/tensorflow/python/keras/engine/base_layer.py\u001b[0m in \u001b[0;36m__call__\u001b[0;34m(self, *args, **kwargs)\u001b[0m\n\u001b[1;32m    966\u001b[0m           with base_layer_utils.autocast_context_manager(\n\u001b[1;32m    967\u001b[0m               self._compute_dtype):\n\u001b[0;32m--> 968\u001b[0;31m             \u001b[0moutputs\u001b[0m \u001b[0;34m=\u001b[0m \u001b[0mself\u001b[0m\u001b[0;34m.\u001b[0m\u001b[0mcall\u001b[0m\u001b[0;34m(\u001b[0m\u001b[0mcast_inputs\u001b[0m\u001b[0;34m,\u001b[0m \u001b[0;34m*\u001b[0m\u001b[0margs\u001b[0m\u001b[0;34m,\u001b[0m \u001b[0;34m**\u001b[0m\u001b[0mkwargs\u001b[0m\u001b[0;34m)\u001b[0m\u001b[0;34m\u001b[0m\u001b[0;34m\u001b[0m\u001b[0m\n\u001b[0m\u001b[1;32m    969\u001b[0m           \u001b[0mself\u001b[0m\u001b[0;34m.\u001b[0m\u001b[0m_handle_activity_regularization\u001b[0m\u001b[0;34m(\u001b[0m\u001b[0minputs\u001b[0m\u001b[0;34m,\u001b[0m \u001b[0moutputs\u001b[0m\u001b[0;34m)\u001b[0m\u001b[0;34m\u001b[0m\u001b[0;34m\u001b[0m\u001b[0m\n\u001b[1;32m    970\u001b[0m           \u001b[0mself\u001b[0m\u001b[0;34m.\u001b[0m\u001b[0m_set_mask_metadata\u001b[0m\u001b[0;34m(\u001b[0m\u001b[0minputs\u001b[0m\u001b[0;34m,\u001b[0m \u001b[0moutputs\u001b[0m\u001b[0;34m,\u001b[0m \u001b[0minput_masks\u001b[0m\u001b[0;34m)\u001b[0m\u001b[0;34m\u001b[0m\u001b[0;34m\u001b[0m\u001b[0m\n",
      "\u001b[0;32m/home/root/gim_cv/models/blocks.py\u001b[0m in \u001b[0;36mcall\u001b[0;34m(self, x)\u001b[0m\n\u001b[1;32m    351\u001b[0m \u001b[0;34m\u001b[0m\u001b[0m\n\u001b[1;32m    352\u001b[0m     \u001b[0;32mdef\u001b[0m \u001b[0mcall\u001b[0m\u001b[0;34m(\u001b[0m\u001b[0mself\u001b[0m\u001b[0;34m,\u001b[0m \u001b[0mx\u001b[0m\u001b[0;34m)\u001b[0m\u001b[0;34m:\u001b[0m\u001b[0;34m\u001b[0m\u001b[0;34m\u001b[0m\u001b[0m\n\u001b[0;32m--> 353\u001b[0;31m         \u001b[0;32mreturn\u001b[0m \u001b[0mself\u001b[0m\u001b[0;34m.\u001b[0m\u001b[0mlayer\u001b[0m\u001b[0;34m(\u001b[0m\u001b[0mx\u001b[0m\u001b[0;34m)\u001b[0m\u001b[0;34m\u001b[0m\u001b[0;34m\u001b[0m\u001b[0m\n\u001b[0m\u001b[1;32m    354\u001b[0m \u001b[0;34m\u001b[0m\u001b[0m\n\u001b[1;32m    355\u001b[0m \u001b[0;34m\u001b[0m\u001b[0m\n",
      "\u001b[0;32m/opt/conda/envs/gim_cv_gpu/lib/python3.8/site-packages/tensorflow/python/keras/engine/base_layer.py\u001b[0m in \u001b[0;36m__call__\u001b[0;34m(self, *args, **kwargs)\u001b[0m\n\u001b[1;32m    966\u001b[0m           with base_layer_utils.autocast_context_manager(\n\u001b[1;32m    967\u001b[0m               self._compute_dtype):\n\u001b[0;32m--> 968\u001b[0;31m             \u001b[0moutputs\u001b[0m \u001b[0;34m=\u001b[0m \u001b[0mself\u001b[0m\u001b[0;34m.\u001b[0m\u001b[0mcall\u001b[0m\u001b[0;34m(\u001b[0m\u001b[0mcast_inputs\u001b[0m\u001b[0;34m,\u001b[0m \u001b[0;34m*\u001b[0m\u001b[0margs\u001b[0m\u001b[0;34m,\u001b[0m \u001b[0;34m**\u001b[0m\u001b[0mkwargs\u001b[0m\u001b[0;34m)\u001b[0m\u001b[0;34m\u001b[0m\u001b[0;34m\u001b[0m\u001b[0m\n\u001b[0m\u001b[1;32m    969\u001b[0m           \u001b[0mself\u001b[0m\u001b[0;34m.\u001b[0m\u001b[0m_handle_activity_regularization\u001b[0m\u001b[0;34m(\u001b[0m\u001b[0minputs\u001b[0m\u001b[0;34m,\u001b[0m \u001b[0moutputs\u001b[0m\u001b[0;34m)\u001b[0m\u001b[0;34m\u001b[0m\u001b[0;34m\u001b[0m\u001b[0m\n\u001b[1;32m    970\u001b[0m           \u001b[0mself\u001b[0m\u001b[0;34m.\u001b[0m\u001b[0m_set_mask_metadata\u001b[0m\u001b[0;34m(\u001b[0m\u001b[0minputs\u001b[0m\u001b[0;34m,\u001b[0m \u001b[0moutputs\u001b[0m\u001b[0;34m,\u001b[0m \u001b[0minput_masks\u001b[0m\u001b[0;34m)\u001b[0m\u001b[0;34m\u001b[0m\u001b[0;34m\u001b[0m\u001b[0m\n",
      "\u001b[0;32m/home/root/gim_cv/models/blocks.py\u001b[0m in \u001b[0;36mcall\u001b[0;34m(self, x)\u001b[0m\n\u001b[1;32m    308\u001b[0m \u001b[0;34m\u001b[0m\u001b[0m\n\u001b[1;32m    309\u001b[0m         \u001b[0;32mif\u001b[0m \u001b[0mself\u001b[0m\u001b[0;34m.\u001b[0m\u001b[0mlocal_contexts\u001b[0m\u001b[0;34m:\u001b[0m\u001b[0;34m\u001b[0m\u001b[0;34m\u001b[0m\u001b[0m\n\u001b[0;32m--> 310\u001b[0;31m             \u001b[0mv\u001b[0m \u001b[0;34m=\u001b[0m \u001b[0mrearrange\u001b[0m\u001b[0;34m(\u001b[0m\u001b[0mv\u001b[0m\u001b[0;34m,\u001b[0m \u001b[0;34m'b u (hh ww) v -> b v hh ww u'\u001b[0m\u001b[0;34m,\u001b[0m \u001b[0mhh\u001b[0m \u001b[0;34m=\u001b[0m \u001b[0mhh\u001b[0m\u001b[0;34m,\u001b[0m \u001b[0mww\u001b[0m \u001b[0;34m=\u001b[0m \u001b[0mww\u001b[0m\u001b[0;34m)\u001b[0m\u001b[0;34m\u001b[0m\u001b[0;34m\u001b[0m\u001b[0m\n\u001b[0m\u001b[1;32m    311\u001b[0m             \u001b[0;31m# We need to add explicit padding across the batch dimension\u001b[0m\u001b[0;34m\u001b[0m\u001b[0;34m\u001b[0m\u001b[0;34m\u001b[0m\u001b[0m\n\u001b[1;32m    312\u001b[0m             \u001b[0mlambda_p\u001b[0m \u001b[0;34m=\u001b[0m \u001b[0mtf\u001b[0m\u001b[0;34m.\u001b[0m\u001b[0mmap_fn\u001b[0m\u001b[0;34m(\u001b[0m\u001b[0mself\u001b[0m\u001b[0;34m.\u001b[0m\u001b[0mpad_fn\u001b[0m\u001b[0;34m,\u001b[0m \u001b[0mv\u001b[0m\u001b[0;34m)\u001b[0m\u001b[0;34m\u001b[0m\u001b[0;34m\u001b[0m\u001b[0m\n",
      "\u001b[0;32m/opt/conda/envs/gim_cv_gpu/lib/python3.8/site-packages/einops/einops.py\u001b[0m in \u001b[0;36mrearrange\u001b[0;34m(tensor, pattern, **axes_lengths)\u001b[0m\n\u001b[1;32m    422\u001b[0m             \u001b[0;32mraise\u001b[0m \u001b[0mTypeError\u001b[0m\u001b[0;34m(\u001b[0m\u001b[0;34m\"Rearrange can't be applied to an empty list\"\u001b[0m\u001b[0;34m)\u001b[0m\u001b[0;34m\u001b[0m\u001b[0;34m\u001b[0m\u001b[0m\n\u001b[1;32m    423\u001b[0m         \u001b[0mtensor\u001b[0m \u001b[0;34m=\u001b[0m \u001b[0mget_backend\u001b[0m\u001b[0;34m(\u001b[0m\u001b[0mtensor\u001b[0m\u001b[0;34m[\u001b[0m\u001b[0;36m0\u001b[0m\u001b[0;34m]\u001b[0m\u001b[0;34m)\u001b[0m\u001b[0;34m.\u001b[0m\u001b[0mstack_on_zeroth_dimension\u001b[0m\u001b[0;34m(\u001b[0m\u001b[0mtensor\u001b[0m\u001b[0;34m)\u001b[0m\u001b[0;34m\u001b[0m\u001b[0;34m\u001b[0m\u001b[0m\n\u001b[0;32m--> 424\u001b[0;31m     \u001b[0;32mreturn\u001b[0m \u001b[0mreduce\u001b[0m\u001b[0;34m(\u001b[0m\u001b[0mtensor\u001b[0m\u001b[0;34m,\u001b[0m \u001b[0mpattern\u001b[0m\u001b[0;34m,\u001b[0m \u001b[0mreduction\u001b[0m\u001b[0;34m=\u001b[0m\u001b[0;34m'rearrange'\u001b[0m\u001b[0;34m,\u001b[0m \u001b[0;34m**\u001b[0m\u001b[0maxes_lengths\u001b[0m\u001b[0;34m)\u001b[0m\u001b[0;34m\u001b[0m\u001b[0;34m\u001b[0m\u001b[0m\n\u001b[0m\u001b[1;32m    425\u001b[0m \u001b[0;34m\u001b[0m\u001b[0m\n\u001b[1;32m    426\u001b[0m \u001b[0;34m\u001b[0m\u001b[0m\n",
      "\u001b[0;32m/opt/conda/envs/gim_cv_gpu/lib/python3.8/site-packages/einops/einops.py\u001b[0m in \u001b[0;36mreduce\u001b[0;34m(tensor, pattern, reduction, **axes_lengths)\u001b[0m\n\u001b[1;32m    374\u001b[0m             \u001b[0mmessage\u001b[0m \u001b[0;34m+=\u001b[0m \u001b[0;34m'\\n Input is list. '\u001b[0m\u001b[0;34m\u001b[0m\u001b[0;34m\u001b[0m\u001b[0m\n\u001b[1;32m    375\u001b[0m         \u001b[0mmessage\u001b[0m \u001b[0;34m+=\u001b[0m \u001b[0;34m'Additional info: {}.'\u001b[0m\u001b[0;34m.\u001b[0m\u001b[0mformat\u001b[0m\u001b[0;34m(\u001b[0m\u001b[0maxes_lengths\u001b[0m\u001b[0;34m)\u001b[0m\u001b[0;34m\u001b[0m\u001b[0;34m\u001b[0m\u001b[0m\n\u001b[0;32m--> 376\u001b[0;31m         \u001b[0;32mraise\u001b[0m \u001b[0mEinopsError\u001b[0m\u001b[0;34m(\u001b[0m\u001b[0mmessage\u001b[0m \u001b[0;34m+\u001b[0m \u001b[0;34m'\\n {}'\u001b[0m\u001b[0;34m.\u001b[0m\u001b[0mformat\u001b[0m\u001b[0;34m(\u001b[0m\u001b[0me\u001b[0m\u001b[0;34m)\u001b[0m\u001b[0;34m)\u001b[0m\u001b[0;34m\u001b[0m\u001b[0;34m\u001b[0m\u001b[0m\n\u001b[0m\u001b[1;32m    377\u001b[0m \u001b[0;34m\u001b[0m\u001b[0m\n\u001b[1;32m    378\u001b[0m \u001b[0;34m\u001b[0m\u001b[0m\n",
      "\u001b[0;31mEinopsError\u001b[0m:  Error while processing rearrange-reduction pattern \"b u (hh ww) v -> b v hh ww u\".\n Input tensor shape: (1, 1, 65536, 32). Additional info: {'hh': 512, 'ww': 512}.\n Shape mismatch, 65536 != 262144"
     ]
    }
   ],
   "source": [
    "# path_to_dir = str(cfg.infer_data_tif_path) # '/home/root/tests/resources/infer_data_tif' # infer_data_tif\n",
    "\n",
    "path_to_dir = '/home/root/TRAIN/raster/'\n",
    "image_name = 'top_60cm_qb_area1.tif'\n",
    "# for image_name in tif_files:\n",
    "print('-----------------------------------------------------------')\n",
    "print(\"Running prediction on image:  \", image_name)\n",
    "# specify the repository where the input file is located and its name\n",
    "# path_to_dir = '/home/root/data/volumes/datasets/baranquilla_full_40cm/' # baranquilla_merged_33_resampled_40cm\n",
    "path_to_file_complete = os.path.join(path_to_dir, image_name)\n",
    "# print(\"----------------------------------------------------------------------------------------------------\")\n",
    "# print(path_to_file_complete)\n",
    "img = imageio.imread(path_to_file_complete)\n",
    "plt.imshow(img)\n",
    "patches = extract_patches(img)\n",
    "print(patches.shape)\n",
    "# print(patches.reshape((-1, 1024, 1024, 3)).shape)\n",
    "image_size = img.shape\n",
    "# print(\"image size :\", image_size)\n",
    "input_patch_size = (512, 512, 3)\n",
    "padded_image_size = [math.ceil(image_size[i]/input_patch_size[i]) * (input_patch_size[i]) for i in range(3)]\n",
    "# print(\"padded image size :\", padded_image_size)\n",
    "topad = []\n",
    "for i in range(len(image_size)-1):\n",
    "    if (padded_image_size[i] - image_size[i])%2 == 0:\n",
    "        topad.append((int((padded_image_size[i]- image_size[i])/2), int((padded_image_size[i]- image_size[i])/2)))\n",
    "    else:\n",
    "        topad.append((int((padded_image_size[i]- image_size[i])//2), int((padded_image_size[i]- image_size[i])//2)+1))\n",
    "topad.append((0,0))\n",
    "print(tuple(topad))\n",
    "###\n",
    "ret = np.pad(img, pad_width=tuple(topad), mode='reflect')\n",
    "print(\"Confirm new padded image size :\", ret.shape)\n",
    "###\n",
    "# proceed to extract overlapping patches\n",
    "ret_patches = extract_patches(ret, patch_shape=(512,512,3), extraction_step=512)\n",
    "print(ret_patches.shape)\n",
    "X = np.transpose(patches.reshape((-1, 32, 32, 3)), (0, 3, 1, 2))\n",
    "print(ret_patches.reshape((-1, 512, 512, 3)).shape)\n",
    "plt.imshow(ret)\n",
    "plt.show()\n",
    "# # Extra padding step to account for patch overlap during prediction process\n",
    "# aug_img = np.pad(ret, pad_width=((256, 256), (256, 256), (0, 0)), mode='reflect')\n",
    "# print(\"Check newly padded (augmented) image size :\", aug_img.shape)\n",
    "# # plot augmented image\n",
    "# plt.imshow(aug_img)\n",
    "# plt.show()\n",
    "# proceed to extract overlapping patches\n",
    "aug_patches = extract_patches(ret, patch_shape=(512,512,3), extraction_step=512)\n",
    "topredict = aug_patches.reshape((-1, 512, 512, 3))\n",
    "pred_aug_patches = []\n",
    "for i in range(aug_patches.reshape((-1, 1024, 1024, 3)).shape[0]):\n",
    "    pred_aug_patches.append(model(topredict[i,:,:,:][None, ...]/255.))\n",
    "pred_aug_patchex = np.array(np.squeeze(pred_aug_patches))\n",
    "(I,J,K) =  (ret.shape[0]//512, ret.shape[1]//512, 3)\n",
    "reconst_img = np.empty((ret.shape[0],ret.shape[1]), float)\n",
    "index = 0\n",
    "for i in range(I):\n",
    "    print('j : ', j)\n",
    "    for j in range(J):\n",
    "        print('i : ', i)\n",
    "        reconst_img[512*i:512*(i+1), 512*j:512*(j+1)] = pred_aug_patchex[index,256:1024-256,256:1024-256] # aug_patches.reshape((-1, 640, 640, 3))[index,64:640-64,64:640-64,:]\n",
    "        index += 1\n",
    "    #\n",
    "#\n",
    "# print()\n",
    "print(reconst_img.shape)\n",
    "plt.imshow(reconst_img)\n",
    "plt.show()\n",
    "reconst_img_origin = reconst_img[topad[0][0]:reconst_img.shape[0]-topad[0][1],topad[1][0]:reconst_img.shape[1]-topad[1][1]]\n",
    "###\n",
    "np.save('predImg_output_xyz.npy', reconst_img_origin)\n",
    "###\n",
    "datenow = time.strftime(\"%Y%m%d-%H%M%S\")\n",
    "# output_name = \"Model_Segmentalist_infer_\" + image_name + \"_\" + datenow + \".tif\" # 'predictedImgOutput.tif'\n",
    "# output_path = cfg.predictions_data_tif_path / Path(output_name)\n",
    "# #     with rasterio.open(path_to_file_complete) as src:\n",
    "# #         profile = src.profile\n",
    "# #         profile.update(count=1)\n",
    "# #         with rasterio.open(output_path, 'w', **profile) as dst:\n",
    "# #             #\n",
    "# #             dst.write(tf.cast(reconst_img_origin*255., tf.uint8), indexes=1)"
   ]
  },
  {
   "cell_type": "code",
   "execution_count": 41,
   "metadata": {},
   "outputs": [
    {
     "name": "stdout",
     "output_type": "stream",
     "text": [
      "0.498046875\n"
     ]
    },
    {
     "data": {
      "image/png": "[encoded data removed]",
      "text/plain": [
       "<Figure size 432x288 with 1 Axes>"
      ]
     },
     "metadata": {
      "needs_background": "light"
     },
     "output_type": "display_data"
    }
   ],
   "source": [
    "from skimage import data\n",
    "from skimage.morphology import disk\n",
    "from skimage.filters import threshold_otsu, rank\n",
    "from skimage.util import img_as_ubyte\n",
    "\n",
    "import matplotlib\n",
    "import matplotlib.pyplot as plt\n",
    "\n",
    "from skimage import data, io, filters\n",
    "\n",
    "\n",
    "# load image\n",
    "# image = data.imread(\"C:/structure/data/blobs.tif\")\n",
    "#split channels\n",
    "image = reconst_img\n",
    "\n",
    "# threshold\n",
    "threshold = filters.threshold_otsu(image)\n",
    "print(threshold)\n",
    "thresholded = image >= threshold\n",
    "\n",
    "# show result\n",
    "io.imshow(thresholded)\n",
    "io.show()"
   ]
  },
  {
   "cell_type": "code",
   "execution_count": 29,
   "metadata": {},
   "outputs": [
    {
     "name": "stdout",
     "output_type": "stream",
     "text": [
      "-----------------------------------------------------------\n",
      "Running prediction on image:   Medellin_40cm.tif\n"
     ]
    },
    {
     "data": {
      "image/png": "[encoded data removed]",
      "text/plain": [
       "<Figure size 432x288 with 1 Axes>"
      ]
     },
     "metadata": {
      "needs_background": "light"
     },
     "output_type": "display_data"
    }
   ],
   "source": [
    "# path_to_dir = str(cfg.infer_data_tif_path) # '/home/root/tests/resources/infer_data_tif' # infer_data_tif\n",
    "\n",
    "path_to_dir = '/home/root/tests/resources/train_data_tif/rasters/'\n",
    "image_name = 'Medellin_40cm.tif'\n",
    "# for image_name in tif_files:\n",
    "print('-----------------------------------------------------------')\n",
    "print(\"Running prediction on image:  \", image_name)\n",
    "# specify the repository where the input file is located and its name\n",
    "# path_to_dir = '/home/root/data/volumes/datasets/baranquilla_full_40cm/' # baranquilla_merged_33_resampled_40cm\n",
    "path_to_file_complete = os.path.join(path_to_dir, image_name)\n",
    "# print(\"----------------------------------------------------------------------------------------------------\")\n",
    "# print(path_to_file_complete)\n",
    "img = imageio.imread(path_to_file_complete)\n",
    "# plt.imshow(img)\n",
    "# patches = extract_patches(img)\n",
    "# print(patches.shape)\n",
    "# print(patches.reshape((-1, 1024, 1024, 3)).shape)\n",
    "image_size = img.shape\n",
    "# print(\"image size :\", image_size)\n",
    "input_patch_size = (512, 512, 3)\n",
    "padded_image_size = [math.ceil(image_size[i]/input_patch_size[i]) * (input_patch_size[i]) for i in range(3)]\n",
    "# print(\"padded image size :\", padded_image_size)\n",
    "topad = []\n",
    "for i in range(len(image_size)-1):\n",
    "    if (padded_image_size[i] - image_size[i])%2 == 0:\n",
    "        topad.append((int((padded_image_size[i]- image_size[i])/2), int((padded_image_size[i]- image_size[i])/2)))\n",
    "    else:\n",
    "        topad.append((int((padded_image_size[i]- image_size[i])//2), int((padded_image_size[i]- image_size[i])//2)+1))\n",
    "topad.append((0,0))\n",
    "# print(tuple(topad))\n",
    "###\n",
    "ret = np.pad(img, pad_width=tuple(topad), mode='reflect')\n",
    "# print(\"Confirm new padded image size :\", ret.shape)\n",
    "###\n",
    "# proceed to extract overlapping patches\n",
    "ret_patches = extract_patches(ret, patch_shape=(512,512,3), extraction_step=512)\n",
    "# print(ret_patches.shape)\n",
    "# X = np.transpose(patches.reshape((-1, 32, 32, 3)), (0, 3, 1, 2))\n",
    "# print(ret_patches.reshape((-1, 512, 512, 3)).shape)\n",
    "# plt.imshow(ret)\n",
    "# Extra padding step to account for patch overlap during prediction process\n",
    "aug_img = np.pad(ret, pad_width=((256, 256), (256, 256), (0, 0)), mode='reflect')\n",
    "# print(\"Check newly padded (augmented) image size :\", aug_img.shape)\n",
    "# plot augmented image\n",
    "# plt.imshow(aug_img)\n",
    "# proceed to extract overlapping patches\n",
    "aug_patches = extract_patches(aug_img, patch_shape=(1024,1024,3), extraction_step=512)\n",
    "topredict = aug_patches.reshape((-1, 1024, 1024, 3))\n",
    "pred_aug_patches = []\n",
    "for i in range(aug_patches.reshape((-1, 1024, 1024, 3)).shape[0]):\n",
    "    pred_aug_patches.append(model(topredict[i,:,:,:][None, ...]/255.))\n",
    "pred_aug_patchex = np.array(np.squeeze(pred_aug_patches))\n",
    "(I,J,K) =  (ret.shape[0]//512, ret.shape[1]//512, 3)\n",
    "reconst_img = np.empty((ret.shape[0],ret.shape[1]), float)\n",
    "index = 0\n",
    "for i in range(I):\n",
    "    # print('j : ', j)\n",
    "    for j in range(J):\n",
    "        # print('i : ', i)\n",
    "        reconst_img[512*i:512*(i+1), 512*j:512*(j+1)] = pred_aug_patchex[index,256:1024-256,256:1024-256] # aug_patches.reshape((-1, 640, 640, 3))[index,64:640-64,64:640-64,:]\n",
    "        index += 1\n",
    "    #\n",
    "#\n",
    "# print()\n",
    "# print(reconst_img.shape)\n",
    "plt.imshow(reconst_img)\n",
    "reconst_img_origin = reconst_img[topad[0][0]:reconst_img.shape[0]-topad[0][1],topad[1][0]:reconst_img.shape[1]-topad[1][1]]\n",
    "###\n",
    "# np.save('predImg_output_xyz.npy', reconst_img_origin)\n",
    "###\n",
    "datenow = time.strftime(\"%Y%m%d-%H%M%S\")\n",
    "# output_name = \"Model_Segmentalist_infer_\" + image_name + \"_\" + datenow + \".tif\" # 'predictedImgOutput.tif'\n",
    "# output_path = cfg.predictions_data_tif_path / Path(output_name)\n",
    "# #     with rasterio.open(path_to_file_complete) as src:\n",
    "# #         profile = src.profile\n",
    "# #         profile.update(count=1)\n",
    "# #         with rasterio.open(output_path, 'w', **profile) as dst:\n",
    "# #             #\n",
    "# #             dst.write(tf.cast(reconst_img_origin*255., tf.uint8), indexes=1)"
   ]
  },
  {
   "cell_type": "code",
   "execution_count": 31,
   "metadata": {},
   "outputs": [
    {
     "name": "stdout",
     "output_type": "stream",
     "text": [
      "/home/root/saved_models/Segmentalist_fe08070b-16d8-4a4d-86ec-2e159e4e0fb6 failed with exception:\n",
      "'NoneType' object has no attribute 'group'\n",
      "/home/root/saved_models/Segmentalist_524faef9-1cdf-4f4d-a307-1314faf0cf43 failed with exception:\n",
      "'NoneType' object has no attribute 'group'\n"
     ]
    },
    {
     "ename": "AttributeError",
     "evalue": "'dict' object has no attribute 'training_datasets'",
     "output_type": "error",
     "traceback": [
      "\u001b[0;31m---------------------------------------------------------------------------\u001b[0m",
      "\u001b[0;31mAttributeError\u001b[0m                            Traceback (most recent call last)",
      "\u001b[0;32m<ipython-input-31-6694e06e299e>\u001b[0m in \u001b[0;36m<module>\u001b[0;34m\u001b[0m\n\u001b[1;32m      1\u001b[0m \u001b[0mdf_trained_models\u001b[0m \u001b[0;34m=\u001b[0m \u001b[0mutils\u001b[0m\u001b[0;34m.\u001b[0m\u001b[0mcollate_run_data\u001b[0m\u001b[0;34m(\u001b[0m\u001b[0mPath\u001b[0m\u001b[0;34m(\u001b[0m\u001b[0mstr\u001b[0m\u001b[0;34m(\u001b[0m\u001b[0mcfg\u001b[0m\u001b[0;34m.\u001b[0m\u001b[0mmodels_path\u001b[0m\u001b[0;34m)\u001b[0m\u001b[0;34m)\u001b[0m\u001b[0;34m,\u001b[0m \u001b[0mmodel_name\u001b[0m\u001b[0;34m=\u001b[0m\u001b[0;34m\"Segmentalist\"\u001b[0m\u001b[0;34m)\u001b[0m\u001b[0;34m\u001b[0m\u001b[0;34m\u001b[0m\u001b[0m\n\u001b[1;32m      2\u001b[0m df_sorted = df_trained_models.sort_values(by='lowest_val_loss').query(\n\u001b[0;32m----> 3\u001b[0;31m     \u001b[0;34mf'datasets == \"{args.training_datasets}\" and loss_fn == \"{args.loss_fn}\"'\u001b[0m\u001b[0;34m\u001b[0m\u001b[0;34m\u001b[0m\u001b[0m\n\u001b[0m\u001b[1;32m      4\u001b[0m )\n\u001b[1;32m      5\u001b[0m \u001b[0mbest_row\u001b[0m \u001b[0;34m=\u001b[0m \u001b[0mdf_sorted\u001b[0m\u001b[0;34m.\u001b[0m\u001b[0miloc\u001b[0m\u001b[0;34m[\u001b[0m\u001b[0;36m0\u001b[0m\u001b[0;34m]\u001b[0m\u001b[0;34m\u001b[0m\u001b[0;34m\u001b[0m\u001b[0m\n",
      "\u001b[0;31mAttributeError\u001b[0m: 'dict' object has no attribute 'training_datasets'"
     ]
    }
   ],
   "source": [
    "df_trained_models = utils.collate_run_data(Path(str(cfg.models_path)), model_name=\"Segmentalist\")\n",
    "df_sorted = df_trained_models.sort_values(by='lowest_val_loss').query(\n",
    "    f'datasets == \"{args.training_datasets}\" and loss_fn == \"{args.loss_fn}\"'\n",
    ")\n",
    "best_row = df_sorted.iloc[0]\n",
    "model = Segmentalist.load_from_metadata(best_row)"
   ]
  },
  {
   "cell_type": "code",
   "execution_count": 96,
   "metadata": {},
   "outputs": [
    {
     "data": {
      "text/plain": [
       "PosixPath('Segmentalist_bd2e4276-fd3a-410c-aa4b-393da8423418')"
      ]
     },
     "execution_count": 96,
     "metadata": {},
     "output_type": "execute_result"
    }
   ],
   "source": [
    "project_name=Path(f'Segmentalist_{uuid.uuid4()}')\n",
    "project_name "
   ]
  },
  {
   "cell_type": "code",
   "execution_count": 35,
   "metadata": {},
   "outputs": [
    {
     "data": {
      "text/plain": [
       "'/home/root/saved_models/Segmentalist_92097dcb-0801-4653-9388-5fefe8093cac/cp-e03-ji1.52074-l-0.20076-vl0.00.ckpt'"
      ]
     },
     "execution_count": 35,
     "metadata": {},
     "output_type": "execute_result"
    }
   ],
   "source": [
    "checkpoint_dir = '/home/root/saved_models/Segmentalist_92097dcb-0801-4653-9388-5fefe8093cac/'\n",
    "os.listdir(checkpoint_dir)\n",
    "latest = tf.train.latest_checkpoint(checkpoint_dir)\n",
    "latest\n",
    "\n",
    "checkpoint_path = latest"
   ]
  },
  {
   "cell_type": "code",
   "execution_count": 37,
   "metadata": {},
   "outputs": [],
   "source": [
    "# Save the weights\n",
    "model.save_weights('my_checkpoint')"
   ]
  },
  {
   "cell_type": "code",
   "execution_count": 41,
   "metadata": {},
   "outputs": [
    {
     "ename": "KeyError",
     "evalue": "'self'",
     "output_type": "error",
     "traceback": [
      "\u001b[0;31m---------------------------------------------------------------------------\u001b[0m",
      "\u001b[0;31mKeyError\u001b[0m                                  Traceback (most recent call last)",
      "\u001b[0;32m<ipython-input-41-82b43d591538>\u001b[0m in \u001b[0;36m<module>\u001b[0;34m\u001b[0m\n\u001b[1;32m      1\u001b[0m \u001b[0;31m# model.save('my_model.h5')\u001b[0m\u001b[0;34m\u001b[0m\u001b[0;34m\u001b[0m\u001b[0;34m\u001b[0m\u001b[0m\n\u001b[1;32m      2\u001b[0m \u001b[0;34m\u001b[0m\u001b[0m\n\u001b[0;32m----> 3\u001b[0;31m \u001b[0mmodel\u001b[0m\u001b[0;34m.\u001b[0m\u001b[0msave\u001b[0m\u001b[0;34m(\u001b[0m\u001b[0;34m'mymodel'\u001b[0m\u001b[0;34m)\u001b[0m\u001b[0;34m\u001b[0m\u001b[0;34m\u001b[0m\u001b[0m\n\u001b[0m",
      "\u001b[0;32m/opt/conda/envs/gim_cv_gpu/lib/python3.8/site-packages/tensorflow/python/keras/engine/network.py\u001b[0m in \u001b[0;36msave\u001b[0;34m(self, filepath, overwrite, include_optimizer, save_format, signatures, options)\u001b[0m\n\u001b[1;32m   1049\u001b[0m     \u001b[0;31m`\u001b[0m\u001b[0;31m`\u001b[0m\u001b[0;31m`\u001b[0m\u001b[0;34m\u001b[0m\u001b[0;34m\u001b[0m\u001b[0m\n\u001b[1;32m   1050\u001b[0m     \"\"\"\n\u001b[0;32m-> 1051\u001b[0;31m     save.save_model(self, filepath, overwrite, include_optimizer, save_format,\n\u001b[0m\u001b[1;32m   1052\u001b[0m                     signatures, options)\n\u001b[1;32m   1053\u001b[0m \u001b[0;34m\u001b[0m\u001b[0m\n",
      "\u001b[0;32m/opt/conda/envs/gim_cv_gpu/lib/python3.8/site-packages/tensorflow/python/keras/saving/save.py\u001b[0m in \u001b[0;36msave_model\u001b[0;34m(model, filepath, overwrite, include_optimizer, save_format, signatures, options)\u001b[0m\n\u001b[1;32m    135\u001b[0m         model, filepath, overwrite, include_optimizer)\n\u001b[1;32m    136\u001b[0m   \u001b[0;32melse\u001b[0m\u001b[0;34m:\u001b[0m\u001b[0;34m\u001b[0m\u001b[0;34m\u001b[0m\u001b[0m\n\u001b[0;32m--> 137\u001b[0;31m     saved_model_save.save(model, filepath, overwrite, include_optimizer,\n\u001b[0m\u001b[1;32m    138\u001b[0m                           signatures, options)\n\u001b[1;32m    139\u001b[0m \u001b[0;34m\u001b[0m\u001b[0m\n",
      "\u001b[0;32m/opt/conda/envs/gim_cv_gpu/lib/python3.8/site-packages/tensorflow/python/keras/saving/saved_model/save.py\u001b[0m in \u001b[0;36msave\u001b[0;34m(model, filepath, overwrite, include_optimizer, signatures, options)\u001b[0m\n\u001b[1;32m     76\u001b[0m     \u001b[0;31m# we use the default replica context here.\u001b[0m\u001b[0;34m\u001b[0m\u001b[0;34m\u001b[0m\u001b[0;34m\u001b[0m\u001b[0m\n\u001b[1;32m     77\u001b[0m     \u001b[0;32mwith\u001b[0m \u001b[0mdistribution_strategy_context\u001b[0m\u001b[0;34m.\u001b[0m\u001b[0m_get_default_replica_context\u001b[0m\u001b[0;34m(\u001b[0m\u001b[0;34m)\u001b[0m\u001b[0;34m:\u001b[0m  \u001b[0;31m# pylint: disable=protected-access\u001b[0m\u001b[0;34m\u001b[0m\u001b[0;34m\u001b[0m\u001b[0m\n\u001b[0;32m---> 78\u001b[0;31m       \u001b[0msave_lib\u001b[0m\u001b[0;34m.\u001b[0m\u001b[0msave\u001b[0m\u001b[0;34m(\u001b[0m\u001b[0mmodel\u001b[0m\u001b[0;34m,\u001b[0m \u001b[0mfilepath\u001b[0m\u001b[0;34m,\u001b[0m \u001b[0msignatures\u001b[0m\u001b[0;34m,\u001b[0m \u001b[0moptions\u001b[0m\u001b[0;34m)\u001b[0m\u001b[0;34m\u001b[0m\u001b[0;34m\u001b[0m\u001b[0m\n\u001b[0m\u001b[1;32m     79\u001b[0m \u001b[0;34m\u001b[0m\u001b[0m\n\u001b[1;32m     80\u001b[0m   \u001b[0;32mif\u001b[0m \u001b[0;32mnot\u001b[0m \u001b[0minclude_optimizer\u001b[0m\u001b[0;34m:\u001b[0m\u001b[0;34m\u001b[0m\u001b[0;34m\u001b[0m\u001b[0m\n",
      "\u001b[0;32m/opt/conda/envs/gim_cv_gpu/lib/python3.8/site-packages/tensorflow/python/saved_model/save.py\u001b[0m in \u001b[0;36msave\u001b[0;34m(obj, export_dir, signatures, options)\u001b[0m\n\u001b[1;32m    948\u001b[0m   \u001b[0mmeta_graph_def\u001b[0m \u001b[0;34m=\u001b[0m \u001b[0msaved_model\u001b[0m\u001b[0;34m.\u001b[0m\u001b[0mmeta_graphs\u001b[0m\u001b[0;34m.\u001b[0m\u001b[0madd\u001b[0m\u001b[0;34m(\u001b[0m\u001b[0;34m)\u001b[0m\u001b[0;34m\u001b[0m\u001b[0;34m\u001b[0m\u001b[0m\n\u001b[1;32m    949\u001b[0m \u001b[0;34m\u001b[0m\u001b[0m\n\u001b[0;32m--> 950\u001b[0;31m   _, exported_graph, object_saver, asset_info = _build_meta_graph(\n\u001b[0m\u001b[1;32m    951\u001b[0m       obj, export_dir, signatures, options, meta_graph_def)\n\u001b[1;32m    952\u001b[0m   \u001b[0msaved_model\u001b[0m\u001b[0;34m.\u001b[0m\u001b[0msaved_model_schema_version\u001b[0m \u001b[0;34m=\u001b[0m \u001b[0mconstants\u001b[0m\u001b[0;34m.\u001b[0m\u001b[0mSAVED_MODEL_SCHEMA_VERSION\u001b[0m\u001b[0;34m\u001b[0m\u001b[0;34m\u001b[0m\u001b[0m\n",
      "\u001b[0;32m/opt/conda/envs/gim_cv_gpu/lib/python3.8/site-packages/tensorflow/python/saved_model/save.py\u001b[0m in \u001b[0;36m_build_meta_graph\u001b[0;34m(obj, export_dir, signatures, options, meta_graph_def)\u001b[0m\n\u001b[1;32m   1005\u001b[0m   \u001b[0mcheckpoint_graph_view\u001b[0m \u001b[0;34m=\u001b[0m \u001b[0m_AugmentedGraphView\u001b[0m\u001b[0;34m(\u001b[0m\u001b[0mobj\u001b[0m\u001b[0;34m)\u001b[0m\u001b[0;34m\u001b[0m\u001b[0;34m\u001b[0m\u001b[0m\n\u001b[1;32m   1006\u001b[0m   \u001b[0;32mif\u001b[0m \u001b[0msignatures\u001b[0m \u001b[0;32mis\u001b[0m \u001b[0;32mNone\u001b[0m\u001b[0;34m:\u001b[0m\u001b[0;34m\u001b[0m\u001b[0;34m\u001b[0m\u001b[0m\n\u001b[0;32m-> 1007\u001b[0;31m     signatures = signature_serialization.find_function_to_export(\n\u001b[0m\u001b[1;32m   1008\u001b[0m         checkpoint_graph_view)\n\u001b[1;32m   1009\u001b[0m \u001b[0;34m\u001b[0m\u001b[0m\n",
      "\u001b[0;32m/opt/conda/envs/gim_cv_gpu/lib/python3.8/site-packages/tensorflow/python/saved_model/signature_serialization.py\u001b[0m in \u001b[0;36mfind_function_to_export\u001b[0;34m(saveable_view)\u001b[0m\n\u001b[1;32m     73\u001b[0m   \u001b[0;31m# If the user did not specify signatures, check the root object for a function\u001b[0m\u001b[0;34m\u001b[0m\u001b[0;34m\u001b[0m\u001b[0;34m\u001b[0m\u001b[0m\n\u001b[1;32m     74\u001b[0m   \u001b[0;31m# that can be made into a signature.\u001b[0m\u001b[0;34m\u001b[0m\u001b[0;34m\u001b[0m\u001b[0;34m\u001b[0m\u001b[0m\n\u001b[0;32m---> 75\u001b[0;31m   \u001b[0mfunctions\u001b[0m \u001b[0;34m=\u001b[0m \u001b[0msaveable_view\u001b[0m\u001b[0;34m.\u001b[0m\u001b[0mlist_functions\u001b[0m\u001b[0;34m(\u001b[0m\u001b[0msaveable_view\u001b[0m\u001b[0;34m.\u001b[0m\u001b[0mroot\u001b[0m\u001b[0;34m)\u001b[0m\u001b[0;34m\u001b[0m\u001b[0;34m\u001b[0m\u001b[0m\n\u001b[0m\u001b[1;32m     76\u001b[0m   \u001b[0msignature\u001b[0m \u001b[0;34m=\u001b[0m \u001b[0mfunctions\u001b[0m\u001b[0;34m.\u001b[0m\u001b[0mget\u001b[0m\u001b[0;34m(\u001b[0m\u001b[0mDEFAULT_SIGNATURE_ATTR\u001b[0m\u001b[0;34m,\u001b[0m \u001b[0;32mNone\u001b[0m\u001b[0;34m)\u001b[0m\u001b[0;34m\u001b[0m\u001b[0;34m\u001b[0m\u001b[0m\n\u001b[1;32m     77\u001b[0m   \u001b[0;32mif\u001b[0m \u001b[0msignature\u001b[0m \u001b[0;32mis\u001b[0m \u001b[0;32mnot\u001b[0m \u001b[0;32mNone\u001b[0m\u001b[0;34m:\u001b[0m\u001b[0;34m\u001b[0m\u001b[0;34m\u001b[0m\u001b[0m\n",
      "\u001b[0;32m/opt/conda/envs/gim_cv_gpu/lib/python3.8/site-packages/tensorflow/python/saved_model/save.py\u001b[0m in \u001b[0;36mlist_functions\u001b[0;34m(self, obj)\u001b[0m\n\u001b[1;32m    140\u001b[0m     \u001b[0mobj_functions\u001b[0m \u001b[0;34m=\u001b[0m \u001b[0mself\u001b[0m\u001b[0;34m.\u001b[0m\u001b[0m_functions\u001b[0m\u001b[0;34m.\u001b[0m\u001b[0mget\u001b[0m\u001b[0;34m(\u001b[0m\u001b[0mobj\u001b[0m\u001b[0;34m,\u001b[0m \u001b[0;32mNone\u001b[0m\u001b[0;34m)\u001b[0m\u001b[0;34m\u001b[0m\u001b[0;34m\u001b[0m\u001b[0m\n\u001b[1;32m    141\u001b[0m     \u001b[0;32mif\u001b[0m \u001b[0mobj_functions\u001b[0m \u001b[0;32mis\u001b[0m \u001b[0;32mNone\u001b[0m\u001b[0;34m:\u001b[0m\u001b[0;34m\u001b[0m\u001b[0;34m\u001b[0m\u001b[0m\n\u001b[0;32m--> 142\u001b[0;31m       obj_functions = obj._list_functions_for_serialization(  # pylint: disable=protected-access\n\u001b[0m\u001b[1;32m    143\u001b[0m           self._serialization_cache)\n\u001b[1;32m    144\u001b[0m       \u001b[0mself\u001b[0m\u001b[0;34m.\u001b[0m\u001b[0m_functions\u001b[0m\u001b[0;34m[\u001b[0m\u001b[0mobj\u001b[0m\u001b[0;34m]\u001b[0m \u001b[0;34m=\u001b[0m \u001b[0mobj_functions\u001b[0m\u001b[0;34m\u001b[0m\u001b[0;34m\u001b[0m\u001b[0m\n",
      "\u001b[0;32m/opt/conda/envs/gim_cv_gpu/lib/python3.8/site-packages/tensorflow/python/keras/engine/training.py\u001b[0m in \u001b[0;36m_list_functions_for_serialization\u001b[0;34m(self, serialization_cache)\u001b[0m\n\u001b[1;32m   1653\u001b[0m     \u001b[0mself\u001b[0m\u001b[0;34m.\u001b[0m\u001b[0mtest_function\u001b[0m \u001b[0;34m=\u001b[0m \u001b[0;32mNone\u001b[0m\u001b[0;34m\u001b[0m\u001b[0;34m\u001b[0m\u001b[0m\n\u001b[1;32m   1654\u001b[0m     \u001b[0mself\u001b[0m\u001b[0;34m.\u001b[0m\u001b[0mpredict_function\u001b[0m \u001b[0;34m=\u001b[0m \u001b[0;32mNone\u001b[0m\u001b[0;34m\u001b[0m\u001b[0;34m\u001b[0m\u001b[0m\n\u001b[0;32m-> 1655\u001b[0;31m     functions = super(\n\u001b[0m\u001b[1;32m   1656\u001b[0m         Model, self)._list_functions_for_serialization(serialization_cache)\n\u001b[1;32m   1657\u001b[0m     \u001b[0mself\u001b[0m\u001b[0;34m.\u001b[0m\u001b[0mtrain_function\u001b[0m \u001b[0;34m=\u001b[0m \u001b[0mtrain_function\u001b[0m\u001b[0;34m\u001b[0m\u001b[0;34m\u001b[0m\u001b[0m\n",
      "\u001b[0;32m/opt/conda/envs/gim_cv_gpu/lib/python3.8/site-packages/tensorflow/python/keras/engine/base_layer.py\u001b[0m in \u001b[0;36m_list_functions_for_serialization\u001b[0;34m(self, serialization_cache)\u001b[0m\n\u001b[1;32m   2747\u001b[0m \u001b[0;34m\u001b[0m\u001b[0m\n\u001b[1;32m   2748\u001b[0m   \u001b[0;32mdef\u001b[0m \u001b[0m_list_functions_for_serialization\u001b[0m\u001b[0;34m(\u001b[0m\u001b[0mself\u001b[0m\u001b[0;34m,\u001b[0m \u001b[0mserialization_cache\u001b[0m\u001b[0;34m)\u001b[0m\u001b[0;34m:\u001b[0m\u001b[0;34m\u001b[0m\u001b[0;34m\u001b[0m\u001b[0m\n\u001b[0;32m-> 2749\u001b[0;31m     return (self._trackable_saved_model_saver\n\u001b[0m\u001b[1;32m   2750\u001b[0m             .list_functions_for_serialization(serialization_cache))\n\u001b[1;32m   2751\u001b[0m \u001b[0;34m\u001b[0m\u001b[0m\n",
      "\u001b[0;32m/opt/conda/envs/gim_cv_gpu/lib/python3.8/site-packages/tensorflow/python/keras/saving/saved_model/base_serialization.py\u001b[0m in \u001b[0;36mlist_functions_for_serialization\u001b[0;34m(self, serialization_cache)\u001b[0m\n\u001b[1;32m     85\u001b[0m         \u001b[0;31m`\u001b[0m\u001b[0mConcreteFunction\u001b[0m\u001b[0;31m`\u001b[0m\u001b[0;34m.\u001b[0m\u001b[0;34m\u001b[0m\u001b[0;34m\u001b[0m\u001b[0m\n\u001b[1;32m     86\u001b[0m     \"\"\"\n\u001b[0;32m---> 87\u001b[0;31m     \u001b[0mfns\u001b[0m \u001b[0;34m=\u001b[0m \u001b[0mself\u001b[0m\u001b[0;34m.\u001b[0m\u001b[0mfunctions_to_serialize\u001b[0m\u001b[0;34m(\u001b[0m\u001b[0mserialization_cache\u001b[0m\u001b[0;34m)\u001b[0m\u001b[0;34m\u001b[0m\u001b[0;34m\u001b[0m\u001b[0m\n\u001b[0m\u001b[1;32m     88\u001b[0m \u001b[0;34m\u001b[0m\u001b[0m\n\u001b[1;32m     89\u001b[0m     \u001b[0;31m# The parent AutoTrackable class saves all user-defined tf.functions, and\u001b[0m\u001b[0;34m\u001b[0m\u001b[0;34m\u001b[0m\u001b[0;34m\u001b[0m\u001b[0m\n",
      "\u001b[0;32m/opt/conda/envs/gim_cv_gpu/lib/python3.8/site-packages/tensorflow/python/keras/saving/saved_model/layer_serialization.py\u001b[0m in \u001b[0;36mfunctions_to_serialize\u001b[0;34m(self, serialization_cache)\u001b[0m\n\u001b[1;32m     74\u001b[0m \u001b[0;34m\u001b[0m\u001b[0m\n\u001b[1;32m     75\u001b[0m   \u001b[0;32mdef\u001b[0m \u001b[0mfunctions_to_serialize\u001b[0m\u001b[0;34m(\u001b[0m\u001b[0mself\u001b[0m\u001b[0;34m,\u001b[0m \u001b[0mserialization_cache\u001b[0m\u001b[0;34m)\u001b[0m\u001b[0;34m:\u001b[0m\u001b[0;34m\u001b[0m\u001b[0;34m\u001b[0m\u001b[0m\n\u001b[0;32m---> 76\u001b[0;31m     return (self._get_serialized_attributes(\n\u001b[0m\u001b[1;32m     77\u001b[0m         serialization_cache).functions_to_serialize)\n\u001b[1;32m     78\u001b[0m \u001b[0;34m\u001b[0m\u001b[0m\n",
      "\u001b[0;32m/opt/conda/envs/gim_cv_gpu/lib/python3.8/site-packages/tensorflow/python/keras/saving/saved_model/layer_serialization.py\u001b[0m in \u001b[0;36m_get_serialized_attributes\u001b[0;34m(self, serialization_cache)\u001b[0m\n\u001b[1;32m     89\u001b[0m       \u001b[0;32mreturn\u001b[0m \u001b[0mserialized_attr\u001b[0m\u001b[0;34m\u001b[0m\u001b[0;34m\u001b[0m\u001b[0m\n\u001b[1;32m     90\u001b[0m \u001b[0;34m\u001b[0m\u001b[0m\n\u001b[0;32m---> 91\u001b[0;31m     object_dict, function_dict = self._get_serialized_attributes_internal(\n\u001b[0m\u001b[1;32m     92\u001b[0m         serialization_cache)\n\u001b[1;32m     93\u001b[0m \u001b[0;34m\u001b[0m\u001b[0m\n",
      "\u001b[0;32m/opt/conda/envs/gim_cv_gpu/lib/python3.8/site-packages/tensorflow/python/keras/saving/saved_model/model_serialization.py\u001b[0m in \u001b[0;36m_get_serialized_attributes_internal\u001b[0;34m(self, serialization_cache)\u001b[0m\n\u001b[1;32m     50\u001b[0m     \u001b[0;31m# the ones serialized by Layer.\u001b[0m\u001b[0;34m\u001b[0m\u001b[0;34m\u001b[0m\u001b[0;34m\u001b[0m\u001b[0m\n\u001b[1;32m     51\u001b[0m     objects, functions = (\n\u001b[0;32m---> 52\u001b[0;31m         super(ModelSavedModelSaver, self)._get_serialized_attributes_internal(\n\u001b[0m\u001b[1;32m     53\u001b[0m             serialization_cache))\n\u001b[1;32m     54\u001b[0m     \u001b[0mfunctions\u001b[0m\u001b[0;34m[\u001b[0m\u001b[0;34m'_default_save_signature'\u001b[0m\u001b[0;34m]\u001b[0m \u001b[0;34m=\u001b[0m \u001b[0mdefault_signature\u001b[0m\u001b[0;34m\u001b[0m\u001b[0;34m\u001b[0m\u001b[0m\n",
      "\u001b[0;32m/opt/conda/envs/gim_cv_gpu/lib/python3.8/site-packages/tensorflow/python/keras/saving/saved_model/layer_serialization.py\u001b[0m in \u001b[0;36m_get_serialized_attributes_internal\u001b[0;34m(self, serialization_cache)\u001b[0m\n\u001b[1;32m     99\u001b[0m     \u001b[0;34m\"\"\"Returns dictionary of serialized attributes.\"\"\"\u001b[0m\u001b[0;34m\u001b[0m\u001b[0;34m\u001b[0m\u001b[0m\n\u001b[1;32m    100\u001b[0m     \u001b[0mobjects\u001b[0m \u001b[0;34m=\u001b[0m \u001b[0msave_impl\u001b[0m\u001b[0;34m.\u001b[0m\u001b[0mwrap_layer_objects\u001b[0m\u001b[0;34m(\u001b[0m\u001b[0mself\u001b[0m\u001b[0;34m.\u001b[0m\u001b[0mobj\u001b[0m\u001b[0;34m,\u001b[0m \u001b[0mserialization_cache\u001b[0m\u001b[0;34m)\u001b[0m\u001b[0;34m\u001b[0m\u001b[0;34m\u001b[0m\u001b[0m\n\u001b[0;32m--> 101\u001b[0;31m     \u001b[0mfunctions\u001b[0m \u001b[0;34m=\u001b[0m \u001b[0msave_impl\u001b[0m\u001b[0;34m.\u001b[0m\u001b[0mwrap_layer_functions\u001b[0m\u001b[0;34m(\u001b[0m\u001b[0mself\u001b[0m\u001b[0;34m.\u001b[0m\u001b[0mobj\u001b[0m\u001b[0;34m,\u001b[0m \u001b[0mserialization_cache\u001b[0m\u001b[0;34m)\u001b[0m\u001b[0;34m\u001b[0m\u001b[0;34m\u001b[0m\u001b[0m\n\u001b[0m\u001b[1;32m    102\u001b[0m     \u001b[0;31m# Attribute validator requires that the default save signature is added to\u001b[0m\u001b[0;34m\u001b[0m\u001b[0;34m\u001b[0m\u001b[0;34m\u001b[0m\u001b[0m\n\u001b[1;32m    103\u001b[0m     \u001b[0;31m# function dict, even if the value is None.\u001b[0m\u001b[0;34m\u001b[0m\u001b[0;34m\u001b[0m\u001b[0;34m\u001b[0m\u001b[0m\n",
      "\u001b[0;32m/opt/conda/envs/gim_cv_gpu/lib/python3.8/site-packages/tensorflow/python/keras/saving/saved_model/save_impl.py\u001b[0m in \u001b[0;36mwrap_layer_functions\u001b[0;34m(layer, serialization_cache)\u001b[0m\n\u001b[1;32m    151\u001b[0m   \u001b[0;31m# Reset the losses of the layer and its children. The call function in each\u001b[0m\u001b[0;34m\u001b[0m\u001b[0;34m\u001b[0m\u001b[0;34m\u001b[0m\u001b[0m\n\u001b[1;32m    152\u001b[0m   \u001b[0;31m# child layer is replaced with tf.functions.\u001b[0m\u001b[0;34m\u001b[0m\u001b[0;34m\u001b[0m\u001b[0;34m\u001b[0m\u001b[0m\n\u001b[0;32m--> 153\u001b[0;31m   \u001b[0moriginal_fns\u001b[0m \u001b[0;34m=\u001b[0m \u001b[0m_replace_child_layer_functions\u001b[0m\u001b[0;34m(\u001b[0m\u001b[0mlayer\u001b[0m\u001b[0;34m,\u001b[0m \u001b[0mserialization_cache\u001b[0m\u001b[0;34m)\u001b[0m\u001b[0;34m\u001b[0m\u001b[0;34m\u001b[0m\u001b[0m\n\u001b[0m\u001b[1;32m    154\u001b[0m   \u001b[0moriginal_losses\u001b[0m \u001b[0;34m=\u001b[0m \u001b[0m_reset_layer_losses\u001b[0m\u001b[0;34m(\u001b[0m\u001b[0mlayer\u001b[0m\u001b[0;34m)\u001b[0m\u001b[0;34m\u001b[0m\u001b[0;34m\u001b[0m\u001b[0m\n\u001b[1;32m    155\u001b[0m \u001b[0;34m\u001b[0m\u001b[0m\n",
      "\u001b[0;32m/opt/conda/envs/gim_cv_gpu/lib/python3.8/site-packages/tensorflow/python/keras/saving/saved_model/save_impl.py\u001b[0m in \u001b[0;36m_replace_child_layer_functions\u001b[0;34m(layer, serialization_cache)\u001b[0m\n\u001b[1;32m    269\u001b[0m     \u001b[0;32mif\u001b[0m \u001b[0mchild_layer\u001b[0m \u001b[0;32mnot\u001b[0m \u001b[0;32min\u001b[0m \u001b[0mserialization_cache\u001b[0m\u001b[0;34m[\u001b[0m\u001b[0mconstants\u001b[0m\u001b[0;34m.\u001b[0m\u001b[0mKERAS_CACHE_KEY\u001b[0m\u001b[0;34m]\u001b[0m\u001b[0;34m:\u001b[0m\u001b[0;34m\u001b[0m\u001b[0;34m\u001b[0m\u001b[0m\n\u001b[1;32m    270\u001b[0m       serialized_functions = (\n\u001b[0;32m--> 271\u001b[0;31m           child_layer._trackable_saved_model_saver._get_serialized_attributes(\n\u001b[0m\u001b[1;32m    272\u001b[0m               serialization_cache).functions)\n\u001b[1;32m    273\u001b[0m     \u001b[0;32melse\u001b[0m\u001b[0;34m:\u001b[0m\u001b[0;34m\u001b[0m\u001b[0;34m\u001b[0m\u001b[0m\n",
      "\u001b[0;32m/opt/conda/envs/gim_cv_gpu/lib/python3.8/site-packages/tensorflow/python/keras/saving/saved_model/layer_serialization.py\u001b[0m in \u001b[0;36m_get_serialized_attributes\u001b[0;34m(self, serialization_cache)\u001b[0m\n\u001b[1;32m     89\u001b[0m       \u001b[0;32mreturn\u001b[0m \u001b[0mserialized_attr\u001b[0m\u001b[0;34m\u001b[0m\u001b[0;34m\u001b[0m\u001b[0m\n\u001b[1;32m     90\u001b[0m \u001b[0;34m\u001b[0m\u001b[0m\n\u001b[0;32m---> 91\u001b[0;31m     object_dict, function_dict = self._get_serialized_attributes_internal(\n\u001b[0m\u001b[1;32m     92\u001b[0m         serialization_cache)\n\u001b[1;32m     93\u001b[0m \u001b[0;34m\u001b[0m\u001b[0m\n",
      "\u001b[0;32m/opt/conda/envs/gim_cv_gpu/lib/python3.8/site-packages/tensorflow/python/keras/saving/saved_model/model_serialization.py\u001b[0m in \u001b[0;36m_get_serialized_attributes_internal\u001b[0;34m(self, serialization_cache)\u001b[0m\n\u001b[1;32m     50\u001b[0m     \u001b[0;31m# the ones serialized by Layer.\u001b[0m\u001b[0;34m\u001b[0m\u001b[0;34m\u001b[0m\u001b[0;34m\u001b[0m\u001b[0m\n\u001b[1;32m     51\u001b[0m     objects, functions = (\n\u001b[0;32m---> 52\u001b[0;31m         super(ModelSavedModelSaver, self)._get_serialized_attributes_internal(\n\u001b[0m\u001b[1;32m     53\u001b[0m             serialization_cache))\n\u001b[1;32m     54\u001b[0m     \u001b[0mfunctions\u001b[0m\u001b[0;34m[\u001b[0m\u001b[0;34m'_default_save_signature'\u001b[0m\u001b[0;34m]\u001b[0m \u001b[0;34m=\u001b[0m \u001b[0mdefault_signature\u001b[0m\u001b[0;34m\u001b[0m\u001b[0;34m\u001b[0m\u001b[0m\n",
      "\u001b[0;32m/opt/conda/envs/gim_cv_gpu/lib/python3.8/site-packages/tensorflow/python/keras/saving/saved_model/layer_serialization.py\u001b[0m in \u001b[0;36m_get_serialized_attributes_internal\u001b[0;34m(self, serialization_cache)\u001b[0m\n\u001b[1;32m     99\u001b[0m     \u001b[0;34m\"\"\"Returns dictionary of serialized attributes.\"\"\"\u001b[0m\u001b[0;34m\u001b[0m\u001b[0;34m\u001b[0m\u001b[0m\n\u001b[1;32m    100\u001b[0m     \u001b[0mobjects\u001b[0m \u001b[0;34m=\u001b[0m \u001b[0msave_impl\u001b[0m\u001b[0;34m.\u001b[0m\u001b[0mwrap_layer_objects\u001b[0m\u001b[0;34m(\u001b[0m\u001b[0mself\u001b[0m\u001b[0;34m.\u001b[0m\u001b[0mobj\u001b[0m\u001b[0;34m,\u001b[0m \u001b[0mserialization_cache\u001b[0m\u001b[0;34m)\u001b[0m\u001b[0;34m\u001b[0m\u001b[0;34m\u001b[0m\u001b[0m\n\u001b[0;32m--> 101\u001b[0;31m     \u001b[0mfunctions\u001b[0m \u001b[0;34m=\u001b[0m \u001b[0msave_impl\u001b[0m\u001b[0;34m.\u001b[0m\u001b[0mwrap_layer_functions\u001b[0m\u001b[0;34m(\u001b[0m\u001b[0mself\u001b[0m\u001b[0;34m.\u001b[0m\u001b[0mobj\u001b[0m\u001b[0;34m,\u001b[0m \u001b[0mserialization_cache\u001b[0m\u001b[0;34m)\u001b[0m\u001b[0;34m\u001b[0m\u001b[0;34m\u001b[0m\u001b[0m\n\u001b[0m\u001b[1;32m    102\u001b[0m     \u001b[0;31m# Attribute validator requires that the default save signature is added to\u001b[0m\u001b[0;34m\u001b[0m\u001b[0;34m\u001b[0m\u001b[0;34m\u001b[0m\u001b[0m\n\u001b[1;32m    103\u001b[0m     \u001b[0;31m# function dict, even if the value is None.\u001b[0m\u001b[0;34m\u001b[0m\u001b[0;34m\u001b[0m\u001b[0;34m\u001b[0m\u001b[0m\n",
      "\u001b[0;32m/opt/conda/envs/gim_cv_gpu/lib/python3.8/site-packages/tensorflow/python/keras/saving/saved_model/save_impl.py\u001b[0m in \u001b[0;36mwrap_layer_functions\u001b[0;34m(layer, serialization_cache)\u001b[0m\n\u001b[1;32m    159\u001b[0m   \u001b[0;31m# call with losses) are traced with the same inputs.\u001b[0m\u001b[0;34m\u001b[0m\u001b[0;34m\u001b[0m\u001b[0;34m\u001b[0m\u001b[0m\n\u001b[1;32m    160\u001b[0m   \u001b[0mcall_collection\u001b[0m \u001b[0;34m=\u001b[0m \u001b[0mLayerCallCollection\u001b[0m\u001b[0;34m(\u001b[0m\u001b[0mlayer\u001b[0m\u001b[0;34m)\u001b[0m\u001b[0;34m\u001b[0m\u001b[0;34m\u001b[0m\u001b[0m\n\u001b[0;32m--> 161\u001b[0;31m   call_fn_with_losses = call_collection.add_function(\n\u001b[0m\u001b[1;32m    162\u001b[0m       \u001b[0m_wrap_call_and_conditional_losses\u001b[0m\u001b[0;34m(\u001b[0m\u001b[0mlayer\u001b[0m\u001b[0;34m)\u001b[0m\u001b[0;34m,\u001b[0m\u001b[0;34m\u001b[0m\u001b[0;34m\u001b[0m\u001b[0m\n\u001b[1;32m    163\u001b[0m       '{}_layer_call_and_return_conditional_losses'.format(layer.name))\n",
      "\u001b[0;32m/opt/conda/envs/gim_cv_gpu/lib/python3.8/site-packages/tensorflow/python/keras/saving/saved_model/save_impl.py\u001b[0m in \u001b[0;36madd_function\u001b[0;34m(self, call_fn, name)\u001b[0m\n\u001b[1;32m    501\u001b[0m       \u001b[0;31m# Manually add traces for layers that have keyword arguments and have\u001b[0m\u001b[0;34m\u001b[0m\u001b[0;34m\u001b[0m\u001b[0;34m\u001b[0m\u001b[0m\n\u001b[1;32m    502\u001b[0m       \u001b[0;31m# a fully defined input signature.\u001b[0m\u001b[0;34m\u001b[0m\u001b[0;34m\u001b[0m\u001b[0;34m\u001b[0m\u001b[0m\n\u001b[0;32m--> 503\u001b[0;31m       \u001b[0mself\u001b[0m\u001b[0;34m.\u001b[0m\u001b[0madd_trace\u001b[0m\u001b[0;34m(\u001b[0m\u001b[0;34m*\u001b[0m\u001b[0mself\u001b[0m\u001b[0;34m.\u001b[0m\u001b[0m_input_signature\u001b[0m\u001b[0;34m)\u001b[0m\u001b[0;34m\u001b[0m\u001b[0;34m\u001b[0m\u001b[0m\n\u001b[0m\u001b[1;32m    504\u001b[0m     \u001b[0;32mreturn\u001b[0m \u001b[0mfn\u001b[0m\u001b[0;34m\u001b[0m\u001b[0;34m\u001b[0m\u001b[0m\n\u001b[1;32m    505\u001b[0m \u001b[0;34m\u001b[0m\u001b[0m\n",
      "\u001b[0;32m/opt/conda/envs/gim_cv_gpu/lib/python3.8/site-packages/tensorflow/python/keras/saving/saved_model/save_impl.py\u001b[0m in \u001b[0;36madd_trace\u001b[0;34m(self, *args, **kwargs)\u001b[0m\n\u001b[1;32m    416\u001b[0m             \u001b[0mfn\u001b[0m\u001b[0;34m.\u001b[0m\u001b[0mget_concrete_function\u001b[0m\u001b[0;34m(\u001b[0m\u001b[0;34m*\u001b[0m\u001b[0margs\u001b[0m\u001b[0;34m,\u001b[0m \u001b[0;34m**\u001b[0m\u001b[0mkwargs\u001b[0m\u001b[0;34m)\u001b[0m\u001b[0;34m\u001b[0m\u001b[0;34m\u001b[0m\u001b[0m\n\u001b[1;32m    417\u001b[0m \u001b[0;34m\u001b[0m\u001b[0m\n\u001b[0;32m--> 418\u001b[0;31m         \u001b[0mtrace_with_training\u001b[0m\u001b[0;34m(\u001b[0m\u001b[0;32mTrue\u001b[0m\u001b[0;34m)\u001b[0m\u001b[0;34m\u001b[0m\u001b[0;34m\u001b[0m\u001b[0m\n\u001b[0m\u001b[1;32m    419\u001b[0m         \u001b[0mtrace_with_training\u001b[0m\u001b[0;34m(\u001b[0m\u001b[0;32mFalse\u001b[0m\u001b[0;34m)\u001b[0m\u001b[0;34m\u001b[0m\u001b[0;34m\u001b[0m\u001b[0m\n\u001b[1;32m    420\u001b[0m       \u001b[0;32melse\u001b[0m\u001b[0;34m:\u001b[0m\u001b[0;34m\u001b[0m\u001b[0;34m\u001b[0m\u001b[0m\n",
      "\u001b[0;32m/opt/conda/envs/gim_cv_gpu/lib/python3.8/site-packages/tensorflow/python/keras/saving/saved_model/save_impl.py\u001b[0m in \u001b[0;36mtrace_with_training\u001b[0;34m(value, fn)\u001b[0m\n\u001b[1;32m    414\u001b[0m           \u001b[0mutils\u001b[0m\u001b[0;34m.\u001b[0m\u001b[0mset_training_arg\u001b[0m\u001b[0;34m(\u001b[0m\u001b[0mvalue\u001b[0m\u001b[0;34m,\u001b[0m \u001b[0mself\u001b[0m\u001b[0;34m.\u001b[0m\u001b[0m_training_arg_index\u001b[0m\u001b[0;34m,\u001b[0m \u001b[0margs\u001b[0m\u001b[0;34m,\u001b[0m \u001b[0mkwargs\u001b[0m\u001b[0;34m)\u001b[0m\u001b[0;34m\u001b[0m\u001b[0;34m\u001b[0m\u001b[0m\n\u001b[1;32m    415\u001b[0m           \u001b[0;32mwith\u001b[0m \u001b[0mK\u001b[0m\u001b[0;34m.\u001b[0m\u001b[0mlearning_phase_scope\u001b[0m\u001b[0;34m(\u001b[0m\u001b[0mvalue\u001b[0m\u001b[0;34m)\u001b[0m\u001b[0;34m:\u001b[0m\u001b[0;34m\u001b[0m\u001b[0;34m\u001b[0m\u001b[0m\n\u001b[0;32m--> 416\u001b[0;31m             \u001b[0mfn\u001b[0m\u001b[0;34m.\u001b[0m\u001b[0mget_concrete_function\u001b[0m\u001b[0;34m(\u001b[0m\u001b[0;34m*\u001b[0m\u001b[0margs\u001b[0m\u001b[0;34m,\u001b[0m \u001b[0;34m**\u001b[0m\u001b[0mkwargs\u001b[0m\u001b[0;34m)\u001b[0m\u001b[0;34m\u001b[0m\u001b[0;34m\u001b[0m\u001b[0m\n\u001b[0m\u001b[1;32m    417\u001b[0m \u001b[0;34m\u001b[0m\u001b[0m\n\u001b[1;32m    418\u001b[0m         \u001b[0mtrace_with_training\u001b[0m\u001b[0;34m(\u001b[0m\u001b[0;32mTrue\u001b[0m\u001b[0;34m)\u001b[0m\u001b[0;34m\u001b[0m\u001b[0;34m\u001b[0m\u001b[0m\n",
      "\u001b[0;32m/opt/conda/envs/gim_cv_gpu/lib/python3.8/site-packages/tensorflow/python/keras/saving/saved_model/save_impl.py\u001b[0m in \u001b[0;36mget_concrete_function\u001b[0;34m(self, *args, **kwargs)\u001b[0m\n\u001b[1;32m    545\u001b[0m     \u001b[0;32mif\u001b[0m \u001b[0;32mnot\u001b[0m \u001b[0mself\u001b[0m\u001b[0;34m.\u001b[0m\u001b[0mcall_collection\u001b[0m\u001b[0;34m.\u001b[0m\u001b[0mtracing\u001b[0m\u001b[0;34m:\u001b[0m\u001b[0;34m\u001b[0m\u001b[0;34m\u001b[0m\u001b[0m\n\u001b[1;32m    546\u001b[0m       \u001b[0mself\u001b[0m\u001b[0;34m.\u001b[0m\u001b[0mcall_collection\u001b[0m\u001b[0;34m.\u001b[0m\u001b[0madd_trace\u001b[0m\u001b[0;34m(\u001b[0m\u001b[0;34m*\u001b[0m\u001b[0margs\u001b[0m\u001b[0;34m,\u001b[0m \u001b[0;34m**\u001b[0m\u001b[0mkwargs\u001b[0m\u001b[0;34m)\u001b[0m\u001b[0;34m\u001b[0m\u001b[0;34m\u001b[0m\u001b[0m\n\u001b[0;32m--> 547\u001b[0;31m     \u001b[0;32mreturn\u001b[0m \u001b[0msuper\u001b[0m\u001b[0;34m(\u001b[0m\u001b[0mLayerCall\u001b[0m\u001b[0;34m,\u001b[0m \u001b[0mself\u001b[0m\u001b[0;34m)\u001b[0m\u001b[0;34m.\u001b[0m\u001b[0mget_concrete_function\u001b[0m\u001b[0;34m(\u001b[0m\u001b[0;34m*\u001b[0m\u001b[0margs\u001b[0m\u001b[0;34m,\u001b[0m \u001b[0;34m**\u001b[0m\u001b[0mkwargs\u001b[0m\u001b[0;34m)\u001b[0m\u001b[0;34m\u001b[0m\u001b[0;34m\u001b[0m\u001b[0m\n\u001b[0m\u001b[1;32m    548\u001b[0m \u001b[0;34m\u001b[0m\u001b[0m\n\u001b[1;32m    549\u001b[0m \u001b[0;34m\u001b[0m\u001b[0m\n",
      "\u001b[0;32m/opt/conda/envs/gim_cv_gpu/lib/python3.8/site-packages/tensorflow/python/eager/def_function.py\u001b[0m in \u001b[0;36mget_concrete_function\u001b[0;34m(self, *args, **kwargs)\u001b[0m\n\u001b[1;32m    957\u001b[0m       \u001b[0mValueError\u001b[0m\u001b[0;34m:\u001b[0m \u001b[0;32mif\u001b[0m \u001b[0mthis\u001b[0m \u001b[0mobject\u001b[0m \u001b[0mhas\u001b[0m \u001b[0;32mnot\u001b[0m \u001b[0myet\u001b[0m \u001b[0mbeen\u001b[0m \u001b[0mcalled\u001b[0m \u001b[0mon\u001b[0m \u001b[0mconcrete\u001b[0m \u001b[0mvalues\u001b[0m\u001b[0;34m.\u001b[0m\u001b[0;34m\u001b[0m\u001b[0;34m\u001b[0m\u001b[0m\n\u001b[1;32m    958\u001b[0m     \"\"\"\n\u001b[0;32m--> 959\u001b[0;31m     \u001b[0mconcrete\u001b[0m \u001b[0;34m=\u001b[0m \u001b[0mself\u001b[0m\u001b[0;34m.\u001b[0m\u001b[0m_get_concrete_function_garbage_collected\u001b[0m\u001b[0;34m(\u001b[0m\u001b[0;34m*\u001b[0m\u001b[0margs\u001b[0m\u001b[0;34m,\u001b[0m \u001b[0;34m**\u001b[0m\u001b[0mkwargs\u001b[0m\u001b[0;34m)\u001b[0m\u001b[0;34m\u001b[0m\u001b[0;34m\u001b[0m\u001b[0m\n\u001b[0m\u001b[1;32m    960\u001b[0m     \u001b[0mconcrete\u001b[0m\u001b[0;34m.\u001b[0m\u001b[0m_garbage_collector\u001b[0m\u001b[0;34m.\u001b[0m\u001b[0mrelease\u001b[0m\u001b[0;34m(\u001b[0m\u001b[0;34m)\u001b[0m  \u001b[0;31m# pylint: disable=protected-access\u001b[0m\u001b[0;34m\u001b[0m\u001b[0;34m\u001b[0m\u001b[0m\n\u001b[1;32m    961\u001b[0m     \u001b[0;32mreturn\u001b[0m \u001b[0mconcrete\u001b[0m\u001b[0;34m\u001b[0m\u001b[0;34m\u001b[0m\u001b[0m\n",
      "\u001b[0;32m/opt/conda/envs/gim_cv_gpu/lib/python3.8/site-packages/tensorflow/python/eager/def_function.py\u001b[0m in \u001b[0;36m_get_concrete_function_garbage_collected\u001b[0;34m(self, *args, **kwargs)\u001b[0m\n\u001b[1;32m    863\u001b[0m       \u001b[0;32mif\u001b[0m \u001b[0mself\u001b[0m\u001b[0;34m.\u001b[0m\u001b[0m_stateful_fn\u001b[0m \u001b[0;32mis\u001b[0m \u001b[0;32mNone\u001b[0m\u001b[0;34m:\u001b[0m\u001b[0;34m\u001b[0m\u001b[0;34m\u001b[0m\u001b[0m\n\u001b[1;32m    864\u001b[0m         \u001b[0minitializers\u001b[0m \u001b[0;34m=\u001b[0m \u001b[0;34m[\u001b[0m\u001b[0;34m]\u001b[0m\u001b[0;34m\u001b[0m\u001b[0;34m\u001b[0m\u001b[0m\n\u001b[0;32m--> 865\u001b[0;31m         \u001b[0mself\u001b[0m\u001b[0;34m.\u001b[0m\u001b[0m_initialize\u001b[0m\u001b[0;34m(\u001b[0m\u001b[0margs\u001b[0m\u001b[0;34m,\u001b[0m \u001b[0mkwargs\u001b[0m\u001b[0;34m,\u001b[0m \u001b[0madd_initializers_to\u001b[0m\u001b[0;34m=\u001b[0m\u001b[0minitializers\u001b[0m\u001b[0;34m)\u001b[0m\u001b[0;34m\u001b[0m\u001b[0;34m\u001b[0m\u001b[0m\n\u001b[0m\u001b[1;32m    866\u001b[0m         \u001b[0mself\u001b[0m\u001b[0;34m.\u001b[0m\u001b[0m_initialize_uninitialized_variables\u001b[0m\u001b[0;34m(\u001b[0m\u001b[0minitializers\u001b[0m\u001b[0;34m)\u001b[0m\u001b[0;34m\u001b[0m\u001b[0;34m\u001b[0m\u001b[0m\n\u001b[1;32m    867\u001b[0m \u001b[0;34m\u001b[0m\u001b[0m\n",
      "\u001b[0;32m/opt/conda/envs/gim_cv_gpu/lib/python3.8/site-packages/tensorflow/python/eager/def_function.py\u001b[0m in \u001b[0;36m_initialize\u001b[0;34m(self, args, kwds, add_initializers_to)\u001b[0m\n\u001b[1;32m    503\u001b[0m     \u001b[0mself\u001b[0m\u001b[0;34m.\u001b[0m\u001b[0m_graph_deleter\u001b[0m \u001b[0;34m=\u001b[0m \u001b[0mFunctionDeleter\u001b[0m\u001b[0;34m(\u001b[0m\u001b[0mself\u001b[0m\u001b[0;34m.\u001b[0m\u001b[0m_lifted_initializer_graph\u001b[0m\u001b[0;34m)\u001b[0m\u001b[0;34m\u001b[0m\u001b[0;34m\u001b[0m\u001b[0m\n\u001b[1;32m    504\u001b[0m     self._concrete_stateful_fn = (\n\u001b[0;32m--> 505\u001b[0;31m         self._stateful_fn._get_concrete_function_internal_garbage_collected(  # pylint: disable=protected-access\n\u001b[0m\u001b[1;32m    506\u001b[0m             *args, **kwds))\n\u001b[1;32m    507\u001b[0m \u001b[0;34m\u001b[0m\u001b[0m\n",
      "\u001b[0;32m/opt/conda/envs/gim_cv_gpu/lib/python3.8/site-packages/tensorflow/python/eager/function.py\u001b[0m in \u001b[0;36m_get_concrete_function_internal_garbage_collected\u001b[0;34m(self, *args, **kwargs)\u001b[0m\n\u001b[1;32m   2444\u001b[0m       \u001b[0margs\u001b[0m\u001b[0;34m,\u001b[0m \u001b[0mkwargs\u001b[0m \u001b[0;34m=\u001b[0m \u001b[0;32mNone\u001b[0m\u001b[0;34m,\u001b[0m \u001b[0;32mNone\u001b[0m\u001b[0;34m\u001b[0m\u001b[0;34m\u001b[0m\u001b[0m\n\u001b[1;32m   2445\u001b[0m     \u001b[0;32mwith\u001b[0m \u001b[0mself\u001b[0m\u001b[0;34m.\u001b[0m\u001b[0m_lock\u001b[0m\u001b[0;34m:\u001b[0m\u001b[0;34m\u001b[0m\u001b[0;34m\u001b[0m\u001b[0m\n\u001b[0;32m-> 2446\u001b[0;31m       \u001b[0mgraph_function\u001b[0m\u001b[0;34m,\u001b[0m \u001b[0m_\u001b[0m\u001b[0;34m,\u001b[0m \u001b[0m_\u001b[0m \u001b[0;34m=\u001b[0m \u001b[0mself\u001b[0m\u001b[0;34m.\u001b[0m\u001b[0m_maybe_define_function\u001b[0m\u001b[0;34m(\u001b[0m\u001b[0margs\u001b[0m\u001b[0;34m,\u001b[0m \u001b[0mkwargs\u001b[0m\u001b[0;34m)\u001b[0m\u001b[0;34m\u001b[0m\u001b[0;34m\u001b[0m\u001b[0m\n\u001b[0m\u001b[1;32m   2447\u001b[0m     \u001b[0;32mreturn\u001b[0m \u001b[0mgraph_function\u001b[0m\u001b[0;34m\u001b[0m\u001b[0;34m\u001b[0m\u001b[0m\n\u001b[1;32m   2448\u001b[0m \u001b[0;34m\u001b[0m\u001b[0m\n",
      "\u001b[0;32m/opt/conda/envs/gim_cv_gpu/lib/python3.8/site-packages/tensorflow/python/eager/function.py\u001b[0m in \u001b[0;36m_maybe_define_function\u001b[0;34m(self, args, kwargs)\u001b[0m\n\u001b[1;32m   2775\u001b[0m \u001b[0;34m\u001b[0m\u001b[0m\n\u001b[1;32m   2776\u001b[0m       \u001b[0mself\u001b[0m\u001b[0;34m.\u001b[0m\u001b[0m_function_cache\u001b[0m\u001b[0;34m.\u001b[0m\u001b[0mmissed\u001b[0m\u001b[0;34m.\u001b[0m\u001b[0madd\u001b[0m\u001b[0;34m(\u001b[0m\u001b[0mcall_context_key\u001b[0m\u001b[0;34m)\u001b[0m\u001b[0;34m\u001b[0m\u001b[0;34m\u001b[0m\u001b[0m\n\u001b[0;32m-> 2777\u001b[0;31m       \u001b[0mgraph_function\u001b[0m \u001b[0;34m=\u001b[0m \u001b[0mself\u001b[0m\u001b[0;34m.\u001b[0m\u001b[0m_create_graph_function\u001b[0m\u001b[0;34m(\u001b[0m\u001b[0margs\u001b[0m\u001b[0;34m,\u001b[0m \u001b[0mkwargs\u001b[0m\u001b[0;34m)\u001b[0m\u001b[0;34m\u001b[0m\u001b[0;34m\u001b[0m\u001b[0m\n\u001b[0m\u001b[1;32m   2778\u001b[0m       \u001b[0mself\u001b[0m\u001b[0;34m.\u001b[0m\u001b[0m_function_cache\u001b[0m\u001b[0;34m.\u001b[0m\u001b[0mprimary\u001b[0m\u001b[0;34m[\u001b[0m\u001b[0mcache_key\u001b[0m\u001b[0;34m]\u001b[0m \u001b[0;34m=\u001b[0m \u001b[0mgraph_function\u001b[0m\u001b[0;34m\u001b[0m\u001b[0;34m\u001b[0m\u001b[0m\n\u001b[1;32m   2779\u001b[0m       \u001b[0;32mreturn\u001b[0m \u001b[0mgraph_function\u001b[0m\u001b[0;34m,\u001b[0m \u001b[0margs\u001b[0m\u001b[0;34m,\u001b[0m \u001b[0mkwargs\u001b[0m\u001b[0;34m\u001b[0m\u001b[0;34m\u001b[0m\u001b[0m\n",
      "\u001b[0;32m/opt/conda/envs/gim_cv_gpu/lib/python3.8/site-packages/tensorflow/python/eager/function.py\u001b[0m in \u001b[0;36m_create_graph_function\u001b[0;34m(self, args, kwargs, override_flat_arg_shapes)\u001b[0m\n\u001b[1;32m   2655\u001b[0m     \u001b[0marg_names\u001b[0m \u001b[0;34m=\u001b[0m \u001b[0mbase_arg_names\u001b[0m \u001b[0;34m+\u001b[0m \u001b[0mmissing_arg_names\u001b[0m\u001b[0;34m\u001b[0m\u001b[0;34m\u001b[0m\u001b[0m\n\u001b[1;32m   2656\u001b[0m     graph_function = ConcreteFunction(\n\u001b[0;32m-> 2657\u001b[0;31m         func_graph_module.func_graph_from_py_func(\n\u001b[0m\u001b[1;32m   2658\u001b[0m             \u001b[0mself\u001b[0m\u001b[0;34m.\u001b[0m\u001b[0m_name\u001b[0m\u001b[0;34m,\u001b[0m\u001b[0;34m\u001b[0m\u001b[0;34m\u001b[0m\u001b[0m\n\u001b[1;32m   2659\u001b[0m             \u001b[0mself\u001b[0m\u001b[0;34m.\u001b[0m\u001b[0m_python_function\u001b[0m\u001b[0;34m,\u001b[0m\u001b[0;34m\u001b[0m\u001b[0;34m\u001b[0m\u001b[0m\n",
      "\u001b[0;32m/opt/conda/envs/gim_cv_gpu/lib/python3.8/site-packages/tensorflow/python/framework/func_graph.py\u001b[0m in \u001b[0;36mfunc_graph_from_py_func\u001b[0;34m(name, python_func, args, kwargs, signature, func_graph, autograph, autograph_options, add_control_dependencies, arg_names, op_return_value, collections, capture_by_value, override_flat_arg_shapes)\u001b[0m\n\u001b[1;32m    979\u001b[0m         \u001b[0m_\u001b[0m\u001b[0;34m,\u001b[0m \u001b[0moriginal_func\u001b[0m \u001b[0;34m=\u001b[0m \u001b[0mtf_decorator\u001b[0m\u001b[0;34m.\u001b[0m\u001b[0munwrap\u001b[0m\u001b[0;34m(\u001b[0m\u001b[0mpython_func\u001b[0m\u001b[0;34m)\u001b[0m\u001b[0;34m\u001b[0m\u001b[0;34m\u001b[0m\u001b[0m\n\u001b[1;32m    980\u001b[0m \u001b[0;34m\u001b[0m\u001b[0m\n\u001b[0;32m--> 981\u001b[0;31m       \u001b[0mfunc_outputs\u001b[0m \u001b[0;34m=\u001b[0m \u001b[0mpython_func\u001b[0m\u001b[0;34m(\u001b[0m\u001b[0;34m*\u001b[0m\u001b[0mfunc_args\u001b[0m\u001b[0;34m,\u001b[0m \u001b[0;34m**\u001b[0m\u001b[0mfunc_kwargs\u001b[0m\u001b[0;34m)\u001b[0m\u001b[0;34m\u001b[0m\u001b[0;34m\u001b[0m\u001b[0m\n\u001b[0m\u001b[1;32m    982\u001b[0m \u001b[0;34m\u001b[0m\u001b[0m\n\u001b[1;32m    983\u001b[0m       \u001b[0;31m# invariant: `func_outputs` contains only Tensors, CompositeTensors,\u001b[0m\u001b[0;34m\u001b[0m\u001b[0;34m\u001b[0m\u001b[0;34m\u001b[0m\u001b[0m\n",
      "\u001b[0;32m/opt/conda/envs/gim_cv_gpu/lib/python3.8/site-packages/tensorflow/python/eager/def_function.py\u001b[0m in \u001b[0;36mwrapped_fn\u001b[0;34m(*args, **kwds)\u001b[0m\n\u001b[1;32m    439\u001b[0m         \u001b[0;31m# __wrapped__ allows AutoGraph to swap in a converted function. We give\u001b[0m\u001b[0;34m\u001b[0m\u001b[0;34m\u001b[0m\u001b[0;34m\u001b[0m\u001b[0m\n\u001b[1;32m    440\u001b[0m         \u001b[0;31m# the function a weak reference to itself to avoid a reference cycle.\u001b[0m\u001b[0;34m\u001b[0m\u001b[0;34m\u001b[0m\u001b[0;34m\u001b[0m\u001b[0m\n\u001b[0;32m--> 441\u001b[0;31m         \u001b[0;32mreturn\u001b[0m \u001b[0mweak_wrapped_fn\u001b[0m\u001b[0;34m(\u001b[0m\u001b[0;34m)\u001b[0m\u001b[0;34m.\u001b[0m\u001b[0m__wrapped__\u001b[0m\u001b[0;34m(\u001b[0m\u001b[0;34m*\u001b[0m\u001b[0margs\u001b[0m\u001b[0;34m,\u001b[0m \u001b[0;34m**\u001b[0m\u001b[0mkwds\u001b[0m\u001b[0;34m)\u001b[0m\u001b[0;34m\u001b[0m\u001b[0;34m\u001b[0m\u001b[0m\n\u001b[0m\u001b[1;32m    442\u001b[0m     \u001b[0mweak_wrapped_fn\u001b[0m \u001b[0;34m=\u001b[0m \u001b[0mweakref\u001b[0m\u001b[0;34m.\u001b[0m\u001b[0mref\u001b[0m\u001b[0;34m(\u001b[0m\u001b[0mwrapped_fn\u001b[0m\u001b[0;34m)\u001b[0m\u001b[0;34m\u001b[0m\u001b[0;34m\u001b[0m\u001b[0m\n\u001b[1;32m    443\u001b[0m \u001b[0;34m\u001b[0m\u001b[0m\n",
      "\u001b[0;32m/opt/conda/envs/gim_cv_gpu/lib/python3.8/site-packages/tensorflow/python/keras/saving/saved_model/save_impl.py\u001b[0m in \u001b[0;36mwrapper\u001b[0;34m(*args, **kwargs)\u001b[0m\n\u001b[1;32m    511\u001b[0m     \u001b[0mlayer\u001b[0m \u001b[0;34m=\u001b[0m \u001b[0mcall_collection\u001b[0m\u001b[0;34m.\u001b[0m\u001b[0mlayer\u001b[0m\u001b[0;34m\u001b[0m\u001b[0;34m\u001b[0m\u001b[0m\n\u001b[1;32m    512\u001b[0m     \u001b[0mtraining\u001b[0m \u001b[0;34m=\u001b[0m \u001b[0;32mNone\u001b[0m\u001b[0;34m\u001b[0m\u001b[0;34m\u001b[0m\u001b[0m\n\u001b[0;32m--> 513\u001b[0;31m     \u001b[0minputs\u001b[0m \u001b[0;34m=\u001b[0m \u001b[0mcall_collection\u001b[0m\u001b[0;34m.\u001b[0m\u001b[0mget_input_arg_value\u001b[0m\u001b[0;34m(\u001b[0m\u001b[0margs\u001b[0m\u001b[0;34m,\u001b[0m \u001b[0mkwargs\u001b[0m\u001b[0;34m)\u001b[0m\u001b[0;34m\u001b[0m\u001b[0;34m\u001b[0m\u001b[0m\n\u001b[0m\u001b[1;32m    514\u001b[0m     \u001b[0;31m# pylint: disable=protected-access\u001b[0m\u001b[0;34m\u001b[0m\u001b[0;34m\u001b[0m\u001b[0;34m\u001b[0m\u001b[0m\n\u001b[1;32m    515\u001b[0m     if (args or kwargs) and call_collection.training_arg_was_passed(\n",
      "\u001b[0;32m/opt/conda/envs/gim_cv_gpu/lib/python3.8/site-packages/tensorflow/python/keras/saving/saved_model/save_impl.py\u001b[0m in \u001b[0;36mget_input_arg_value\u001b[0;34m(self, args, kwargs)\u001b[0m\n\u001b[1;32m    450\u001b[0m \u001b[0;34m\u001b[0m\u001b[0m\n\u001b[1;32m    451\u001b[0m   \u001b[0;32mdef\u001b[0m \u001b[0mget_input_arg_value\u001b[0m\u001b[0;34m(\u001b[0m\u001b[0mself\u001b[0m\u001b[0;34m,\u001b[0m \u001b[0margs\u001b[0m\u001b[0;34m,\u001b[0m \u001b[0mkwargs\u001b[0m\u001b[0;34m)\u001b[0m\u001b[0;34m:\u001b[0m\u001b[0;34m\u001b[0m\u001b[0;34m\u001b[0m\u001b[0m\n\u001b[0;32m--> 452\u001b[0;31m     return self.layer._get_call_arg_value(  # pylint: disable=protected-access\n\u001b[0m\u001b[1;32m    453\u001b[0m         self._input_arg_name, args, kwargs, inputs_in_args=True)\n\u001b[1;32m    454\u001b[0m \u001b[0;34m\u001b[0m\u001b[0m\n",
      "\u001b[0;32m/opt/conda/envs/gim_cv_gpu/lib/python3.8/site-packages/tensorflow/python/keras/engine/base_layer.py\u001b[0m in \u001b[0;36m_get_call_arg_value\u001b[0;34m(self, arg_name, args, kwargs, inputs_in_args)\u001b[0m\n\u001b[1;32m   2289\u001b[0m       \u001b[0mcall_fn_args\u001b[0m \u001b[0;34m=\u001b[0m \u001b[0mcall_fn_args\u001b[0m\u001b[0;34m[\u001b[0m\u001b[0;36m1\u001b[0m\u001b[0;34m:\u001b[0m\u001b[0;34m]\u001b[0m\u001b[0;34m\u001b[0m\u001b[0;34m\u001b[0m\u001b[0m\n\u001b[1;32m   2290\u001b[0m     \u001b[0margs_dict\u001b[0m \u001b[0;34m=\u001b[0m \u001b[0mdict\u001b[0m\u001b[0;34m(\u001b[0m\u001b[0mzip\u001b[0m\u001b[0;34m(\u001b[0m\u001b[0mcall_fn_args\u001b[0m\u001b[0;34m,\u001b[0m \u001b[0margs\u001b[0m\u001b[0;34m)\u001b[0m\u001b[0;34m)\u001b[0m\u001b[0;34m\u001b[0m\u001b[0;34m\u001b[0m\u001b[0m\n\u001b[0;32m-> 2291\u001b[0;31m     \u001b[0;32mreturn\u001b[0m \u001b[0margs_dict\u001b[0m\u001b[0;34m[\u001b[0m\u001b[0marg_name\u001b[0m\u001b[0;34m]\u001b[0m\u001b[0;34m\u001b[0m\u001b[0;34m\u001b[0m\u001b[0m\n\u001b[0m\u001b[1;32m   2292\u001b[0m \u001b[0;34m\u001b[0m\u001b[0m\n\u001b[1;32m   2293\u001b[0m   \u001b[0;32mdef\u001b[0m \u001b[0m_set_connectivity_metadata_\u001b[0m\u001b[0;34m(\u001b[0m\u001b[0mself\u001b[0m\u001b[0;34m,\u001b[0m \u001b[0minputs\u001b[0m\u001b[0;34m,\u001b[0m \u001b[0moutputs\u001b[0m\u001b[0;34m,\u001b[0m \u001b[0margs\u001b[0m\u001b[0;34m,\u001b[0m \u001b[0mkwargs\u001b[0m\u001b[0;34m)\u001b[0m\u001b[0;34m:\u001b[0m\u001b[0;34m\u001b[0m\u001b[0;34m\u001b[0m\u001b[0m\n",
      "\u001b[0;31mKeyError\u001b[0m: 'self'"
     ]
    }
   ],
   "source": [
    "# model.save('my_model.h5')\n",
    "\n",
    "model.save('mymodel')"
   ]
  },
  {
   "cell_type": "code",
   "execution_count": null,
   "metadata": {},
   "outputs": [],
   "source": [
    "# checkpoint_path = \"/home/root/saved_models/Segmentalist_3b57e05b-c523-4669-ae87-808695235f73/cp-e06-ji1.52000-l-0.20043-vl0.00.ckpt\"\n",
    "# checkpoint_dir = '/home/root/saved_models/Segmentalist_3b57e05b-c523-4669-ae87-808695235f73/'"
   ]
  },
  {
   "cell_type": "code",
   "execution_count": null,
   "metadata": {},
   "outputs": [],
   "source": [
    "# os.listdir(checkpoint_dir)\n",
    "# latest = tf.train.latest_checkpoint(checkpoint_dir)\n",
    "# latest\n",
    "\n",
    "# # Load the lastest saved weights\n",
    "# model.load_weights(latest)"
   ]
  },
  {
   "cell_type": "code",
   "execution_count": 39,
   "metadata": {},
   "outputs": [],
   "source": [
    "# Save the weights\n",
    "# model.save_weights('my_checkpoint')\n",
    "utils.collate_run_data??"
   ]
  },
  {
   "cell_type": "code",
   "execution_count": null,
   "metadata": {},
   "outputs": [],
   "source": [
    "df_segm_trained = utils.collate_run_data(Path(str(cfg.models_path)), model_name='Segmentalist')\n",
    "df_segm_trained\n",
    "# \n",
    "df_segm_trained = df_segm_trained.drop(['seed', 'save_to_cache'] + [c for c in df_segm_trained.columns if any(i in c for i in ('_train',  'ocp', 'fancy_augs', 'dump_test_data', 'dump_first_batches', 'channel_expansion_factor'))], axis=1).sort_values(by='lowest_loss')\n",
    "# we can select a sub\n",
    "view_cols = ['datasets', 'lowest_loss', 'balanced_oversample', 'batch_size', 'patch_size', 'overlapping_tiles', 'deep_supervision', 'target_spatial_resolution', 'pyramid_pooling', 'loss_fn', 'val_frac']\n",
    "# \n",
    "df_segm_trained[view_cols + ['uuid4'] ] # \n",
    "row = df_segm_trained.query('datasets == \"des_ds\"').iloc[0]\n",
    "# row\n",
    "inference_window_size = 1024\n",
    "# load again with new patch shape\n",
    "# model = Segmentalist.load_from_metadata(row=row)\n",
    "# # shouldn't have to run these lines, LRM will look at the method above and fix so weight loading is included properly...\n",
    "# # workaround which fixes weight loading; \"prime\" model on something of the right shape\n",
    "# model(np.random.rand(1, inference_window_size, inference_window_size, 3))\n",
    "# model.load_weights(row.lowest_loss_ckpt) # takes a wee minute\n",
    "# model.stop_training = True"
   ]
  },
  {
   "cell_type": "code",
   "execution_count": 93,
   "metadata": {},
   "outputs": [],
   "source": [
    "utils.collate_run_data??"
   ]
  },
  {
   "cell_type": "code",
   "execution_count": 49,
   "metadata": {},
   "outputs": [
    {
     "data": {
      "text/plain": [
       "PosixPath('/home/root/saved_models')"
      ]
     },
     "execution_count": 49,
     "metadata": {},
     "output_type": "execute_result"
    }
   ],
   "source": [
    "Path(str(cfg.models_path))"
   ]
  },
  {
   "cell_type": "code",
   "execution_count": 66,
   "metadata": {},
   "outputs": [],
   "source": [
    "import pandas as pd\n",
    "def collate_run_data(                                                                  \n",
    "    models_dir,                                                                        \n",
    "    model_name='DeepResUNet',                                                          \n",
    "    dataset_aliases=None                                                               \n",
    "):                                                                                     \n",
    "    \"\"\"                                                                                \n",
    "    Creates a dataframe containing metadata on all trained models in a directory       \n",
    "                                                                                       \n",
    "    model_name can be a regex                                                          \n",
    "    \"\"\"                                                                                \n",
    "    runs = []                                                                          \n",
    "    for m in glob(f'{model_dir1}{model_name}_*'):                                     \n",
    "        if re.match(f'{model_name}''_(\\w+-){,4}\\w+$',str(m[0])):                \n",
    "            trhttp://127.0.0.1:8888/notebooks/notebooks/max/gim_cv_max_modified.ipynb#y:                                                                       \n",
    "                runs.append(get_run_data(m, dataset_aliases=dataset_aliases))          \n",
    "            except Exception as e:                                                     \n",
    "                print(f\"{m} failed with exception:\")                                   \n",
    "                print(e)                                                               \n",
    "    return pd.concat(runs, axis=1).T"
   ]
  },
  {
   "cell_type": "code",
   "execution_count": 97,
   "metadata": {},
   "outputs": [
    {
     "data": {
      "text/plain": [
       "<generator object Path.glob at 0x7f5dbaa11900>"
      ]
     },
     "execution_count": 97,
     "metadata": {},
     "output_type": "execute_result"
    }
   ],
   "source": [
    "models_dir1 = Path(str(cfg.models_path))\n",
    "models_dir1.glob(f'{model_name}_*')\n",
    "\n",
    "# collate_run_data(Path(str(cfg.models_path)), model_name=\"Segmentalist\")"
   ]
  },
  {
   "cell_type": "code",
   "execution_count": 84,
   "metadata": {},
   "outputs": [
    {
     "data": {
      "text/plain": [
       "<generator object Path.glob at 0x7f5ded760890>"
      ]
     },
     "execution_count": 84,
     "metadata": {},
     "output_type": "execute_result"
    }
   ],
   "source": [
    "from pathlib import Path\n",
    "model_dir1 = '/home/root/saved_models/'\n",
    "folder_path = Path(model_dir1)\n",
    "folder_path.glob(f'{model_name}_*')"
   ]
  },
  {
   "cell_type": "code",
   "execution_count": 102,
   "metadata": {},
   "outputs": [
    {
     "data": {
      "text/plain": [
       "'models'"
      ]
     },
     "execution_count": 102,
     "metadata": {},
     "output_type": "execute_result"
    }
   ],
   "source": [
    "uuid4_ = re.match('.*_(?P<uuid4>(\\w+-){,4}\\w+)$', str(folder_path.parts[-1])).group('uuid4')\n",
    "uuid4_"
   ]
  },
  {
   "cell_type": "code",
   "execution_count": 92,
   "metadata": {},
   "outputs": [
    {
     "name": "stdout",
     "output_type": "stream",
     "text": [
      "/home/root/saved_models/Segmentalist_92097dcb-0801-4653-9388-5fefe8093cac failed with exception:\n",
      "'NoneType' object has no attribute 'group'\n",
      "/home/root/saved_models/Segmentalist_17159bab-86a6-465b-9b2f-af72ad188fac failed with exception:\n",
      "[Errno 2] No such file or directory: '/home/root/saved_models/Segmentalist_17159bab-86a6-465b-9b2f-af72ad188fac/run_params.yml'\n",
      "/home/root/saved_models/Segmentalist_bcdf2b37-2e0b-4554-ba37-8bd8714fad0a failed with exception:\n",
      "could not determine a constructor for the tag 'tag:yaml.org,2002:python/tuple'\n",
      "  in \"/home/root/saved_models/Segmentalist_bcdf2b37-2e0b-4554-ba37-8bd8714fad0a/run_params.yml\", line 17, column 20\n",
      "/home/root/saved_models/Segmentalist_24b6bc38-9a82-4b03-a43d-93563c38829c failed with exception:\n",
      "'NoneType' object has no attribute 'group'\n",
      "/home/root/saved_models/Segmentalist_1f713f04-1605-4ce4-8aad-f0acd70cfc38 failed with exception:\n",
      "'NoneType' object has no attribute 'group'\n",
      "/home/root/saved_models/Segmentalist_925bc711-0111-4867-89fd-bf5258fc0a55 failed with exception:\n",
      "could not determine a constructor for the tag 'tag:yaml.org,2002:python/tuple'\n",
      "  in \"/home/root/saved_models/Segmentalist_925bc711-0111-4867-89fd-bf5258fc0a55/run_params.yml\", line 17, column 20\n",
      "/home/root/saved_models/Segmentalist_9ac738b2-8bf2-4d17-9c9f-5c77fa330588 failed with exception:\n",
      "[Errno 2] No such file or directory: '/home/root/saved_models/Segmentalist_9ac738b2-8bf2-4d17-9c9f-5c77fa330588/run_params.yml'\n",
      "/home/root/saved_models/Segmentalist_54a6e24f-9efd-4280-a5eb-7dbf96c2f394 failed with exception:\n",
      "could not determine a constructor for the tag 'tag:yaml.org,2002:python/tuple'\n",
      "  in \"/home/root/saved_models/Segmentalist_54a6e24f-9efd-4280-a5eb-7dbf96c2f394/run_params.yml\", line 17, column 20\n",
      "/home/root/saved_models/Segmentalist_3b57e05b-c523-4669-ae87-808695235f73 failed with exception:\n",
      "'NoneType' object has no attribute 'group'\n",
      "/home/root/saved_models/Segmentalist_d75295fb-5cf4-4f2b-a989-d9f67f608c03 failed with exception:\n",
      "could not determine a constructor for the tag 'tag:yaml.org,2002:python/tuple'\n",
      "  in \"/home/root/saved_models/Segmentalist_d75295fb-5cf4-4f2b-a989-d9f67f608c03/run_params.yml\", line 17, column 20\n",
      "/home/root/saved_models/Segmentalist_792be1c1-f498-441d-b522-285d713b63bf failed with exception:\n",
      "could not determine a constructor for the tag 'tag:yaml.org,2002:python/tuple'\n",
      "  in \"/home/root/saved_models/Segmentalist_792be1c1-f498-441d-b522-285d713b63bf/run_params.yml\", line 17, column 20\n",
      "/home/root/saved_models/Segmentalist_61f9e57e-ba63-4e95-8563-6678ea089c78 failed with exception:\n",
      "[Errno 2] No such file or directory: '/home/root/saved_models/Segmentalist_61f9e57e-ba63-4e95-8563-6678ea089c78/run_params.yml'\n",
      "/home/root/saved_models/Segmentalist_50bfcbc9-f4ed-4b94-8bb6-65c8e8ae44c8 failed with exception:\n",
      "could not determine a constructor for the tag 'tag:yaml.org,2002:python/tuple'\n",
      "  in \"/home/root/saved_models/Segmentalist_50bfcbc9-f4ed-4b94-8bb6-65c8e8ae44c8/run_params.yml\", line 17, column 20\n",
      "/home/root/saved_models/Segmentalist_23fe42f3-04a3-4da3-aba2-f7c69e3dc843 failed with exception:\n",
      "'NoneType' object has no attribute 'group'\n",
      "/home/root/saved_models/Segmentalist_64bee077-628b-420f-b066-bb1983f75c60 failed with exception:\n",
      "could not determine a constructor for the tag 'tag:yaml.org,2002:python/tuple'\n",
      "  in \"/home/root/saved_models/Segmentalist_64bee077-628b-420f-b066-bb1983f75c60/run_params.yml\", line 17, column 20\n",
      "/home/root/saved_models/Segmentalist_ff5c289d-3422-42b6-a615-2e7efb5c71a0 failed with exception:\n",
      "could not determine a constructor for the tag 'tag:yaml.org,2002:python/tuple'\n",
      "  in \"/home/root/saved_models/Segmentalist_ff5c289d-3422-42b6-a615-2e7efb5c71a0/run_params.yml\", line 17, column 20\n",
      "/home/root/saved_models/Segmentalist_8a601d7c-ce9e-4ee9-8cb7-82b7803491c5 failed with exception:\n",
      "could not determine a constructor for the tag 'tag:yaml.org,2002:python/tuple'\n",
      "  in \"/home/root/saved_models/Segmentalist_8a601d7c-ce9e-4ee9-8cb7-82b7803491c5/run_params.yml\", line 17, column 20\n",
      "/home/root/saved_models/Segmentalist_5bf57efd-d775-48f6-86f7-de6ec5d3622b failed with exception:\n",
      "could not determine a constructor for the tag 'tag:yaml.org,2002:python/tuple'\n",
      "  in \"/home/root/saved_models/Segmentalist_5bf57efd-d775-48f6-86f7-de6ec5d3622b/run_params.yml\", line 17, column 20\n",
      "/home/root/saved_models/Segmentalist_fbda0b3c-8196-4671-8edd-967818d4318b failed with exception:\n",
      "could not determine a constructor for the tag 'tag:yaml.org,2002:python/tuple'\n",
      "  in \"/home/root/saved_models/Segmentalist_fbda0b3c-8196-4671-8edd-967818d4318b/run_params.yml\", line 17, column 20\n",
      "/home/root/saved_models/Segmentalist_7ff8e1f7-c172-4600-be49-87745cf0f314 failed with exception:\n",
      "'NoneType' object has no attribute 'group'\n",
      "/home/root/saved_models/Segmentalist_7096307b-2dde-49f3-8c3b-985d6812082f failed with exception:\n",
      "'NoneType' object has no attribute 'group'\n",
      "/home/root/saved_models/Segmentalist_fb4beb06-877d-4a1a-b440-ee1a95b8057e failed with exception:\n",
      "could not determine a constructor for the tag 'tag:yaml.org,2002:python/tuple'\n",
      "  in \"/home/root/saved_models/Segmentalist_fb4beb06-877d-4a1a-b440-ee1a95b8057e/run_params.yml\", line 17, column 20\n",
      "/home/root/saved_models/Segmentalist_f5968a30-072d-4521-8419-2d6d21782536 failed with exception:\n",
      "could not determine a constructor for the tag 'tag:yaml.org,2002:python/tuple'\n",
      "  in \"/home/root/saved_models/Segmentalist_f5968a30-072d-4521-8419-2d6d21782536/run_params.yml\", line 17, column 20\n",
      "/home/root/saved_models/Segmentalist_437f8334-3758-406b-9817-d597dcde5ca9 failed with exception:\n",
      "could not determine a constructor for the tag 'tag:yaml.org,2002:python/tuple'\n",
      "  in \"/home/root/saved_models/Segmentalist_437f8334-3758-406b-9817-d597dcde5ca9/run_params.yml\", line 17, column 20\n",
      "/home/root/saved_models/Segmentalist_dac4c2a9-8dbc-4eed-abaf-06028a72b608 failed with exception:\n",
      "'NoneType' object has no attribute 'group'\n",
      "/home/root/saved_models/Segmentalist_2a8939dd-f289-42e2-8534-fe59f50ba425 failed with exception:\n",
      "'NoneType' object has no attribute 'group'\n",
      "/home/root/saved_models/Segmentalist_a28462f6-e891-4c56-be52-2989d22615ae failed with exception:\n",
      "could not determine a constructor for the tag 'tag:yaml.org,2002:python/tuple'\n",
      "  in \"/home/root/saved_models/Segmentalist_a28462f6-e891-4c56-be52-2989d22615ae/run_params.yml\", line 17, column 20\n",
      "/home/root/saved_models/Segmentalist_324c299a-5324-436b-9e12-8efc34ce4d55 failed with exception:\n",
      "'NoneType' object has no attribute 'group'\n",
      "/home/root/saved_models/Segmentalist_ebacad1e-5a27-4a8f-af41-a040090de939 failed with exception:\n",
      "could not determine a constructor for the tag 'tag:yaml.org,2002:python/tuple'\n",
      "  in \"/home/root/saved_models/Segmentalist_ebacad1e-5a27-4a8f-af41-a040090de939/run_params.yml\", line 17, column 20\n",
      "/home/root/saved_models/Segmentalist_bb928500-8e28-49a1-99d0-2f3e7891116d failed with exception:\n",
      "'NoneType' object has no attribute 'group'\n",
      "/home/root/saved_models/Segmentalist_25d6f932-9fd4-406b-b4a1-f33c84eceda0 failed with exception:\n",
      "'NoneType' object has no attribute 'group'\n",
      "/home/root/saved_models/Segmentalist_2665927c-b979-4a0d-99de-45930c9b202d failed with exception:\n",
      "'NoneType' object has no attribute 'group'\n",
      "/home/root/saved_models/Segmentalist_2b5faf5f-2416-429d-9db4-d8e2318123a0 failed with exception:\n",
      "'NoneType' object has no attribute 'group'\n"
     ]
    },
    {
     "ename": "Exception",
     "evalue": "No model directories found at /home/root/saved_models!",
     "output_type": "error",
     "traceback": [
      "\u001b[0;31m---------------------------------------------------------------------------\u001b[0m",
      "\u001b[0;31mException\u001b[0m                                 Traceback (most recent call last)",
      "\u001b[0;32m<ipython-input-92-1409d85d3366>\u001b[0m in \u001b[0;36m<module>\u001b[0;34m\u001b[0m\n\u001b[1;32m     12\u001b[0m             \u001b[0mprint\u001b[0m\u001b[0;34m(\u001b[0m\u001b[0me\u001b[0m\u001b[0;34m)\u001b[0m\u001b[0;34m\u001b[0m\u001b[0;34m\u001b[0m\u001b[0m\n\u001b[1;32m     13\u001b[0m \u001b[0;32mif\u001b[0m \u001b[0;32mnot\u001b[0m \u001b[0mruns\u001b[0m\u001b[0;34m:\u001b[0m\u001b[0;34m\u001b[0m\u001b[0;34m\u001b[0m\u001b[0m\n\u001b[0;32m---> 14\u001b[0;31m     \u001b[0;32mraise\u001b[0m \u001b[0mException\u001b[0m\u001b[0;34m(\u001b[0m\u001b[0;34mf\"No model directories found at {folder_path}!\"\u001b[0m\u001b[0;34m)\u001b[0m\u001b[0;34m\u001b[0m\u001b[0;34m\u001b[0m\u001b[0m\n\u001b[0m\u001b[1;32m     15\u001b[0m \u001b[0;32mreturn\u001b[0m \u001b[0mpd\u001b[0m\u001b[0;34m.\u001b[0m\u001b[0mconcat\u001b[0m\u001b[0;34m(\u001b[0m\u001b[0mruns\u001b[0m\u001b[0;34m,\u001b[0m \u001b[0maxis\u001b[0m\u001b[0;34m=\u001b[0m\u001b[0;36m1\u001b[0m\u001b[0;34m)\u001b[0m\u001b[0;34m.\u001b[0m\u001b[0mT\u001b[0m\u001b[0;34m\u001b[0m\u001b[0;34m\u001b[0m\u001b[0m\n",
      "\u001b[0;31mException\u001b[0m: No model directories found at /home/root/saved_models!"
     ]
    }
   ],
   "source": [
    "dataset_aliases = None\n",
    "runs = []\n",
    "for m in folder_path.glob(f'{model_name}_*'):\n",
    "#     print (m)\n",
    "# for m in models_dir.glob(f'{model_name}_*'):\n",
    "    if re.match(f'{model_name}''_(\\w+-){,4}\\w+$',str(m.parts[-1])):\n",
    "        try:\n",
    "            runs.append(get_run_data(m, dataset_aliases=dataset_aliases))\n",
    "        except Exception as e:\n",
    "            print(f\"{m} failed with exception:\")\n",
    "            print(e)\n",
    "if not runs:\n",
    "    raise Exception(f\"No model directories found at {folder_path}!\")\n",
    "return pd.concat(runs, axis=1).T"
   ]
  },
  {
   "cell_type": "code",
   "execution_count": 81,
   "metadata": {},
   "outputs": [],
   "source": [
    "cfg.models_path??"
   ]
  },
  {
   "cell_type": "code",
   "execution_count": 95,
   "metadata": {},
   "outputs": [
    {
     "name": "stdout",
     "output_type": "stream",
     "text": [
      "/home/root/saved_models/Segmentalist_92097dcb-0801-4653-9388-5fefe8093cac failed with exception:\n",
      "'NoneType' object has no attribute 'group'\n",
      "/home/root/saved_models/Segmentalist_17159bab-86a6-465b-9b2f-af72ad188fac failed with exception:\n",
      "[Errno 2] No such file or directory: '/home/root/saved_models/Segmentalist_17159bab-86a6-465b-9b2f-af72ad188fac/run_params.yml'\n",
      "/home/root/saved_models/Segmentalist_24b6bc38-9a82-4b03-a43d-93563c38829c failed with exception:\n",
      "'NoneType' object has no attribute 'group'\n",
      "/home/root/saved_models/Segmentalist_1f713f04-1605-4ce4-8aad-f0acd70cfc38 failed with exception:\n",
      "'NoneType' object has no attribute 'group'\n",
      "/home/root/saved_models/Segmentalist_9ac738b2-8bf2-4d17-9c9f-5c77fa330588 failed with exception:\n",
      "[Errno 2] No such file or directory: '/home/root/saved_models/Segmentalist_9ac738b2-8bf2-4d17-9c9f-5c77fa330588/run_params.yml'\n",
      "/home/root/saved_models/Segmentalist_3b57e05b-c523-4669-ae87-808695235f73 failed with exception:\n",
      "'NoneType' object has no attribute 'group'\n",
      "/home/root/saved_models/Segmentalist_61f9e57e-ba63-4e95-8563-6678ea089c78 failed with exception:\n",
      "[Errno 2] No such file or directory: '/home/root/saved_models/Segmentalist_61f9e57e-ba63-4e95-8563-6678ea089c78/run_params.yml'\n",
      "/home/root/saved_models/Segmentalist_23fe42f3-04a3-4da3-aba2-f7c69e3dc843 failed with exception:\n",
      "'NoneType' object has no attribute 'group'\n",
      "/home/root/saved_models/Segmentalist_7ff8e1f7-c172-4600-be49-87745cf0f314 failed with exception:\n",
      "'NoneType' object has no attribute 'group'\n",
      "/home/root/saved_models/Segmentalist_7096307b-2dde-49f3-8c3b-985d6812082f failed with exception:\n",
      "'NoneType' object has no attribute 'group'\n",
      "/home/root/saved_models/Segmentalist_dac4c2a9-8dbc-4eed-abaf-06028a72b608 failed with exception:\n",
      "'NoneType' object has no attribute 'group'\n",
      "/home/root/saved_models/Segmentalist_2a8939dd-f289-42e2-8534-fe59f50ba425 failed with exception:\n",
      "'NoneType' object has no attribute 'group'\n",
      "/home/root/saved_models/Segmentalist_324c299a-5324-436b-9e12-8efc34ce4d55 failed with exception:\n",
      "'NoneType' object has no attribute 'group'\n",
      "/home/root/saved_models/Segmentalist_bb928500-8e28-49a1-99d0-2f3e7891116d failed with exception:\n",
      "'NoneType' object has no attribute 'group'\n",
      "/home/root/saved_models/Segmentalist_25d6f932-9fd4-406b-b4a1-f33c84eceda0 failed with exception:\n",
      "'NoneType' object has no attribute 'group'\n",
      "/home/root/saved_models/Segmentalist_2665927c-b979-4a0d-99de-45930c9b202d failed with exception:\n",
      "'NoneType' object has no attribute 'group'\n",
      "/home/root/saved_models/Segmentalist_2b5faf5f-2416-429d-9db4-d8e2318123a0 failed with exception:\n",
      "'NoneType' object has no attribute 'group'\n"
     ]
    },
    {
     "data": {
      "text/html": [
       "<div>\n",
       "<style scoped>\n",
       "    .dataframe tbody tr th:only-of-type {\n",
       "        vertical-align: middle;\n",
       "    }\n",
       "\n",
       "    .dataframe tbody tr th {\n",
       "        vertical-align: top;\n",
       "    }\n",
       "\n",
       "    .dataframe thead th {\n",
       "        text-align: right;\n",
       "    }\n",
       "</style>\n",
       "<table border=\"1\" class=\"dataframe\">\n",
       "  <thead>\n",
       "    <tr style=\"text-align: right;\">\n",
       "      <th></th>\n",
       "      <th>uuid4</th>\n",
       "      <th>training_dir</th>\n",
       "      <th>lowest_loss_ckpt</th>\n",
       "      <th>lowest_val_loss_ckpt</th>\n",
       "      <th>lowest_loss</th>\n",
       "      <th>lowest_val_loss</th>\n",
       "      <th>X0_train</th>\n",
       "      <th>y0_train</th>\n",
       "      <th>X0_val</th>\n",
       "      <th>y0_val</th>\n",
       "      <th>...</th>\n",
       "      <th>residual_filters_</th>\n",
       "      <th>sag</th>\n",
       "      <th>save_to_cache</th>\n",
       "      <th>seed</th>\n",
       "      <th>swa</th>\n",
       "      <th>target_spatial_resolution</th>\n",
       "      <th>test_frac</th>\n",
       "      <th>use_cache</th>\n",
       "      <th>use_val</th>\n",
       "      <th>val_frac</th>\n",
       "    </tr>\n",
       "  </thead>\n",
       "  <tbody>\n",
       "    <tr>\n",
       "      <th>0</th>\n",
       "      <td>bcdf2b37-2e0b-4554-ba37-8bd8714fad0a</td>\n",
       "      <td>/home/root/saved_models/Segmentalist_bcdf2b37-...</td>\n",
       "      <td>/home/root/saved_models/Segmentalist_bcdf2b37-...</td>\n",
       "      <td>/home/root/saved_models/Segmentalist_bcdf2b37-...</td>\n",
       "      <td>0.52538</td>\n",
       "      <td>0.0</td>\n",
       "      <td>None</td>\n",
       "      <td>None</td>\n",
       "      <td>None</td>\n",
       "      <td>None</td>\n",
       "      <td>...</td>\n",
       "      <td>[128, 256, 512, 1024]</td>\n",
       "      <td>True</td>\n",
       "      <td>False</td>\n",
       "      <td>42</td>\n",
       "      <td>True</td>\n",
       "      <td>0.4</td>\n",
       "      <td>0.0</td>\n",
       "      <td>False</td>\n",
       "      <td>False</td>\n",
       "      <td>0.1</td>\n",
       "    </tr>\n",
       "    <tr>\n",
       "      <th>1</th>\n",
       "      <td>925bc711-0111-4867-89fd-bf5258fc0a55</td>\n",
       "      <td>/home/root/saved_models/Segmentalist_925bc711-...</td>\n",
       "      <td>None</td>\n",
       "      <td>None</td>\n",
       "      <td>NaN</td>\n",
       "      <td>NaN</td>\n",
       "      <td>None</td>\n",
       "      <td>None</td>\n",
       "      <td>None</td>\n",
       "      <td>None</td>\n",
       "      <td>...</td>\n",
       "      <td>[128, 256, 512, 1024]</td>\n",
       "      <td>True</td>\n",
       "      <td>False</td>\n",
       "      <td>42</td>\n",
       "      <td>True</td>\n",
       "      <td>0.6</td>\n",
       "      <td>0.0</td>\n",
       "      <td>False</td>\n",
       "      <td>False</td>\n",
       "      <td>0.1</td>\n",
       "    </tr>\n",
       "    <tr>\n",
       "      <th>2</th>\n",
       "      <td>54a6e24f-9efd-4280-a5eb-7dbf96c2f394</td>\n",
       "      <td>/home/root/saved_models/Segmentalist_54a6e24f-...</td>\n",
       "      <td>/home/root/saved_models/Segmentalist_54a6e24f-...</td>\n",
       "      <td>/home/root/saved_models/Segmentalist_54a6e24f-...</td>\n",
       "      <td>0.31589</td>\n",
       "      <td>0.0</td>\n",
       "      <td>None</td>\n",
       "      <td>None</td>\n",
       "      <td>None</td>\n",
       "      <td>None</td>\n",
       "      <td>...</td>\n",
       "      <td>[128, 256, 512, 1024]</td>\n",
       "      <td>True</td>\n",
       "      <td>False</td>\n",
       "      <td>42</td>\n",
       "      <td>True</td>\n",
       "      <td>0.4</td>\n",
       "      <td>0.0</td>\n",
       "      <td>False</td>\n",
       "      <td>False</td>\n",
       "      <td>0.1</td>\n",
       "    </tr>\n",
       "    <tr>\n",
       "      <th>3</th>\n",
       "      <td>d75295fb-5cf4-4f2b-a989-d9f67f608c03</td>\n",
       "      <td>/home/root/saved_models/Segmentalist_d75295fb-...</td>\n",
       "      <td>/home/root/saved_models/Segmentalist_d75295fb-...</td>\n",
       "      <td>/home/root/saved_models/Segmentalist_d75295fb-...</td>\n",
       "      <td>0.32132</td>\n",
       "      <td>0.0</td>\n",
       "      <td>None</td>\n",
       "      <td>None</td>\n",
       "      <td>None</td>\n",
       "      <td>None</td>\n",
       "      <td>...</td>\n",
       "      <td>[128, 256, 512, 1024]</td>\n",
       "      <td>True</td>\n",
       "      <td>False</td>\n",
       "      <td>42</td>\n",
       "      <td>True</td>\n",
       "      <td>0.4</td>\n",
       "      <td>0.0</td>\n",
       "      <td>False</td>\n",
       "      <td>False</td>\n",
       "      <td>0.1</td>\n",
       "    </tr>\n",
       "    <tr>\n",
       "      <th>4</th>\n",
       "      <td>792be1c1-f498-441d-b522-285d713b63bf</td>\n",
       "      <td>/home/root/saved_models/Segmentalist_792be1c1-...</td>\n",
       "      <td>/home/root/saved_models/Segmentalist_792be1c1-...</td>\n",
       "      <td>/home/root/saved_models/Segmentalist_792be1c1-...</td>\n",
       "      <td>0.27234</td>\n",
       "      <td>0.0</td>\n",
       "      <td>None</td>\n",
       "      <td>None</td>\n",
       "      <td>None</td>\n",
       "      <td>None</td>\n",
       "      <td>...</td>\n",
       "      <td>[128, 256, 512, 1024]</td>\n",
       "      <td>True</td>\n",
       "      <td>False</td>\n",
       "      <td>42</td>\n",
       "      <td>True</td>\n",
       "      <td>0.5</td>\n",
       "      <td>0.0</td>\n",
       "      <td>False</td>\n",
       "      <td>False</td>\n",
       "      <td>0.1</td>\n",
       "    </tr>\n",
       "    <tr>\n",
       "      <th>5</th>\n",
       "      <td>50bfcbc9-f4ed-4b94-8bb6-65c8e8ae44c8</td>\n",
       "      <td>/home/root/saved_models/Segmentalist_50bfcbc9-...</td>\n",
       "      <td>/home/root/saved_models/Segmentalist_50bfcbc9-...</td>\n",
       "      <td>/home/root/saved_models/Segmentalist_50bfcbc9-...</td>\n",
       "      <td>0.35915</td>\n",
       "      <td>0.0</td>\n",
       "      <td>None</td>\n",
       "      <td>None</td>\n",
       "      <td>None</td>\n",
       "      <td>None</td>\n",
       "      <td>...</td>\n",
       "      <td>[128, 256, 512, 1024]</td>\n",
       "      <td>True</td>\n",
       "      <td>False</td>\n",
       "      <td>42</td>\n",
       "      <td>True</td>\n",
       "      <td>0.6</td>\n",
       "      <td>0.0</td>\n",
       "      <td>False</td>\n",
       "      <td>False</td>\n",
       "      <td>0.1</td>\n",
       "    </tr>\n",
       "    <tr>\n",
       "      <th>6</th>\n",
       "      <td>64bee077-628b-420f-b066-bb1983f75c60</td>\n",
       "      <td>/home/root/saved_models/Segmentalist_64bee077-...</td>\n",
       "      <td>None</td>\n",
       "      <td>None</td>\n",
       "      <td>NaN</td>\n",
       "      <td>NaN</td>\n",
       "      <td>None</td>\n",
       "      <td>None</td>\n",
       "      <td>None</td>\n",
       "      <td>None</td>\n",
       "      <td>...</td>\n",
       "      <td>[128, 256, 512, 1024]</td>\n",
       "      <td>True</td>\n",
       "      <td>False</td>\n",
       "      <td>42</td>\n",
       "      <td>True</td>\n",
       "      <td>0.4</td>\n",
       "      <td>0.0</td>\n",
       "      <td>False</td>\n",
       "      <td>False</td>\n",
       "      <td>0.1</td>\n",
       "    </tr>\n",
       "    <tr>\n",
       "      <th>7</th>\n",
       "      <td>ff5c289d-3422-42b6-a615-2e7efb5c71a0</td>\n",
       "      <td>/home/root/saved_models/Segmentalist_ff5c289d-...</td>\n",
       "      <td>None</td>\n",
       "      <td>None</td>\n",
       "      <td>NaN</td>\n",
       "      <td>NaN</td>\n",
       "      <td>None</td>\n",
       "      <td>None</td>\n",
       "      <td>None</td>\n",
       "      <td>None</td>\n",
       "      <td>...</td>\n",
       "      <td>[128, 256, 512, 1024]</td>\n",
       "      <td>True</td>\n",
       "      <td>False</td>\n",
       "      <td>42</td>\n",
       "      <td>True</td>\n",
       "      <td>0.4</td>\n",
       "      <td>0.0</td>\n",
       "      <td>False</td>\n",
       "      <td>False</td>\n",
       "      <td>0.1</td>\n",
       "    </tr>\n",
       "    <tr>\n",
       "      <th>8</th>\n",
       "      <td>8a601d7c-ce9e-4ee9-8cb7-82b7803491c5</td>\n",
       "      <td>/home/root/saved_models/Segmentalist_8a601d7c-...</td>\n",
       "      <td>None</td>\n",
       "      <td>None</td>\n",
       "      <td>NaN</td>\n",
       "      <td>NaN</td>\n",
       "      <td>None</td>\n",
       "      <td>None</td>\n",
       "      <td>None</td>\n",
       "      <td>None</td>\n",
       "      <td>...</td>\n",
       "      <td>[128, 256, 512, 1024]</td>\n",
       "      <td>True</td>\n",
       "      <td>False</td>\n",
       "      <td>42</td>\n",
       "      <td>True</td>\n",
       "      <td>0.4</td>\n",
       "      <td>0.0</td>\n",
       "      <td>False</td>\n",
       "      <td>False</td>\n",
       "      <td>0.1</td>\n",
       "    </tr>\n",
       "    <tr>\n",
       "      <th>9</th>\n",
       "      <td>5bf57efd-d775-48f6-86f7-de6ec5d3622b</td>\n",
       "      <td>/home/root/saved_models/Segmentalist_5bf57efd-...</td>\n",
       "      <td>None</td>\n",
       "      <td>None</td>\n",
       "      <td>NaN</td>\n",
       "      <td>NaN</td>\n",
       "      <td>None</td>\n",
       "      <td>None</td>\n",
       "      <td>None</td>\n",
       "      <td>None</td>\n",
       "      <td>...</td>\n",
       "      <td>[128, 256, 512, 1024]</td>\n",
       "      <td>True</td>\n",
       "      <td>False</td>\n",
       "      <td>42</td>\n",
       "      <td>True</td>\n",
       "      <td>0.4</td>\n",
       "      <td>0.0</td>\n",
       "      <td>False</td>\n",
       "      <td>False</td>\n",
       "      <td>0.1</td>\n",
       "    </tr>\n",
       "    <tr>\n",
       "      <th>10</th>\n",
       "      <td>fbda0b3c-8196-4671-8edd-967818d4318b</td>\n",
       "      <td>/home/root/saved_models/Segmentalist_fbda0b3c-...</td>\n",
       "      <td>None</td>\n",
       "      <td>None</td>\n",
       "      <td>NaN</td>\n",
       "      <td>NaN</td>\n",
       "      <td>None</td>\n",
       "      <td>None</td>\n",
       "      <td>None</td>\n",
       "      <td>None</td>\n",
       "      <td>...</td>\n",
       "      <td>[128, 256, 512, 1024]</td>\n",
       "      <td>True</td>\n",
       "      <td>False</td>\n",
       "      <td>42</td>\n",
       "      <td>True</td>\n",
       "      <td>0.6</td>\n",
       "      <td>0.0</td>\n",
       "      <td>False</td>\n",
       "      <td>False</td>\n",
       "      <td>0.1</td>\n",
       "    </tr>\n",
       "    <tr>\n",
       "      <th>11</th>\n",
       "      <td>fb4beb06-877d-4a1a-b440-ee1a95b8057e</td>\n",
       "      <td>/home/root/saved_models/Segmentalist_fb4beb06-...</td>\n",
       "      <td>/home/root/saved_models/Segmentalist_fb4beb06-...</td>\n",
       "      <td>/home/root/saved_models/Segmentalist_fb4beb06-...</td>\n",
       "      <td>0.00148</td>\n",
       "      <td>0.0</td>\n",
       "      <td>None</td>\n",
       "      <td>None</td>\n",
       "      <td>None</td>\n",
       "      <td>None</td>\n",
       "      <td>...</td>\n",
       "      <td>[128, 256, 512, 1024]</td>\n",
       "      <td>True</td>\n",
       "      <td>False</td>\n",
       "      <td>42</td>\n",
       "      <td>True</td>\n",
       "      <td>0.4</td>\n",
       "      <td>0.0</td>\n",
       "      <td>False</td>\n",
       "      <td>False</td>\n",
       "      <td>0.1</td>\n",
       "    </tr>\n",
       "    <tr>\n",
       "      <th>12</th>\n",
       "      <td>f5968a30-072d-4521-8419-2d6d21782536</td>\n",
       "      <td>/home/root/saved_models/Segmentalist_f5968a30-...</td>\n",
       "      <td>None</td>\n",
       "      <td>None</td>\n",
       "      <td>NaN</td>\n",
       "      <td>NaN</td>\n",
       "      <td>None</td>\n",
       "      <td>None</td>\n",
       "      <td>None</td>\n",
       "      <td>None</td>\n",
       "      <td>...</td>\n",
       "      <td>[128, 256, 512, 1024]</td>\n",
       "      <td>True</td>\n",
       "      <td>False</td>\n",
       "      <td>42</td>\n",
       "      <td>True</td>\n",
       "      <td>0.4</td>\n",
       "      <td>0.0</td>\n",
       "      <td>False</td>\n",
       "      <td>False</td>\n",
       "      <td>0.1</td>\n",
       "    </tr>\n",
       "    <tr>\n",
       "      <th>13</th>\n",
       "      <td>437f8334-3758-406b-9817-d597dcde5ca9</td>\n",
       "      <td>/home/root/saved_models/Segmentalist_437f8334-...</td>\n",
       "      <td>/home/root/saved_models/Segmentalist_437f8334-...</td>\n",
       "      <td>/home/root/saved_models/Segmentalist_437f8334-...</td>\n",
       "      <td>0.01451</td>\n",
       "      <td>0.0</td>\n",
       "      <td>None</td>\n",
       "      <td>None</td>\n",
       "      <td>None</td>\n",
       "      <td>None</td>\n",
       "      <td>...</td>\n",
       "      <td>[128, 256, 512, 1024]</td>\n",
       "      <td>True</td>\n",
       "      <td>False</td>\n",
       "      <td>42</td>\n",
       "      <td>True</td>\n",
       "      <td>0.4</td>\n",
       "      <td>0.0</td>\n",
       "      <td>False</td>\n",
       "      <td>False</td>\n",
       "      <td>0.1</td>\n",
       "    </tr>\n",
       "    <tr>\n",
       "      <th>14</th>\n",
       "      <td>a28462f6-e891-4c56-be52-2989d22615ae</td>\n",
       "      <td>/home/root/saved_models/Segmentalist_a28462f6-...</td>\n",
       "      <td>/home/root/saved_models/Segmentalist_a28462f6-...</td>\n",
       "      <td>/home/root/saved_models/Segmentalist_a28462f6-...</td>\n",
       "      <td>0.16111</td>\n",
       "      <td>0.0</td>\n",
       "      <td>None</td>\n",
       "      <td>None</td>\n",
       "      <td>None</td>\n",
       "      <td>None</td>\n",
       "      <td>...</td>\n",
       "      <td>[128, 256, 512, 1024]</td>\n",
       "      <td>True</td>\n",
       "      <td>False</td>\n",
       "      <td>42</td>\n",
       "      <td>True</td>\n",
       "      <td>0.4</td>\n",
       "      <td>0.0</td>\n",
       "      <td>False</td>\n",
       "      <td>False</td>\n",
       "      <td>0.1</td>\n",
       "    </tr>\n",
       "    <tr>\n",
       "      <th>15</th>\n",
       "      <td>ebacad1e-5a27-4a8f-af41-a040090de939</td>\n",
       "      <td>/home/root/saved_models/Segmentalist_ebacad1e-...</td>\n",
       "      <td>None</td>\n",
       "      <td>None</td>\n",
       "      <td>NaN</td>\n",
       "      <td>NaN</td>\n",
       "      <td>None</td>\n",
       "      <td>None</td>\n",
       "      <td>None</td>\n",
       "      <td>None</td>\n",
       "      <td>...</td>\n",
       "      <td>[128, 256, 512, 1024]</td>\n",
       "      <td>True</td>\n",
       "      <td>False</td>\n",
       "      <td>42</td>\n",
       "      <td>True</td>\n",
       "      <td>0.6</td>\n",
       "      <td>0.0</td>\n",
       "      <td>False</td>\n",
       "      <td>False</td>\n",
       "      <td>0.1</td>\n",
       "    </tr>\n",
       "  </tbody>\n",
       "</table>\n",
       "<p>16 rows × 58 columns</p>\n",
       "</div>"
      ],
      "text/plain": [
       "                                   uuid4  \\\n",
       "0   bcdf2b37-2e0b-4554-ba37-8bd8714fad0a   \n",
       "1   925bc711-0111-4867-89fd-bf5258fc0a55   \n",
       "2   54a6e24f-9efd-4280-a5eb-7dbf96c2f394   \n",
       "3   d75295fb-5cf4-4f2b-a989-d9f67f608c03   \n",
       "4   792be1c1-f498-441d-b522-285d713b63bf   \n",
       "5   50bfcbc9-f4ed-4b94-8bb6-65c8e8ae44c8   \n",
       "6   64bee077-628b-420f-b066-bb1983f75c60   \n",
       "7   ff5c289d-3422-42b6-a615-2e7efb5c71a0   \n",
       "8   8a601d7c-ce9e-4ee9-8cb7-82b7803491c5   \n",
       "9   5bf57efd-d775-48f6-86f7-de6ec5d3622b   \n",
       "10  fbda0b3c-8196-4671-8edd-967818d4318b   \n",
       "11  fb4beb06-877d-4a1a-b440-ee1a95b8057e   \n",
       "12  f5968a30-072d-4521-8419-2d6d21782536   \n",
       "13  437f8334-3758-406b-9817-d597dcde5ca9   \n",
       "14  a28462f6-e891-4c56-be52-2989d22615ae   \n",
       "15  ebacad1e-5a27-4a8f-af41-a040090de939   \n",
       "\n",
       "                                         training_dir  \\\n",
       "0   /home/root/saved_models/Segmentalist_bcdf2b37-...   \n",
       "1   /home/root/saved_models/Segmentalist_925bc711-...   \n",
       "2   /home/root/saved_models/Segmentalist_54a6e24f-...   \n",
       "3   /home/root/saved_models/Segmentalist_d75295fb-...   \n",
       "4   /home/root/saved_models/Segmentalist_792be1c1-...   \n",
       "5   /home/root/saved_models/Segmentalist_50bfcbc9-...   \n",
       "6   /home/root/saved_models/Segmentalist_64bee077-...   \n",
       "7   /home/root/saved_models/Segmentalist_ff5c289d-...   \n",
       "8   /home/root/saved_models/Segmentalist_8a601d7c-...   \n",
       "9   /home/root/saved_models/Segmentalist_5bf57efd-...   \n",
       "10  /home/root/saved_models/Segmentalist_fbda0b3c-...   \n",
       "11  /home/root/saved_models/Segmentalist_fb4beb06-...   \n",
       "12  /home/root/saved_models/Segmentalist_f5968a30-...   \n",
       "13  /home/root/saved_models/Segmentalist_437f8334-...   \n",
       "14  /home/root/saved_models/Segmentalist_a28462f6-...   \n",
       "15  /home/root/saved_models/Segmentalist_ebacad1e-...   \n",
       "\n",
       "                                     lowest_loss_ckpt  \\\n",
       "0   /home/root/saved_models/Segmentalist_bcdf2b37-...   \n",
       "1                                                None   \n",
       "2   /home/root/saved_models/Segmentalist_54a6e24f-...   \n",
       "3   /home/root/saved_models/Segmentalist_d75295fb-...   \n",
       "4   /home/root/saved_models/Segmentalist_792be1c1-...   \n",
       "5   /home/root/saved_models/Segmentalist_50bfcbc9-...   \n",
       "6                                                None   \n",
       "7                                                None   \n",
       "8                                                None   \n",
       "9                                                None   \n",
       "10                                               None   \n",
       "11  /home/root/saved_models/Segmentalist_fb4beb06-...   \n",
       "12                                               None   \n",
       "13  /home/root/saved_models/Segmentalist_437f8334-...   \n",
       "14  /home/root/saved_models/Segmentalist_a28462f6-...   \n",
       "15                                               None   \n",
       "\n",
       "                                 lowest_val_loss_ckpt lowest_loss  \\\n",
       "0   /home/root/saved_models/Segmentalist_bcdf2b37-...     0.52538   \n",
       "1                                                None         NaN   \n",
       "2   /home/root/saved_models/Segmentalist_54a6e24f-...     0.31589   \n",
       "3   /home/root/saved_models/Segmentalist_d75295fb-...     0.32132   \n",
       "4   /home/root/saved_models/Segmentalist_792be1c1-...     0.27234   \n",
       "5   /home/root/saved_models/Segmentalist_50bfcbc9-...     0.35915   \n",
       "6                                                None         NaN   \n",
       "7                                                None         NaN   \n",
       "8                                                None         NaN   \n",
       "9                                                None         NaN   \n",
       "10                                               None         NaN   \n",
       "11  /home/root/saved_models/Segmentalist_fb4beb06-...     0.00148   \n",
       "12                                               None         NaN   \n",
       "13  /home/root/saved_models/Segmentalist_437f8334-...     0.01451   \n",
       "14  /home/root/saved_models/Segmentalist_a28462f6-...     0.16111   \n",
       "15                                               None         NaN   \n",
       "\n",
       "   lowest_val_loss X0_train y0_train X0_val y0_val  ...  \\\n",
       "0              0.0     None     None   None   None  ...   \n",
       "1              NaN     None     None   None   None  ...   \n",
       "2              0.0     None     None   None   None  ...   \n",
       "3              0.0     None     None   None   None  ...   \n",
       "4              0.0     None     None   None   None  ...   \n",
       "5              0.0     None     None   None   None  ...   \n",
       "6              NaN     None     None   None   None  ...   \n",
       "7              NaN     None     None   None   None  ...   \n",
       "8              NaN     None     None   None   None  ...   \n",
       "9              NaN     None     None   None   None  ...   \n",
       "10             NaN     None     None   None   None  ...   \n",
       "11             0.0     None     None   None   None  ...   \n",
       "12             NaN     None     None   None   None  ...   \n",
       "13             0.0     None     None   None   None  ...   \n",
       "14             0.0     None     None   None   None  ...   \n",
       "15             NaN     None     None   None   None  ...   \n",
       "\n",
       "        residual_filters_   sag save_to_cache seed   swa  \\\n",
       "0   [128, 256, 512, 1024]  True         False   42  True   \n",
       "1   [128, 256, 512, 1024]  True         False   42  True   \n",
       "2   [128, 256, 512, 1024]  True         False   42  True   \n",
       "3   [128, 256, 512, 1024]  True         False   42  True   \n",
       "4   [128, 256, 512, 1024]  True         False   42  True   \n",
       "5   [128, 256, 512, 1024]  True         False   42  True   \n",
       "6   [128, 256, 512, 1024]  True         False   42  True   \n",
       "7   [128, 256, 512, 1024]  True         False   42  True   \n",
       "8   [128, 256, 512, 1024]  True         False   42  True   \n",
       "9   [128, 256, 512, 1024]  True         False   42  True   \n",
       "10  [128, 256, 512, 1024]  True         False   42  True   \n",
       "11  [128, 256, 512, 1024]  True         False   42  True   \n",
       "12  [128, 256, 512, 1024]  True         False   42  True   \n",
       "13  [128, 256, 512, 1024]  True         False   42  True   \n",
       "14  [128, 256, 512, 1024]  True         False   42  True   \n",
       "15  [128, 256, 512, 1024]  True         False   42  True   \n",
       "\n",
       "   target_spatial_resolution test_frac use_cache use_val val_frac  \n",
       "0                        0.4       0.0     False   False      0.1  \n",
       "1                        0.6       0.0     False   False      0.1  \n",
       "2                        0.4       0.0     False   False      0.1  \n",
       "3                        0.4       0.0     False   False      0.1  \n",
       "4                        0.5       0.0     False   False      0.1  \n",
       "5                        0.6       0.0     False   False      0.1  \n",
       "6                        0.4       0.0     False   False      0.1  \n",
       "7                        0.4       0.0     False   False      0.1  \n",
       "8                        0.4       0.0     False   False      0.1  \n",
       "9                        0.4       0.0     False   False      0.1  \n",
       "10                       0.6       0.0     False   False      0.1  \n",
       "11                       0.4       0.0     False   False      0.1  \n",
       "12                       0.4       0.0     False   False      0.1  \n",
       "13                       0.4       0.0     False   False      0.1  \n",
       "14                       0.4       0.0     False   False      0.1  \n",
       "15                       0.6       0.0     False   False      0.1  \n",
       "\n",
       "[16 rows x 58 columns]"
      ]
     },
     "execution_count": 95,
     "metadata": {},
     "output_type": "execute_result"
    }
   ],
   "source": [
    "df_trained_models = utils.collate_run_data(Path(str(cfg.models_path)), model_name=\"Segmentalist\")\n",
    "df_trained_models\n",
    "# df_sorted = df_trained_models.sort_values(by='lowest_val_loss').query(\n",
    "#     f'datasets == \"{args.training_datasets}\" and loss_fn == \"{args.loss_fn}\"')"
   ]
  },
  {
   "cell_type": "code",
   "execution_count": 41,
   "metadata": {},
   "outputs": [
    {
     "name": "stdout",
     "output_type": "stream",
     "text": [
      "Object `gim_cv.training.get_run_data` not found.\n"
     ]
    }
   ],
   "source": [
    "gim_cv.training.get_run_data??"
   ]
  },
  {
   "cell_type": "code",
   "execution_count": 15,
   "metadata": {},
   "outputs": [],
   "source": [
    "from gim_cv.training import get_run_data"
   ]
  },
  {
   "cell_type": "code",
   "execution_count": 16,
   "metadata": {},
   "outputs": [],
   "source": [
    "get_run_data??"
   ]
  },
  {
   "cell_type": "code",
   "execution_count": 60,
   "metadata": {},
   "outputs": [
    {
     "ename": "SyntaxError",
     "evalue": "invalid syntax (<ipython-input-60-f75660a912aa>, line 9)",
     "output_type": "error",
     "traceback": [
      "\u001b[0;36m  File \u001b[0;32m\"<ipython-input-60-f75660a912aa>\"\u001b[0;36m, line \u001b[0;32m9\u001b[0m\n\u001b[0;31m    re.match(f'{model_name}''_(\\w+-){,4}\\w+$',str(m.parts[-1])):\u001b[0m\n\u001b[0m                                                                 ^\u001b[0m\n\u001b[0;31mSyntaxError\u001b[0m\u001b[0;31m:\u001b[0m invalid syntax\n"
     ]
    }
   ],
   "source": [
    "from glob import glob\n",
    "\n",
    "model_dir1 = '/home/root/saved_models/'\n",
    "# model_dir1 = re.compile (model_dir1)\n",
    "model_name = 'Segmentalist'\n",
    "alist =  glob('/home/root/saved_models/*')\n",
    "\n",
    "for m in glob(f'{model_dir1}{model_name}_*'):\n",
    "    re.match(f'{model_name}''_(\\w+-){,4}\\w+$',str(m.parts[-1])): \n",
    "        print (0)"
   ]
  },
  {
   "cell_type": "code",
   "execution_count": 58,
   "metadata": {},
   "outputs": [
    {
     "name": "stdout",
     "output_type": "stream",
     "text": [
      "re.compile('/home/root/saved_models/')Segmentalist_*\n"
     ]
    }
   ],
   "source": [
    "print(f'{model_dir1}{model_name}_*')"
   ]
  },
  {
   "cell_type": "code",
   "execution_count": null,
   "metadata": {},
   "outputs": [],
   "source": [
    "df_train = get_run_data(checkpoint_dir)"
   ]
  },
  {
   "cell_type": "code",
   "execution_count": 47,
   "metadata": {},
   "outputs": [
    {
     "name": "stdout",
     "output_type": "stream",
     "text": [
      "['run_params.yml', 'cp-e01-ji1.48150-l-0.18398-vl0.00.ckpt.data-00001-of-00002', 'cp-e02-ji1.50929-l-0.19593-vl0.00.ckpt.index', 'cp-e03-ji1.52074-l-0.20076-vl0.00.ckpt.data-00001-of-00002', 'checkpoint', 'cp-e03-ji1.52074-l-0.20076-vl0.00.ckpt.data-00000-of-00002', 'transform.yml', 'cp-e03-ji1.52074-l-0.20076-vl0.00.ckpt.index', 'cp-e01-ji1.48150-l-0.18398-vl0.00.ckpt.index', 'cp-e01-ji1.48150-l-0.18398-vl0.00.ckpt.data-00000-of-00002', 'metrics', 'cp-e02-ji1.50929-l-0.19593-vl0.00.ckpt.data-00000-of-00002', 'cp-e02-ji1.50929-l-0.19593-vl0.00.ckpt.data-00001-of-00002']\n"
     ]
    },
    {
     "ename": "ConstructorError",
     "evalue": "could not determine a constructor for the tag 'tag:yaml.org,2002:python/tuple'\n  in \"/home/root/saved_models/Segmentalist_92097dcb-0801-4653-9388-5fefe8093cac/run_params.yml\", line 17, column 20",
     "output_type": "error",
     "traceback": [
      "\u001b[0;31m------------------------------------------------------------------------\u001b[0m",
      "\u001b[0;31mConstructorError\u001b[0m                       Traceback (most recent call last)",
      "\u001b[0;32m<ipython-input-47-d4e645fa9738>\u001b[0m in \u001b[0;36m<module>\u001b[0;34m\u001b[0m\n\u001b[1;32m     58\u001b[0m }\n\u001b[1;32m     59\u001b[0m \u001b[0;32mwith\u001b[0m \u001b[0mopen\u001b[0m\u001b[0;34m(\u001b[0m\u001b[0mmodel_dir1\u001b[0m \u001b[0;34m/\u001b[0m \u001b[0mPath\u001b[0m\u001b[0;34m(\u001b[0m\u001b[0;34m'run_params.yml'\u001b[0m\u001b[0;34m)\u001b[0m\u001b[0;34m)\u001b[0m \u001b[0;32mas\u001b[0m \u001b[0mf\u001b[0m\u001b[0;34m:\u001b[0m\u001b[0;34m\u001b[0m\u001b[0;34m\u001b[0m\u001b[0m\n\u001b[0;32m---> 60\u001b[0;31m     \u001b[0mparams\u001b[0m \u001b[0;34m=\u001b[0m \u001b[0myaml\u001b[0m\u001b[0;34m.\u001b[0m\u001b[0mload\u001b[0m\u001b[0;34m(\u001b[0m\u001b[0mf\u001b[0m\u001b[0;34m,\u001b[0m \u001b[0mLoader\u001b[0m\u001b[0;34m=\u001b[0m\u001b[0myaml\u001b[0m\u001b[0;34m.\u001b[0m\u001b[0mSafeLoader\u001b[0m\u001b[0;34m)\u001b[0m\u001b[0;34m\u001b[0m\u001b[0;34m\u001b[0m\u001b[0m\n\u001b[0m\u001b[1;32m     61\u001b[0m \u001b[0mmetadata\u001b[0m\u001b[0;34m.\u001b[0m\u001b[0mupdate\u001b[0m\u001b[0;34m(\u001b[0m\u001b[0mparams\u001b[0m\u001b[0;34m)\u001b[0m\u001b[0;34m\u001b[0m\u001b[0;34m\u001b[0m\u001b[0m\n\u001b[1;32m     62\u001b[0m \u001b[0;32mif\u001b[0m \u001b[0mdataset_aliases\u001b[0m\u001b[0;34m:\u001b[0m\u001b[0;34m\u001b[0m\u001b[0;34m\u001b[0m\u001b[0m\n",
      "\u001b[0;32m/opt/conda/envs/gim_cv_gpu/lib/python3.8/site-packages/yaml/__init__.py\u001b[0m in \u001b[0;36mload\u001b[0;34m(stream, Loader)\u001b[0m\n\u001b[1;32m    112\u001b[0m     \u001b[0mloader\u001b[0m \u001b[0;34m=\u001b[0m \u001b[0mLoader\u001b[0m\u001b[0;34m(\u001b[0m\u001b[0mstream\u001b[0m\u001b[0;34m)\u001b[0m\u001b[0;34m\u001b[0m\u001b[0;34m\u001b[0m\u001b[0m\n\u001b[1;32m    113\u001b[0m     \u001b[0;32mtry\u001b[0m\u001b[0;34m:\u001b[0m\u001b[0;34m\u001b[0m\u001b[0;34m\u001b[0m\u001b[0m\n\u001b[0;32m--> 114\u001b[0;31m         \u001b[0;32mreturn\u001b[0m \u001b[0mloader\u001b[0m\u001b[0;34m.\u001b[0m\u001b[0mget_single_data\u001b[0m\u001b[0;34m(\u001b[0m\u001b[0;34m)\u001b[0m\u001b[0;34m\u001b[0m\u001b[0;34m\u001b[0m\u001b[0m\n\u001b[0m\u001b[1;32m    115\u001b[0m     \u001b[0;32mfinally\u001b[0m\u001b[0;34m:\u001b[0m\u001b[0;34m\u001b[0m\u001b[0;34m\u001b[0m\u001b[0m\n\u001b[1;32m    116\u001b[0m         \u001b[0mloader\u001b[0m\u001b[0;34m.\u001b[0m\u001b[0mdispose\u001b[0m\u001b[0;34m(\u001b[0m\u001b[0;34m)\u001b[0m\u001b[0;34m\u001b[0m\u001b[0;34m\u001b[0m\u001b[0m\n",
      "\u001b[0;32m/opt/conda/envs/gim_cv_gpu/lib/python3.8/site-packages/yaml/constructor.py\u001b[0m in \u001b[0;36mget_single_data\u001b[0;34m(self)\u001b[0m\n\u001b[1;32m     49\u001b[0m         \u001b[0mnode\u001b[0m \u001b[0;34m=\u001b[0m \u001b[0mself\u001b[0m\u001b[0;34m.\u001b[0m\u001b[0mget_single_node\u001b[0m\u001b[0;34m(\u001b[0m\u001b[0;34m)\u001b[0m\u001b[0;34m\u001b[0m\u001b[0;34m\u001b[0m\u001b[0m\n\u001b[1;32m     50\u001b[0m         \u001b[0;32mif\u001b[0m \u001b[0mnode\u001b[0m \u001b[0;32mis\u001b[0m \u001b[0;32mnot\u001b[0m \u001b[0;32mNone\u001b[0m\u001b[0;34m:\u001b[0m\u001b[0;34m\u001b[0m\u001b[0;34m\u001b[0m\u001b[0m\n\u001b[0;32m---> 51\u001b[0;31m             \u001b[0;32mreturn\u001b[0m \u001b[0mself\u001b[0m\u001b[0;34m.\u001b[0m\u001b[0mconstruct_document\u001b[0m\u001b[0;34m(\u001b[0m\u001b[0mnode\u001b[0m\u001b[0;34m)\u001b[0m\u001b[0;34m\u001b[0m\u001b[0;34m\u001b[0m\u001b[0m\n\u001b[0m\u001b[1;32m     52\u001b[0m         \u001b[0;32mreturn\u001b[0m \u001b[0;32mNone\u001b[0m\u001b[0;34m\u001b[0m\u001b[0;34m\u001b[0m\u001b[0m\n\u001b[1;32m     53\u001b[0m \u001b[0;34m\u001b[0m\u001b[0m\n",
      "\u001b[0;32m/opt/conda/envs/gim_cv_gpu/lib/python3.8/site-packages/yaml/constructor.py\u001b[0m in \u001b[0;36mconstruct_document\u001b[0;34m(self, node)\u001b[0m\n\u001b[1;32m     58\u001b[0m             \u001b[0mself\u001b[0m\u001b[0;34m.\u001b[0m\u001b[0mstate_generators\u001b[0m \u001b[0;34m=\u001b[0m \u001b[0;34m[\u001b[0m\u001b[0;34m]\u001b[0m\u001b[0;34m\u001b[0m\u001b[0;34m\u001b[0m\u001b[0m\n\u001b[1;32m     59\u001b[0m             \u001b[0;32mfor\u001b[0m \u001b[0mgenerator\u001b[0m \u001b[0;32min\u001b[0m \u001b[0mstate_generators\u001b[0m\u001b[0;34m:\u001b[0m\u001b[0;34m\u001b[0m\u001b[0;34m\u001b[0m\u001b[0m\n\u001b[0;32m---> 60\u001b[0;31m                 \u001b[0;32mfor\u001b[0m \u001b[0mdummy\u001b[0m \u001b[0;32min\u001b[0m \u001b[0mgenerator\u001b[0m\u001b[0;34m:\u001b[0m\u001b[0;34m\u001b[0m\u001b[0;34m\u001b[0m\u001b[0m\n\u001b[0m\u001b[1;32m     61\u001b[0m                     \u001b[0;32mpass\u001b[0m\u001b[0;34m\u001b[0m\u001b[0;34m\u001b[0m\u001b[0m\n\u001b[1;32m     62\u001b[0m         \u001b[0mself\u001b[0m\u001b[0;34m.\u001b[0m\u001b[0mconstructed_objects\u001b[0m \u001b[0;34m=\u001b[0m \u001b[0;34m{\u001b[0m\u001b[0;34m}\u001b[0m\u001b[0;34m\u001b[0m\u001b[0;34m\u001b[0m\u001b[0m\n",
      "\u001b[0;32m/opt/conda/envs/gim_cv_gpu/lib/python3.8/site-packages/yaml/constructor.py\u001b[0m in \u001b[0;36mconstruct_yaml_map\u001b[0;34m(self, node)\u001b[0m\n\u001b[1;32m    411\u001b[0m         \u001b[0mdata\u001b[0m \u001b[0;34m=\u001b[0m \u001b[0;34m{\u001b[0m\u001b[0;34m}\u001b[0m\u001b[0;34m\u001b[0m\u001b[0;34m\u001b[0m\u001b[0m\n\u001b[1;32m    412\u001b[0m         \u001b[0;32myield\u001b[0m \u001b[0mdata\u001b[0m\u001b[0;34m\u001b[0m\u001b[0;34m\u001b[0m\u001b[0m\n\u001b[0;32m--> 413\u001b[0;31m         \u001b[0mvalue\u001b[0m \u001b[0;34m=\u001b[0m \u001b[0mself\u001b[0m\u001b[0;34m.\u001b[0m\u001b[0mconstruct_mapping\u001b[0m\u001b[0;34m(\u001b[0m\u001b[0mnode\u001b[0m\u001b[0;34m)\u001b[0m\u001b[0;34m\u001b[0m\u001b[0;34m\u001b[0m\u001b[0m\n\u001b[0m\u001b[1;32m    414\u001b[0m         \u001b[0mdata\u001b[0m\u001b[0;34m.\u001b[0m\u001b[0mupdate\u001b[0m\u001b[0;34m(\u001b[0m\u001b[0mvalue\u001b[0m\u001b[0;34m)\u001b[0m\u001b[0;34m\u001b[0m\u001b[0;34m\u001b[0m\u001b[0m\n\u001b[1;32m    415\u001b[0m \u001b[0;34m\u001b[0m\u001b[0m\n",
      "\u001b[0;32m/opt/conda/envs/gim_cv_gpu/lib/python3.8/site-packages/yaml/constructor.py\u001b[0m in \u001b[0;36mconstruct_mapping\u001b[0;34m(self, node, deep)\u001b[0m\n\u001b[1;32m    216\u001b[0m         \u001b[0;32mif\u001b[0m \u001b[0misinstance\u001b[0m\u001b[0;34m(\u001b[0m\u001b[0mnode\u001b[0m\u001b[0;34m,\u001b[0m \u001b[0mMappingNode\u001b[0m\u001b[0;34m)\u001b[0m\u001b[0;34m:\u001b[0m\u001b[0;34m\u001b[0m\u001b[0;34m\u001b[0m\u001b[0m\n\u001b[1;32m    217\u001b[0m             \u001b[0mself\u001b[0m\u001b[0;34m.\u001b[0m\u001b[0mflatten_mapping\u001b[0m\u001b[0;34m(\u001b[0m\u001b[0mnode\u001b[0m\u001b[0;34m)\u001b[0m\u001b[0;34m\u001b[0m\u001b[0;34m\u001b[0m\u001b[0m\n\u001b[0;32m--> 218\u001b[0;31m         \u001b[0;32mreturn\u001b[0m \u001b[0msuper\u001b[0m\u001b[0;34m(\u001b[0m\u001b[0;34m)\u001b[0m\u001b[0;34m.\u001b[0m\u001b[0mconstruct_mapping\u001b[0m\u001b[0;34m(\u001b[0m\u001b[0mnode\u001b[0m\u001b[0;34m,\u001b[0m \u001b[0mdeep\u001b[0m\u001b[0;34m=\u001b[0m\u001b[0mdeep\u001b[0m\u001b[0;34m)\u001b[0m\u001b[0;34m\u001b[0m\u001b[0;34m\u001b[0m\u001b[0m\n\u001b[0m\u001b[1;32m    219\u001b[0m \u001b[0;34m\u001b[0m\u001b[0m\n\u001b[1;32m    220\u001b[0m     \u001b[0;32mdef\u001b[0m \u001b[0mconstruct_yaml_null\u001b[0m\u001b[0;34m(\u001b[0m\u001b[0mself\u001b[0m\u001b[0;34m,\u001b[0m \u001b[0mnode\u001b[0m\u001b[0;34m)\u001b[0m\u001b[0;34m:\u001b[0m\u001b[0;34m\u001b[0m\u001b[0;34m\u001b[0m\u001b[0m\n",
      "\u001b[0;32m/opt/conda/envs/gim_cv_gpu/lib/python3.8/site-packages/yaml/constructor.py\u001b[0m in \u001b[0;36mconstruct_mapping\u001b[0;34m(self, node, deep)\u001b[0m\n\u001b[1;32m    141\u001b[0m                 raise ConstructorError(\"while constructing a mapping\", node.start_mark,\n\u001b[1;32m    142\u001b[0m                         \"found unhashable key\", key_node.start_mark)\n\u001b[0;32m--> 143\u001b[0;31m             \u001b[0mvalue\u001b[0m \u001b[0;34m=\u001b[0m \u001b[0mself\u001b[0m\u001b[0;34m.\u001b[0m\u001b[0mconstruct_object\u001b[0m\u001b[0;34m(\u001b[0m\u001b[0mvalue_node\u001b[0m\u001b[0;34m,\u001b[0m \u001b[0mdeep\u001b[0m\u001b[0;34m=\u001b[0m\u001b[0mdeep\u001b[0m\u001b[0;34m)\u001b[0m\u001b[0;34m\u001b[0m\u001b[0;34m\u001b[0m\u001b[0m\n\u001b[0m\u001b[1;32m    144\u001b[0m             \u001b[0mmapping\u001b[0m\u001b[0;34m[\u001b[0m\u001b[0mkey\u001b[0m\u001b[0;34m]\u001b[0m \u001b[0;34m=\u001b[0m \u001b[0mvalue\u001b[0m\u001b[0;34m\u001b[0m\u001b[0;34m\u001b[0m\u001b[0m\n\u001b[1;32m    145\u001b[0m         \u001b[0;32mreturn\u001b[0m \u001b[0mmapping\u001b[0m\u001b[0;34m\u001b[0m\u001b[0;34m\u001b[0m\u001b[0m\n",
      "\u001b[0;32m/opt/conda/envs/gim_cv_gpu/lib/python3.8/site-packages/yaml/constructor.py\u001b[0m in \u001b[0;36mconstruct_object\u001b[0;34m(self, node, deep)\u001b[0m\n\u001b[1;32m     98\u001b[0m                     \u001b[0mconstructor\u001b[0m \u001b[0;34m=\u001b[0m \u001b[0mself\u001b[0m\u001b[0;34m.\u001b[0m\u001b[0m__class__\u001b[0m\u001b[0;34m.\u001b[0m\u001b[0mconstruct_mapping\u001b[0m\u001b[0;34m\u001b[0m\u001b[0;34m\u001b[0m\u001b[0m\n\u001b[1;32m     99\u001b[0m         \u001b[0;32mif\u001b[0m \u001b[0mtag_suffix\u001b[0m \u001b[0;32mis\u001b[0m \u001b[0;32mNone\u001b[0m\u001b[0;34m:\u001b[0m\u001b[0;34m\u001b[0m\u001b[0;34m\u001b[0m\u001b[0m\n\u001b[0;32m--> 100\u001b[0;31m             \u001b[0mdata\u001b[0m \u001b[0;34m=\u001b[0m \u001b[0mconstructor\u001b[0m\u001b[0;34m(\u001b[0m\u001b[0mself\u001b[0m\u001b[0;34m,\u001b[0m \u001b[0mnode\u001b[0m\u001b[0;34m)\u001b[0m\u001b[0;34m\u001b[0m\u001b[0;34m\u001b[0m\u001b[0m\n\u001b[0m\u001b[1;32m    101\u001b[0m         \u001b[0;32melse\u001b[0m\u001b[0;34m:\u001b[0m\u001b[0;34m\u001b[0m\u001b[0;34m\u001b[0m\u001b[0m\n\u001b[1;32m    102\u001b[0m             \u001b[0mdata\u001b[0m \u001b[0;34m=\u001b[0m \u001b[0mconstructor\u001b[0m\u001b[0;34m(\u001b[0m\u001b[0mself\u001b[0m\u001b[0;34m,\u001b[0m \u001b[0mtag_suffix\u001b[0m\u001b[0;34m,\u001b[0m \u001b[0mnode\u001b[0m\u001b[0;34m)\u001b[0m\u001b[0;34m\u001b[0m\u001b[0;34m\u001b[0m\u001b[0m\n",
      "\u001b[0;32m/opt/conda/envs/gim_cv_gpu/lib/python3.8/site-packages/yaml/constructor.py\u001b[0m in \u001b[0;36mconstruct_undefined\u001b[0;34m(self, node)\u001b[0m\n\u001b[1;32m    425\u001b[0m \u001b[0;34m\u001b[0m\u001b[0m\n\u001b[1;32m    426\u001b[0m     \u001b[0;32mdef\u001b[0m \u001b[0mconstruct_undefined\u001b[0m\u001b[0;34m(\u001b[0m\u001b[0mself\u001b[0m\u001b[0;34m,\u001b[0m \u001b[0mnode\u001b[0m\u001b[0;34m)\u001b[0m\u001b[0;34m:\u001b[0m\u001b[0;34m\u001b[0m\u001b[0;34m\u001b[0m\u001b[0m\n\u001b[0;32m--> 427\u001b[0;31m         raise ConstructorError(None, None,\n\u001b[0m\u001b[1;32m    428\u001b[0m                 \u001b[0;34m\"could not determine a constructor for the tag %r\"\u001b[0m \u001b[0;34m%\u001b[0m \u001b[0mnode\u001b[0m\u001b[0;34m.\u001b[0m\u001b[0mtag\u001b[0m\u001b[0;34m,\u001b[0m\u001b[0;34m\u001b[0m\u001b[0;34m\u001b[0m\u001b[0m\n\u001b[1;32m    429\u001b[0m                 node.start_mark)\n",
      "\u001b[0;31mConstructorError\u001b[0m: could not determine a constructor for the tag 'tag:yaml.org,2002:python/tuple'\n  in \"/home/root/saved_models/Segmentalist_92097dcb-0801-4653-9388-5fefe8093cac/run_params.yml\", line 17, column 20"
     ]
    }
   ],
   "source": [
    "from glob import glob\n",
    "\n",
    "model_dir1 = '/home/root/saved_models/Segmentalist_92097dcb-0801-4653-9388-5fefe8093cac'\n",
    "print(os.listdir(model_dir1))\n",
    "cp_ptn:str=(\n",
    "    'cp-e(?P<epoch>\\d+)(-ji(?P<ji>[\\d.]+))?-l(?P<loss>[\\d.]+)'\n",
    "    '-vl(?P<val_loss>[\\d.]+).ckpt.index'\n",
    "    )\n",
    "uuid4_ = re.match('.*_(?P<uuid4>(\\w+-){,4}\\w+)$', str(model_dir1.parts[-1])).group('uuid4')\n",
    "ckpts = glob(model_dir1+'*.ckpt.index')\n",
    "base_paths, losses, val_losses, epochs = [], [], [], []\n",
    "for ckpt in ckpts:\n",
    "    base_paths.append(str(ckpt)[:-6]) # remove index\n",
    "    cp_match = re.match(\n",
    "        cp_ptn,\n",
    "        str(ckpt.parts[-1])\n",
    "    )\n",
    "    epochs.append(cp_match.group('epoch'))\n",
    "    losses.append(cp_match.group('loss'))\n",
    "    val_losses.append(cp_match.group('val_loss'))\n",
    "best_trn_loss_ix = np.argmin(losses) if losses else 0\n",
    "best_val_loss_ix = np.argmin(val_losses) if val_losses else 0\n",
    "try:\n",
    "    low_l_cp = base_paths[best_trn_loss_ix]\n",
    "    low_l = losses[best_trn_loss_ix]\n",
    "except IndexError:\n",
    "    low_l_cp = None\n",
    "    low_l = None\n",
    "try:\n",
    "    low_vl_cp = base_paths[best_val_loss_ix]\n",
    "    low_vl = losses[best_val_loss_ix]\n",
    "except IndexError:\n",
    "    low_vl_cp = None\n",
    "    low_vl = None\n",
    "try:\n",
    "    X0_train = list(glob(model_dir1+'X_train*.npy'))[0]\n",
    "    y0_train = list(glob(model_dir1+'y_train*.npy'))[0]\n",
    "except IndexError:\n",
    "    X0_train = None\n",
    "    y0_train = None\n",
    "try:\n",
    "    X0_val = list(glob(model_dir1+'X_val*.npy'))[0]\n",
    "    y0_val = list(glob(model_dir1+'y_val*.npy'))[0]\n",
    "except IndexError:\n",
    "    X0_val = None\n",
    "    y0_val = None\n",
    "metadata = {\n",
    "    'uuid4' : uuid4_,\n",
    "    'training_dir' : str(model_dir1),\n",
    "    'lowest_loss_ckpt' : low_l_cp,\n",
    "    'lowest_val_loss_ckpt' : low_vl_cp,\n",
    "    'lowest_loss' : np.float32(low_l),\n",
    "    'lowest_val_loss' : np.float32(low_vl),\n",
    "    'X0_train' : X0_train,\n",
    "    'y0_train' : y0_train,\n",
    "    'X0_val' : X0_val,\n",
    "    'y0_val' : y0_val\n",
    "}\n",
    "with open(model_dir1 / Path('run_params.yml')) as f:\n",
    "    params = yaml.load(f, Loader=yaml.SafeLoader)\n",
    "metadata.update(params)\n",
    "if dataset_aliases:\n",
    "    metadata['datasets_alias'] = dataset_aliases.get(metadata['datasets'], metadata['datasets'])\n",
    "pd.Series(metadata)"
   ]
  },
  {
   "cell_type": "code",
   "execution_count": null,
   "metadata": {},
   "outputs": [],
   "source": [
    "from glob import glob\n",
    "ckpts = glob(checkpoint_dir+'*.ckpt.index')\n",
    "ckpts"
   ]
  },
  {
   "cell_type": "code",
   "execution_count": 24,
   "metadata": {},
   "outputs": [
    {
     "ename": "AttributeError",
     "evalue": "'str' object has no attribute 'parts'",
     "output_type": "error",
     "traceback": [
      "\u001b[0;31m---------------------------------------------------------------------------\u001b[0m",
      "\u001b[0;31mAttributeError\u001b[0m                            Traceback (most recent call last)",
      "\u001b[0;32m<ipython-input-24-224b1190601b>\u001b[0m in \u001b[0;36m<module>\u001b[0;34m\u001b[0m\n\u001b[0;32m----> 1\u001b[0;31m get_run_data(model_dir=model_dir1,\n\u001b[0m\u001b[1;32m      2\u001b[0m                  cp_ptn=(\n\u001b[1;32m      3\u001b[0m                      \u001b[0;34m'cp-e(?P<epoch>\\d+)(-ji(?P<ji>[\\d.]+))?-l(?P<loss>[\\d.]+)'\u001b[0m\u001b[0;34m\u001b[0m\u001b[0;34m\u001b[0m\u001b[0m\n\u001b[1;32m      4\u001b[0m                      \u001b[0;34m'-vl(?P<val_loss>[\\d.]+).ckpt.index'\u001b[0m\u001b[0;34m\u001b[0m\u001b[0;34m\u001b[0m\u001b[0m\n\u001b[1;32m      5\u001b[0m                  ),\n",
      "\u001b[0;32m/home/root/gim_cv/training.py\u001b[0m in \u001b[0;36mget_run_data\u001b[0;34m(model_dir, cp_ptn, dataset_aliases)\u001b[0m\n\u001b[1;32m   1251\u001b[0m         \u001b[0mresolution\u001b[0m \u001b[0;32mand\u001b[0m \u001b[0mthe\u001b[0m \u001b[0mpaths\u001b[0m \u001b[0mto\u001b[0m \u001b[0mthe\u001b[0m \u001b[0mbest\u001b[0m \u001b[0mcheckpoints\u001b[0m\u001b[0;34m\u001b[0m\u001b[0;34m\u001b[0m\u001b[0m\n\u001b[1;32m   1252\u001b[0m     \"\"\"\n\u001b[0;32m-> 1253\u001b[0;31m     \u001b[0muuid4_\u001b[0m \u001b[0;34m=\u001b[0m \u001b[0mre\u001b[0m\u001b[0;34m.\u001b[0m\u001b[0mmatch\u001b[0m\u001b[0;34m(\u001b[0m\u001b[0;34m'.*_(?P<uuid4>(\\w+-){,4}\\w+)$'\u001b[0m\u001b[0;34m,\u001b[0m \u001b[0mstr\u001b[0m\u001b[0;34m(\u001b[0m\u001b[0mmodel_dir\u001b[0m\u001b[0;34m.\u001b[0m\u001b[0mparts\u001b[0m\u001b[0;34m[\u001b[0m\u001b[0;34m-\u001b[0m\u001b[0;36m1\u001b[0m\u001b[0;34m]\u001b[0m\u001b[0;34m)\u001b[0m\u001b[0;34m)\u001b[0m\u001b[0;34m.\u001b[0m\u001b[0mgroup\u001b[0m\u001b[0;34m(\u001b[0m\u001b[0;34m'uuid4'\u001b[0m\u001b[0;34m)\u001b[0m\u001b[0;34m\u001b[0m\u001b[0;34m\u001b[0m\u001b[0m\n\u001b[0m\u001b[1;32m   1254\u001b[0m     \u001b[0mckpts\u001b[0m \u001b[0;34m=\u001b[0m \u001b[0mmodel_dir\u001b[0m\u001b[0;34m.\u001b[0m\u001b[0mglob\u001b[0m\u001b[0;34m(\u001b[0m\u001b[0;34m'*.ckpt.index'\u001b[0m\u001b[0;34m)\u001b[0m\u001b[0;34m\u001b[0m\u001b[0;34m\u001b[0m\u001b[0m\n\u001b[1;32m   1255\u001b[0m     \u001b[0mbase_paths\u001b[0m\u001b[0;34m,\u001b[0m \u001b[0mlosses\u001b[0m\u001b[0;34m,\u001b[0m \u001b[0mval_losses\u001b[0m\u001b[0;34m,\u001b[0m \u001b[0mepochs\u001b[0m \u001b[0;34m=\u001b[0m \u001b[0;34m[\u001b[0m\u001b[0;34m]\u001b[0m\u001b[0;34m,\u001b[0m \u001b[0;34m[\u001b[0m\u001b[0;34m]\u001b[0m\u001b[0;34m,\u001b[0m \u001b[0;34m[\u001b[0m\u001b[0;34m]\u001b[0m\u001b[0;34m,\u001b[0m \u001b[0;34m[\u001b[0m\u001b[0;34m]\u001b[0m\u001b[0;34m\u001b[0m\u001b[0;34m\u001b[0m\u001b[0m\n",
      "\u001b[0;31mAttributeError\u001b[0m: 'str' object has no attribute 'parts'"
     ]
    }
   ],
   "source": []
  },
  {
   "cell_type": "code",
   "execution_count": 28,
   "metadata": {},
   "outputs": [
    {
     "ename": "AttributeError",
     "evalue": "'str' object has no attribute 'parts'",
     "output_type": "error",
     "traceback": [
      "\u001b[0;31m---------------------------------------------------------------------------\u001b[0m",
      "\u001b[0;31mAttributeError\u001b[0m                            Traceback (most recent call last)",
      "\u001b[0;32m<ipython-input-28-e1a4c2991adf>\u001b[0m in \u001b[0;36m<module>\u001b[0;34m\u001b[0m\n\u001b[0;32m----> 1\u001b[0;31m get_run_data(\n\u001b[0m\u001b[1;32m      2\u001b[0m     \u001b[0mmodel_dir\u001b[0m\u001b[0;34m=\u001b[0m\u001b[0mmodel_dir1\u001b[0m\u001b[0;34m,\u001b[0m\u001b[0;34m\u001b[0m\u001b[0;34m\u001b[0m\u001b[0m\n\u001b[1;32m      3\u001b[0m     \u001b[0mcp_ptn\u001b[0m\u001b[0;34m=\u001b[0m \u001b[0;34m'cp-e(?P<epoch>\\\\d+)(-ji(?P<ji>[\\\\d.]+))?-l(?P<loss>[\\\\d.]+)-vl(?P<val_loss>[\\\\d.]+).ckpt.index'\u001b[0m\u001b[0;34m,\u001b[0m\u001b[0;34m\u001b[0m\u001b[0;34m\u001b[0m\u001b[0m\n\u001b[1;32m      4\u001b[0m     \u001b[0mdataset_aliases\u001b[0m\u001b[0;34m=\u001b[0m\u001b[0;32mNone\u001b[0m\u001b[0;34m,\u001b[0m\u001b[0;34m\u001b[0m\u001b[0;34m\u001b[0m\u001b[0m\n\u001b[1;32m      5\u001b[0m )\n",
      "\u001b[0;32m/home/root/gim_cv/training.py\u001b[0m in \u001b[0;36mget_run_data\u001b[0;34m(model_dir, cp_ptn, dataset_aliases)\u001b[0m\n\u001b[1;32m   1251\u001b[0m         \u001b[0mresolution\u001b[0m \u001b[0;32mand\u001b[0m \u001b[0mthe\u001b[0m \u001b[0mpaths\u001b[0m \u001b[0mto\u001b[0m \u001b[0mthe\u001b[0m \u001b[0mbest\u001b[0m \u001b[0mcheckpoints\u001b[0m\u001b[0;34m\u001b[0m\u001b[0;34m\u001b[0m\u001b[0m\n\u001b[1;32m   1252\u001b[0m     \"\"\"\n\u001b[0;32m-> 1253\u001b[0;31m     \u001b[0muuid4_\u001b[0m \u001b[0;34m=\u001b[0m \u001b[0mre\u001b[0m\u001b[0;34m.\u001b[0m\u001b[0mmatch\u001b[0m\u001b[0;34m(\u001b[0m\u001b[0;34m'.*_(?P<uuid4>(\\w+-){,4}\\w+)$'\u001b[0m\u001b[0;34m,\u001b[0m \u001b[0mstr\u001b[0m\u001b[0;34m(\u001b[0m\u001b[0mmodel_dir\u001b[0m\u001b[0;34m.\u001b[0m\u001b[0mparts\u001b[0m\u001b[0;34m[\u001b[0m\u001b[0;34m-\u001b[0m\u001b[0;36m1\u001b[0m\u001b[0;34m]\u001b[0m\u001b[0;34m)\u001b[0m\u001b[0;34m)\u001b[0m\u001b[0;34m.\u001b[0m\u001b[0mgroup\u001b[0m\u001b[0;34m(\u001b[0m\u001b[0;34m'uuid4'\u001b[0m\u001b[0;34m)\u001b[0m\u001b[0;34m\u001b[0m\u001b[0;34m\u001b[0m\u001b[0m\n\u001b[0m\u001b[1;32m   1254\u001b[0m     \u001b[0mckpts\u001b[0m \u001b[0;34m=\u001b[0m \u001b[0mmodel_dir\u001b[0m\u001b[0;34m.\u001b[0m\u001b[0mglob\u001b[0m\u001b[0;34m(\u001b[0m\u001b[0;34m'*.ckpt.index'\u001b[0m\u001b[0;34m)\u001b[0m\u001b[0;34m\u001b[0m\u001b[0;34m\u001b[0m\u001b[0m\n\u001b[1;32m   1255\u001b[0m     \u001b[0mbase_paths\u001b[0m\u001b[0;34m,\u001b[0m \u001b[0mlosses\u001b[0m\u001b[0;34m,\u001b[0m \u001b[0mval_losses\u001b[0m\u001b[0;34m,\u001b[0m \u001b[0mepochs\u001b[0m \u001b[0;34m=\u001b[0m \u001b[0;34m[\u001b[0m\u001b[0;34m]\u001b[0m\u001b[0;34m,\u001b[0m \u001b[0;34m[\u001b[0m\u001b[0;34m]\u001b[0m\u001b[0;34m,\u001b[0m \u001b[0;34m[\u001b[0m\u001b[0;34m]\u001b[0m\u001b[0;34m,\u001b[0m \u001b[0;34m[\u001b[0m\u001b[0;34m]\u001b[0m\u001b[0;34m\u001b[0m\u001b[0;34m\u001b[0m\u001b[0m\n",
      "\u001b[0;31mAttributeError\u001b[0m: 'str' object has no attribute 'parts'"
     ]
    }
   ],
   "source": [
    "get_run_data(\n",
    "    model_dir=model_dir1,\n",
    "    cp_ptn= 'cp-e(?P<epoch>\\\\d+)(-ji(?P<ji>[\\\\d.]+))?-l(?P<loss>[\\\\d.]+)-vl(?P<val_loss>[\\\\d.]+).ckpt.index',\n",
    "    dataset_aliases=None,\n",
    ")"
   ]
  },
  {
   "cell_type": "code",
   "execution_count": 33,
   "metadata": {},
   "outputs": [
    {
     "data": {
      "text/plain": [
       "<tensorflow.python.training.tracking.util.CheckpointLoadStatus at 0x7fe32c1418e0>"
      ]
     },
     "execution_count": 33,
     "metadata": {},
     "output_type": "execute_result"
    }
   ],
   "source": [
    "os.listdir(checkpoint_dir)\n",
    "latest = tf.train.latest_checkpoint(checkpoint_dir)\n",
    "latest\n",
    "\n",
    "# Load the lastest saved weights\n",
    "row1 = model.load_weights(latest)\n",
    "row1"
   ]
  },
  {
   "cell_type": "code",
   "execution_count": 34,
   "metadata": {},
   "outputs": [
    {
     "ename": "AttributeError",
     "evalue": "'CheckpointLoadStatus' object has no attribute 'sag'",
     "output_type": "error",
     "traceback": [
      "\u001b[0;31m---------------------------------------------------------------------------\u001b[0m",
      "\u001b[0;31mAttributeError\u001b[0m                            Traceback (most recent call last)",
      "\u001b[0;32m<ipython-input-34-bb1ec0d5d4d5>\u001b[0m in \u001b[0;36m<module>\u001b[0;34m\u001b[0m\n\u001b[1;32m      2\u001b[0m \u001b[0;34m\u001b[0m\u001b[0m\n\u001b[1;32m      3\u001b[0m \u001b[0;31m# load again with new patch shape\u001b[0m\u001b[0;34m\u001b[0m\u001b[0;34m\u001b[0m\u001b[0;34m\u001b[0m\u001b[0m\n\u001b[0;32m----> 4\u001b[0;31m \u001b[0mmodel\u001b[0m \u001b[0;34m=\u001b[0m \u001b[0mSegmentalist\u001b[0m\u001b[0;34m.\u001b[0m\u001b[0mload_from_metadata\u001b[0m\u001b[0;34m(\u001b[0m\u001b[0mrow\u001b[0m\u001b[0;34m=\u001b[0m\u001b[0mrow1\u001b[0m\u001b[0;34m)\u001b[0m\u001b[0;34m\u001b[0m\u001b[0;34m\u001b[0m\u001b[0m\n\u001b[0m\u001b[1;32m      5\u001b[0m \u001b[0;31m# shouldn't have to run these lines, LRM will look at the method above and fix so weight loading is included properly...\u001b[0m\u001b[0;34m\u001b[0m\u001b[0;34m\u001b[0m\u001b[0;34m\u001b[0m\u001b[0m\n\u001b[1;32m      6\u001b[0m \u001b[0;31m# workaround which fixes weight loading; \"prime\" model on something of the right shape\u001b[0m\u001b[0;34m\u001b[0m\u001b[0;34m\u001b[0m\u001b[0;34m\u001b[0m\u001b[0m\n",
      "\u001b[0;32m/home/root/gim_cv/models/segmentalist.py\u001b[0m in \u001b[0;36mload_from_metadata\u001b[0;34m(cls, row, val)\u001b[0m\n\u001b[1;32m    346\u001b[0m             \u001b[0;32mwith\u001b[0m \u001b[0mthe\u001b[0m \u001b[0mlowest\u001b[0m \u001b[0mvalidation\u001b[0m \u001b[0;32mor\u001b[0m \u001b[0mtraining\u001b[0m \u001b[0mloss\u001b[0m \u001b[0mcheckpoints\u001b[0m\u001b[0;34m\u001b[0m\u001b[0;34m\u001b[0m\u001b[0m\n\u001b[1;32m    347\u001b[0m         \"\"\"\n\u001b[0;32m--> 348\u001b[0;31m         \u001b[0;32mif\u001b[0m \u001b[0mrow\u001b[0m\u001b[0;34m.\u001b[0m\u001b[0msag\u001b[0m\u001b[0;34m:\u001b[0m\u001b[0;34m\u001b[0m\u001b[0;34m\u001b[0m\u001b[0m\n\u001b[0m\u001b[1;32m    349\u001b[0m             \u001b[0mdecoder_ag\u001b[0m \u001b[0;34m=\u001b[0m \u001b[0;34m'SAG'\u001b[0m\u001b[0;34m\u001b[0m\u001b[0;34m\u001b[0m\u001b[0m\n\u001b[1;32m    350\u001b[0m         \u001b[0;32melif\u001b[0m \u001b[0mrow\u001b[0m\u001b[0;34m.\u001b[0m\u001b[0mcsag\u001b[0m\u001b[0;34m:\u001b[0m\u001b[0;34m\u001b[0m\u001b[0;34m\u001b[0m\u001b[0m\n",
      "\u001b[0;31mAttributeError\u001b[0m: 'CheckpointLoadStatus' object has no attribute 'sag'"
     ]
    }
   ],
   "source": [
    "inference_window_size = 1024\n",
    "\n",
    "# load again with new patch shape\n",
    "model = Segmentalist.load_from_metadata(row=row1)\n",
    "# shouldn't have to run these lines, LRM will look at the method above and fix so weight loading is included properly...\n",
    "# workaround which fixes weight loading; \"prime\" model on something of the right shape\n",
    "model(np.random.rand(1, inference_window_size, inference_window_size, 3))\n",
    "model.load_weights(row.lowest_loss_ckpt) # takes a wee minute\n",
    "model.stop_training = True"
   ]
  },
  {
   "cell_type": "code",
   "execution_count": null,
   "metadata": {},
   "outputs": [],
   "source": []
  }
 ],
 "metadata": {
  "kernelspec": {
   "display_name": "Python 3",
   "language": "python",
   "name": "python3"
  },
  "language_info": {
   "codemirror_mode": {
    "name": "ipython",
    "version": 3
   },
   "file_extension": ".py",
   "mimetype": "text/x-python",
   "name": "python",
   "nbconvert_exporter": "python",
   "pygments_lexer": "ipython3",
   "version": "3.8.10 (default, Nov 14 2022, 12:59:47) \n[GCC 9.4.0]"
  },
  "vscode": {
   "interpreter": {
    "hash": "916dbcbb3f70747c44a77c7bcd40155683ae19c65e1c03b4aa3499c5328201f1"
   }
  }
 },
 "nbformat": 4,
 "nbformat_minor": 4
}
